{
 "cells": [
  {
   "cell_type": "code",
   "execution_count": 1,
   "id": "9e5ae7ca",
   "metadata": {},
   "outputs": [],
   "source": [
    "# import basic libraries\n",
    "\n",
    "import pandas as pd\n",
    "import numpy as np\n",
    "\n",
    "# Visualization\n",
    "import matplotlib.pyplot as plt\n",
    "import seaborn as sns\n",
    "%matplotlib inline\n",
    "\n",
    "#warnings\n",
    "import warnings\n",
    "warnings.filterwarnings('ignore')"
   ]
  },
  {
   "cell_type": "code",
   "execution_count": 2,
   "id": "62046987",
   "metadata": {},
   "outputs": [
    {
     "data": {
      "text/html": [
       "<div>\n",
       "<style scoped>\n",
       "    .dataframe tbody tr th:only-of-type {\n",
       "        vertical-align: middle;\n",
       "    }\n",
       "\n",
       "    .dataframe tbody tr th {\n",
       "        vertical-align: top;\n",
       "    }\n",
       "\n",
       "    .dataframe thead th {\n",
       "        text-align: right;\n",
       "    }\n",
       "</style>\n",
       "<table border=\"1\" class=\"dataframe\">\n",
       "  <thead>\n",
       "    <tr style=\"text-align: right;\">\n",
       "      <th></th>\n",
       "      <th>customerID</th>\n",
       "      <th>gender</th>\n",
       "      <th>SeniorCitizen</th>\n",
       "      <th>Partner</th>\n",
       "      <th>Dependents</th>\n",
       "      <th>tenure</th>\n",
       "      <th>PhoneService</th>\n",
       "      <th>MultipleLines</th>\n",
       "      <th>InternetService</th>\n",
       "      <th>OnlineSecurity</th>\n",
       "      <th>...</th>\n",
       "      <th>DeviceProtection</th>\n",
       "      <th>TechSupport</th>\n",
       "      <th>StreamingTV</th>\n",
       "      <th>StreamingMovies</th>\n",
       "      <th>Contract</th>\n",
       "      <th>PaperlessBilling</th>\n",
       "      <th>PaymentMethod</th>\n",
       "      <th>MonthlyCharges</th>\n",
       "      <th>TotalCharges</th>\n",
       "      <th>Churn</th>\n",
       "    </tr>\n",
       "  </thead>\n",
       "  <tbody>\n",
       "    <tr>\n",
       "      <th>0</th>\n",
       "      <td>7590-VHVEG</td>\n",
       "      <td>Female</td>\n",
       "      <td>0</td>\n",
       "      <td>Yes</td>\n",
       "      <td>No</td>\n",
       "      <td>1</td>\n",
       "      <td>No</td>\n",
       "      <td>No phone service</td>\n",
       "      <td>DSL</td>\n",
       "      <td>No</td>\n",
       "      <td>...</td>\n",
       "      <td>No</td>\n",
       "      <td>No</td>\n",
       "      <td>No</td>\n",
       "      <td>No</td>\n",
       "      <td>Month-to-month</td>\n",
       "      <td>Yes</td>\n",
       "      <td>Electronic check</td>\n",
       "      <td>29.85</td>\n",
       "      <td>29.85</td>\n",
       "      <td>No</td>\n",
       "    </tr>\n",
       "    <tr>\n",
       "      <th>1</th>\n",
       "      <td>5575-GNVDE</td>\n",
       "      <td>Male</td>\n",
       "      <td>0</td>\n",
       "      <td>No</td>\n",
       "      <td>No</td>\n",
       "      <td>34</td>\n",
       "      <td>Yes</td>\n",
       "      <td>No</td>\n",
       "      <td>DSL</td>\n",
       "      <td>Yes</td>\n",
       "      <td>...</td>\n",
       "      <td>Yes</td>\n",
       "      <td>No</td>\n",
       "      <td>No</td>\n",
       "      <td>No</td>\n",
       "      <td>One year</td>\n",
       "      <td>No</td>\n",
       "      <td>Mailed check</td>\n",
       "      <td>56.95</td>\n",
       "      <td>1889.5</td>\n",
       "      <td>No</td>\n",
       "    </tr>\n",
       "    <tr>\n",
       "      <th>2</th>\n",
       "      <td>3668-QPYBK</td>\n",
       "      <td>Male</td>\n",
       "      <td>0</td>\n",
       "      <td>No</td>\n",
       "      <td>No</td>\n",
       "      <td>2</td>\n",
       "      <td>Yes</td>\n",
       "      <td>No</td>\n",
       "      <td>DSL</td>\n",
       "      <td>Yes</td>\n",
       "      <td>...</td>\n",
       "      <td>No</td>\n",
       "      <td>No</td>\n",
       "      <td>No</td>\n",
       "      <td>No</td>\n",
       "      <td>Month-to-month</td>\n",
       "      <td>Yes</td>\n",
       "      <td>Mailed check</td>\n",
       "      <td>53.85</td>\n",
       "      <td>108.15</td>\n",
       "      <td>Yes</td>\n",
       "    </tr>\n",
       "    <tr>\n",
       "      <th>3</th>\n",
       "      <td>7795-CFOCW</td>\n",
       "      <td>Male</td>\n",
       "      <td>0</td>\n",
       "      <td>No</td>\n",
       "      <td>No</td>\n",
       "      <td>45</td>\n",
       "      <td>No</td>\n",
       "      <td>No phone service</td>\n",
       "      <td>DSL</td>\n",
       "      <td>Yes</td>\n",
       "      <td>...</td>\n",
       "      <td>Yes</td>\n",
       "      <td>Yes</td>\n",
       "      <td>No</td>\n",
       "      <td>No</td>\n",
       "      <td>One year</td>\n",
       "      <td>No</td>\n",
       "      <td>Bank transfer (automatic)</td>\n",
       "      <td>42.30</td>\n",
       "      <td>1840.75</td>\n",
       "      <td>No</td>\n",
       "    </tr>\n",
       "    <tr>\n",
       "      <th>4</th>\n",
       "      <td>9237-HQITU</td>\n",
       "      <td>Female</td>\n",
       "      <td>0</td>\n",
       "      <td>No</td>\n",
       "      <td>No</td>\n",
       "      <td>2</td>\n",
       "      <td>Yes</td>\n",
       "      <td>No</td>\n",
       "      <td>Fiber optic</td>\n",
       "      <td>No</td>\n",
       "      <td>...</td>\n",
       "      <td>No</td>\n",
       "      <td>No</td>\n",
       "      <td>No</td>\n",
       "      <td>No</td>\n",
       "      <td>Month-to-month</td>\n",
       "      <td>Yes</td>\n",
       "      <td>Electronic check</td>\n",
       "      <td>70.70</td>\n",
       "      <td>151.65</td>\n",
       "      <td>Yes</td>\n",
       "    </tr>\n",
       "  </tbody>\n",
       "</table>\n",
       "<p>5 rows × 21 columns</p>\n",
       "</div>"
      ],
      "text/plain": [
       "   customerID  gender  SeniorCitizen Partner Dependents  tenure PhoneService  \\\n",
       "0  7590-VHVEG  Female              0     Yes         No       1           No   \n",
       "1  5575-GNVDE    Male              0      No         No      34          Yes   \n",
       "2  3668-QPYBK    Male              0      No         No       2          Yes   \n",
       "3  7795-CFOCW    Male              0      No         No      45           No   \n",
       "4  9237-HQITU  Female              0      No         No       2          Yes   \n",
       "\n",
       "      MultipleLines InternetService OnlineSecurity  ... DeviceProtection  \\\n",
       "0  No phone service             DSL             No  ...               No   \n",
       "1                No             DSL            Yes  ...              Yes   \n",
       "2                No             DSL            Yes  ...               No   \n",
       "3  No phone service             DSL            Yes  ...              Yes   \n",
       "4                No     Fiber optic             No  ...               No   \n",
       "\n",
       "  TechSupport StreamingTV StreamingMovies        Contract PaperlessBilling  \\\n",
       "0          No          No              No  Month-to-month              Yes   \n",
       "1          No          No              No        One year               No   \n",
       "2          No          No              No  Month-to-month              Yes   \n",
       "3         Yes          No              No        One year               No   \n",
       "4          No          No              No  Month-to-month              Yes   \n",
       "\n",
       "               PaymentMethod MonthlyCharges  TotalCharges Churn  \n",
       "0           Electronic check          29.85         29.85    No  \n",
       "1               Mailed check          56.95        1889.5    No  \n",
       "2               Mailed check          53.85        108.15   Yes  \n",
       "3  Bank transfer (automatic)          42.30       1840.75    No  \n",
       "4           Electronic check          70.70        151.65   Yes  \n",
       "\n",
       "[5 rows x 21 columns]"
      ]
     },
     "execution_count": 2,
     "metadata": {},
     "output_type": "execute_result"
    }
   ],
   "source": [
    "# getting dataset\n",
    "df=pd.read_csv('https://raw.githubusercontent.com/dsrscientist/DSData/master/Telecom_customer_churn.csv')\n",
    "df.head()"
   ]
  },
  {
   "cell_type": "code",
   "execution_count": 3,
   "id": "694e2045",
   "metadata": {},
   "outputs": [
    {
     "data": {
      "text/plain": [
       "(7043, 21)"
      ]
     },
     "execution_count": 3,
     "metadata": {},
     "output_type": "execute_result"
    }
   ],
   "source": [
    "# dimension\n",
    "df.shape"
   ]
  },
  {
   "cell_type": "code",
   "execution_count": 4,
   "id": "af834001",
   "metadata": {},
   "outputs": [
    {
     "name": "stdout",
     "output_type": "stream",
     "text": [
      "<class 'pandas.core.frame.DataFrame'>\n",
      "RangeIndex: 7043 entries, 0 to 7042\n",
      "Data columns (total 21 columns):\n",
      " #   Column            Non-Null Count  Dtype  \n",
      "---  ------            --------------  -----  \n",
      " 0   customerID        7043 non-null   object \n",
      " 1   gender            7043 non-null   object \n",
      " 2   SeniorCitizen     7043 non-null   int64  \n",
      " 3   Partner           7043 non-null   object \n",
      " 4   Dependents        7043 non-null   object \n",
      " 5   tenure            7043 non-null   int64  \n",
      " 6   PhoneService      7043 non-null   object \n",
      " 7   MultipleLines     7043 non-null   object \n",
      " 8   InternetService   7043 non-null   object \n",
      " 9   OnlineSecurity    7043 non-null   object \n",
      " 10  OnlineBackup      7043 non-null   object \n",
      " 11  DeviceProtection  7043 non-null   object \n",
      " 12  TechSupport       7043 non-null   object \n",
      " 13  StreamingTV       7043 non-null   object \n",
      " 14  StreamingMovies   7043 non-null   object \n",
      " 15  Contract          7043 non-null   object \n",
      " 16  PaperlessBilling  7043 non-null   object \n",
      " 17  PaymentMethod     7043 non-null   object \n",
      " 18  MonthlyCharges    7043 non-null   float64\n",
      " 19  TotalCharges      7043 non-null   object \n",
      " 20  Churn             7043 non-null   object \n",
      "dtypes: float64(1), int64(2), object(18)\n",
      "memory usage: 1.1+ MB\n"
     ]
    }
   ],
   "source": [
    "# information about dataset\n",
    "df.info()"
   ]
  },
  {
   "cell_type": "markdown",
   "id": "04fa273d",
   "metadata": {},
   "source": [
    "Dataset consist of both categorical and numerical columns. We also observe that dataset don't have any null values, so we can move ahead "
   ]
  },
  {
   "cell_type": "code",
   "execution_count": 5,
   "id": "3a8d32bd",
   "metadata": {},
   "outputs": [
    {
     "data": {
      "text/plain": [
       "customerID          7043\n",
       "gender                 2\n",
       "SeniorCitizen          2\n",
       "Partner                2\n",
       "Dependents             2\n",
       "tenure                73\n",
       "PhoneService           2\n",
       "MultipleLines          3\n",
       "InternetService        3\n",
       "OnlineSecurity         3\n",
       "OnlineBackup           3\n",
       "DeviceProtection       3\n",
       "TechSupport            3\n",
       "StreamingTV            3\n",
       "StreamingMovies        3\n",
       "Contract               3\n",
       "PaperlessBilling       2\n",
       "PaymentMethod          4\n",
       "MonthlyCharges      1585\n",
       "TotalCharges        6531\n",
       "Churn                  2\n",
       "dtype: int64"
      ]
     },
     "execution_count": 5,
     "metadata": {},
     "output_type": "execute_result"
    }
   ],
   "source": [
    "# let's see the unique values of our dataset\n",
    "\n",
    "df.nunique()"
   ]
  },
  {
   "cell_type": "markdown",
   "id": "defe4708",
   "metadata": {},
   "source": [
    "Here customerID is merely an id provided to the customer, we can drop it, as it doesnot help much in ML model Building. And also we can see that TotalCharges, has numerical data, but its datatype is Object here, let's check it."
   ]
  },
  {
   "cell_type": "code",
   "execution_count": 6,
   "id": "18ef1124",
   "metadata": {},
   "outputs": [
    {
     "data": {
      "text/plain": [
       "          11\n",
       "20.2      11\n",
       "19.75      9\n",
       "20.05      8\n",
       "19.9       8\n",
       "          ..\n",
       "6849.4     1\n",
       "692.35     1\n",
       "130.15     1\n",
       "3211.9     1\n",
       "6844.5     1\n",
       "Name: TotalCharges, Length: 6531, dtype: int64"
      ]
     },
     "execution_count": 6,
     "metadata": {},
     "output_type": "execute_result"
    }
   ],
   "source": [
    "df['TotalCharges'].value_counts()"
   ]
  },
  {
   "cell_type": "markdown",
   "id": "4aac0aaf",
   "metadata": {},
   "source": [
    "We can observe that it has 11 row with blankspace, which makes it object type column, let's chcek those rows first, then will replace them with nan. Then we will treat these Nan."
   ]
  },
  {
   "cell_type": "code",
   "execution_count": 7,
   "id": "50fe8ae7",
   "metadata": {},
   "outputs": [
    {
     "data": {
      "text/html": [
       "<div>\n",
       "<style scoped>\n",
       "    .dataframe tbody tr th:only-of-type {\n",
       "        vertical-align: middle;\n",
       "    }\n",
       "\n",
       "    .dataframe tbody tr th {\n",
       "        vertical-align: top;\n",
       "    }\n",
       "\n",
       "    .dataframe thead th {\n",
       "        text-align: right;\n",
       "    }\n",
       "</style>\n",
       "<table border=\"1\" class=\"dataframe\">\n",
       "  <thead>\n",
       "    <tr style=\"text-align: right;\">\n",
       "      <th></th>\n",
       "      <th>customerID</th>\n",
       "      <th>gender</th>\n",
       "      <th>SeniorCitizen</th>\n",
       "      <th>Partner</th>\n",
       "      <th>Dependents</th>\n",
       "      <th>tenure</th>\n",
       "      <th>PhoneService</th>\n",
       "      <th>MultipleLines</th>\n",
       "      <th>InternetService</th>\n",
       "      <th>OnlineSecurity</th>\n",
       "      <th>...</th>\n",
       "      <th>DeviceProtection</th>\n",
       "      <th>TechSupport</th>\n",
       "      <th>StreamingTV</th>\n",
       "      <th>StreamingMovies</th>\n",
       "      <th>Contract</th>\n",
       "      <th>PaperlessBilling</th>\n",
       "      <th>PaymentMethod</th>\n",
       "      <th>MonthlyCharges</th>\n",
       "      <th>TotalCharges</th>\n",
       "      <th>Churn</th>\n",
       "    </tr>\n",
       "  </thead>\n",
       "  <tbody>\n",
       "    <tr>\n",
       "      <th>488</th>\n",
       "      <td>4472-LVYGI</td>\n",
       "      <td>Female</td>\n",
       "      <td>0</td>\n",
       "      <td>Yes</td>\n",
       "      <td>Yes</td>\n",
       "      <td>0</td>\n",
       "      <td>No</td>\n",
       "      <td>No phone service</td>\n",
       "      <td>DSL</td>\n",
       "      <td>Yes</td>\n",
       "      <td>...</td>\n",
       "      <td>Yes</td>\n",
       "      <td>Yes</td>\n",
       "      <td>Yes</td>\n",
       "      <td>No</td>\n",
       "      <td>Two year</td>\n",
       "      <td>Yes</td>\n",
       "      <td>Bank transfer (automatic)</td>\n",
       "      <td>52.55</td>\n",
       "      <td></td>\n",
       "      <td>No</td>\n",
       "    </tr>\n",
       "    <tr>\n",
       "      <th>753</th>\n",
       "      <td>3115-CZMZD</td>\n",
       "      <td>Male</td>\n",
       "      <td>0</td>\n",
       "      <td>No</td>\n",
       "      <td>Yes</td>\n",
       "      <td>0</td>\n",
       "      <td>Yes</td>\n",
       "      <td>No</td>\n",
       "      <td>No</td>\n",
       "      <td>No internet service</td>\n",
       "      <td>...</td>\n",
       "      <td>No internet service</td>\n",
       "      <td>No internet service</td>\n",
       "      <td>No internet service</td>\n",
       "      <td>No internet service</td>\n",
       "      <td>Two year</td>\n",
       "      <td>No</td>\n",
       "      <td>Mailed check</td>\n",
       "      <td>20.25</td>\n",
       "      <td></td>\n",
       "      <td>No</td>\n",
       "    </tr>\n",
       "    <tr>\n",
       "      <th>936</th>\n",
       "      <td>5709-LVOEQ</td>\n",
       "      <td>Female</td>\n",
       "      <td>0</td>\n",
       "      <td>Yes</td>\n",
       "      <td>Yes</td>\n",
       "      <td>0</td>\n",
       "      <td>Yes</td>\n",
       "      <td>No</td>\n",
       "      <td>DSL</td>\n",
       "      <td>Yes</td>\n",
       "      <td>...</td>\n",
       "      <td>Yes</td>\n",
       "      <td>No</td>\n",
       "      <td>Yes</td>\n",
       "      <td>Yes</td>\n",
       "      <td>Two year</td>\n",
       "      <td>No</td>\n",
       "      <td>Mailed check</td>\n",
       "      <td>80.85</td>\n",
       "      <td></td>\n",
       "      <td>No</td>\n",
       "    </tr>\n",
       "    <tr>\n",
       "      <th>1082</th>\n",
       "      <td>4367-NUYAO</td>\n",
       "      <td>Male</td>\n",
       "      <td>0</td>\n",
       "      <td>Yes</td>\n",
       "      <td>Yes</td>\n",
       "      <td>0</td>\n",
       "      <td>Yes</td>\n",
       "      <td>Yes</td>\n",
       "      <td>No</td>\n",
       "      <td>No internet service</td>\n",
       "      <td>...</td>\n",
       "      <td>No internet service</td>\n",
       "      <td>No internet service</td>\n",
       "      <td>No internet service</td>\n",
       "      <td>No internet service</td>\n",
       "      <td>Two year</td>\n",
       "      <td>No</td>\n",
       "      <td>Mailed check</td>\n",
       "      <td>25.75</td>\n",
       "      <td></td>\n",
       "      <td>No</td>\n",
       "    </tr>\n",
       "    <tr>\n",
       "      <th>1340</th>\n",
       "      <td>1371-DWPAZ</td>\n",
       "      <td>Female</td>\n",
       "      <td>0</td>\n",
       "      <td>Yes</td>\n",
       "      <td>Yes</td>\n",
       "      <td>0</td>\n",
       "      <td>No</td>\n",
       "      <td>No phone service</td>\n",
       "      <td>DSL</td>\n",
       "      <td>Yes</td>\n",
       "      <td>...</td>\n",
       "      <td>Yes</td>\n",
       "      <td>Yes</td>\n",
       "      <td>Yes</td>\n",
       "      <td>No</td>\n",
       "      <td>Two year</td>\n",
       "      <td>No</td>\n",
       "      <td>Credit card (automatic)</td>\n",
       "      <td>56.05</td>\n",
       "      <td></td>\n",
       "      <td>No</td>\n",
       "    </tr>\n",
       "    <tr>\n",
       "      <th>3331</th>\n",
       "      <td>7644-OMVMY</td>\n",
       "      <td>Male</td>\n",
       "      <td>0</td>\n",
       "      <td>Yes</td>\n",
       "      <td>Yes</td>\n",
       "      <td>0</td>\n",
       "      <td>Yes</td>\n",
       "      <td>No</td>\n",
       "      <td>No</td>\n",
       "      <td>No internet service</td>\n",
       "      <td>...</td>\n",
       "      <td>No internet service</td>\n",
       "      <td>No internet service</td>\n",
       "      <td>No internet service</td>\n",
       "      <td>No internet service</td>\n",
       "      <td>Two year</td>\n",
       "      <td>No</td>\n",
       "      <td>Mailed check</td>\n",
       "      <td>19.85</td>\n",
       "      <td></td>\n",
       "      <td>No</td>\n",
       "    </tr>\n",
       "    <tr>\n",
       "      <th>3826</th>\n",
       "      <td>3213-VVOLG</td>\n",
       "      <td>Male</td>\n",
       "      <td>0</td>\n",
       "      <td>Yes</td>\n",
       "      <td>Yes</td>\n",
       "      <td>0</td>\n",
       "      <td>Yes</td>\n",
       "      <td>Yes</td>\n",
       "      <td>No</td>\n",
       "      <td>No internet service</td>\n",
       "      <td>...</td>\n",
       "      <td>No internet service</td>\n",
       "      <td>No internet service</td>\n",
       "      <td>No internet service</td>\n",
       "      <td>No internet service</td>\n",
       "      <td>Two year</td>\n",
       "      <td>No</td>\n",
       "      <td>Mailed check</td>\n",
       "      <td>25.35</td>\n",
       "      <td></td>\n",
       "      <td>No</td>\n",
       "    </tr>\n",
       "    <tr>\n",
       "      <th>4380</th>\n",
       "      <td>2520-SGTTA</td>\n",
       "      <td>Female</td>\n",
       "      <td>0</td>\n",
       "      <td>Yes</td>\n",
       "      <td>Yes</td>\n",
       "      <td>0</td>\n",
       "      <td>Yes</td>\n",
       "      <td>No</td>\n",
       "      <td>No</td>\n",
       "      <td>No internet service</td>\n",
       "      <td>...</td>\n",
       "      <td>No internet service</td>\n",
       "      <td>No internet service</td>\n",
       "      <td>No internet service</td>\n",
       "      <td>No internet service</td>\n",
       "      <td>Two year</td>\n",
       "      <td>No</td>\n",
       "      <td>Mailed check</td>\n",
       "      <td>20.00</td>\n",
       "      <td></td>\n",
       "      <td>No</td>\n",
       "    </tr>\n",
       "    <tr>\n",
       "      <th>5218</th>\n",
       "      <td>2923-ARZLG</td>\n",
       "      <td>Male</td>\n",
       "      <td>0</td>\n",
       "      <td>Yes</td>\n",
       "      <td>Yes</td>\n",
       "      <td>0</td>\n",
       "      <td>Yes</td>\n",
       "      <td>No</td>\n",
       "      <td>No</td>\n",
       "      <td>No internet service</td>\n",
       "      <td>...</td>\n",
       "      <td>No internet service</td>\n",
       "      <td>No internet service</td>\n",
       "      <td>No internet service</td>\n",
       "      <td>No internet service</td>\n",
       "      <td>One year</td>\n",
       "      <td>Yes</td>\n",
       "      <td>Mailed check</td>\n",
       "      <td>19.70</td>\n",
       "      <td></td>\n",
       "      <td>No</td>\n",
       "    </tr>\n",
       "    <tr>\n",
       "      <th>6670</th>\n",
       "      <td>4075-WKNIU</td>\n",
       "      <td>Female</td>\n",
       "      <td>0</td>\n",
       "      <td>Yes</td>\n",
       "      <td>Yes</td>\n",
       "      <td>0</td>\n",
       "      <td>Yes</td>\n",
       "      <td>Yes</td>\n",
       "      <td>DSL</td>\n",
       "      <td>No</td>\n",
       "      <td>...</td>\n",
       "      <td>Yes</td>\n",
       "      <td>Yes</td>\n",
       "      <td>Yes</td>\n",
       "      <td>No</td>\n",
       "      <td>Two year</td>\n",
       "      <td>No</td>\n",
       "      <td>Mailed check</td>\n",
       "      <td>73.35</td>\n",
       "      <td></td>\n",
       "      <td>No</td>\n",
       "    </tr>\n",
       "    <tr>\n",
       "      <th>6754</th>\n",
       "      <td>2775-SEFEE</td>\n",
       "      <td>Male</td>\n",
       "      <td>0</td>\n",
       "      <td>No</td>\n",
       "      <td>Yes</td>\n",
       "      <td>0</td>\n",
       "      <td>Yes</td>\n",
       "      <td>Yes</td>\n",
       "      <td>DSL</td>\n",
       "      <td>Yes</td>\n",
       "      <td>...</td>\n",
       "      <td>No</td>\n",
       "      <td>Yes</td>\n",
       "      <td>No</td>\n",
       "      <td>No</td>\n",
       "      <td>Two year</td>\n",
       "      <td>Yes</td>\n",
       "      <td>Bank transfer (automatic)</td>\n",
       "      <td>61.90</td>\n",
       "      <td></td>\n",
       "      <td>No</td>\n",
       "    </tr>\n",
       "  </tbody>\n",
       "</table>\n",
       "<p>11 rows × 21 columns</p>\n",
       "</div>"
      ],
      "text/plain": [
       "      customerID  gender  SeniorCitizen Partner Dependents  tenure  \\\n",
       "488   4472-LVYGI  Female              0     Yes        Yes       0   \n",
       "753   3115-CZMZD    Male              0      No        Yes       0   \n",
       "936   5709-LVOEQ  Female              0     Yes        Yes       0   \n",
       "1082  4367-NUYAO    Male              0     Yes        Yes       0   \n",
       "1340  1371-DWPAZ  Female              0     Yes        Yes       0   \n",
       "3331  7644-OMVMY    Male              0     Yes        Yes       0   \n",
       "3826  3213-VVOLG    Male              0     Yes        Yes       0   \n",
       "4380  2520-SGTTA  Female              0     Yes        Yes       0   \n",
       "5218  2923-ARZLG    Male              0     Yes        Yes       0   \n",
       "6670  4075-WKNIU  Female              0     Yes        Yes       0   \n",
       "6754  2775-SEFEE    Male              0      No        Yes       0   \n",
       "\n",
       "     PhoneService     MultipleLines InternetService       OnlineSecurity  ...  \\\n",
       "488            No  No phone service             DSL                  Yes  ...   \n",
       "753           Yes                No              No  No internet service  ...   \n",
       "936           Yes                No             DSL                  Yes  ...   \n",
       "1082          Yes               Yes              No  No internet service  ...   \n",
       "1340           No  No phone service             DSL                  Yes  ...   \n",
       "3331          Yes                No              No  No internet service  ...   \n",
       "3826          Yes               Yes              No  No internet service  ...   \n",
       "4380          Yes                No              No  No internet service  ...   \n",
       "5218          Yes                No              No  No internet service  ...   \n",
       "6670          Yes               Yes             DSL                   No  ...   \n",
       "6754          Yes               Yes             DSL                  Yes  ...   \n",
       "\n",
       "         DeviceProtection          TechSupport          StreamingTV  \\\n",
       "488                   Yes                  Yes                  Yes   \n",
       "753   No internet service  No internet service  No internet service   \n",
       "936                   Yes                   No                  Yes   \n",
       "1082  No internet service  No internet service  No internet service   \n",
       "1340                  Yes                  Yes                  Yes   \n",
       "3331  No internet service  No internet service  No internet service   \n",
       "3826  No internet service  No internet service  No internet service   \n",
       "4380  No internet service  No internet service  No internet service   \n",
       "5218  No internet service  No internet service  No internet service   \n",
       "6670                  Yes                  Yes                  Yes   \n",
       "6754                   No                  Yes                   No   \n",
       "\n",
       "          StreamingMovies  Contract PaperlessBilling  \\\n",
       "488                    No  Two year              Yes   \n",
       "753   No internet service  Two year               No   \n",
       "936                   Yes  Two year               No   \n",
       "1082  No internet service  Two year               No   \n",
       "1340                   No  Two year               No   \n",
       "3331  No internet service  Two year               No   \n",
       "3826  No internet service  Two year               No   \n",
       "4380  No internet service  Two year               No   \n",
       "5218  No internet service  One year              Yes   \n",
       "6670                   No  Two year               No   \n",
       "6754                   No  Two year              Yes   \n",
       "\n",
       "                  PaymentMethod MonthlyCharges  TotalCharges Churn  \n",
       "488   Bank transfer (automatic)          52.55                  No  \n",
       "753                Mailed check          20.25                  No  \n",
       "936                Mailed check          80.85                  No  \n",
       "1082               Mailed check          25.75                  No  \n",
       "1340    Credit card (automatic)          56.05                  No  \n",
       "3331               Mailed check          19.85                  No  \n",
       "3826               Mailed check          25.35                  No  \n",
       "4380               Mailed check          20.00                  No  \n",
       "5218               Mailed check          19.70                  No  \n",
       "6670               Mailed check          73.35                  No  \n",
       "6754  Bank transfer (automatic)          61.90                  No  \n",
       "\n",
       "[11 rows x 21 columns]"
      ]
     },
     "execution_count": 7,
     "metadata": {},
     "output_type": "execute_result"
    }
   ],
   "source": [
    "df.loc[df['TotalCharges']==\" \"]"
   ]
  },
  {
   "cell_type": "code",
   "execution_count": 8,
   "id": "26d0019f",
   "metadata": {},
   "outputs": [],
   "source": [
    "# replacing blankspaces with NaN\n",
    "df['TotalCharges']=df['TotalCharges'].replace(\" \", np.nan)"
   ]
  },
  {
   "cell_type": "code",
   "execution_count": 9,
   "id": "c48f0b8c",
   "metadata": {},
   "outputs": [
    {
     "data": {
      "text/plain": [
       "customerID           0\n",
       "gender               0\n",
       "SeniorCitizen        0\n",
       "Partner              0\n",
       "Dependents           0\n",
       "tenure               0\n",
       "PhoneService         0\n",
       "MultipleLines        0\n",
       "InternetService      0\n",
       "OnlineSecurity       0\n",
       "OnlineBackup         0\n",
       "DeviceProtection     0\n",
       "TechSupport          0\n",
       "StreamingTV          0\n",
       "StreamingMovies      0\n",
       "Contract             0\n",
       "PaperlessBilling     0\n",
       "PaymentMethod        0\n",
       "MonthlyCharges       0\n",
       "TotalCharges        11\n",
       "Churn                0\n",
       "dtype: int64"
      ]
     },
     "execution_count": 9,
     "metadata": {},
     "output_type": "execute_result"
    }
   ],
   "source": [
    "df.isnull().sum()  # checking nullvalues "
   ]
  },
  {
   "cell_type": "code",
   "execution_count": 10,
   "id": "52aa2a57",
   "metadata": {},
   "outputs": [],
   "source": [
    "# let's convert column type from Object to Float for TotalCharges\n",
    "df['TotalCharges']=df['TotalCharges'].astype(float)\n"
   ]
  },
  {
   "cell_type": "code",
   "execution_count": 11,
   "id": "8dde7dc8",
   "metadata": {},
   "outputs": [],
   "source": [
    "# Handling the Nan values, using mean\n",
    "df['TotalCharges']=df['TotalCharges'].fillna(np.mean(df['TotalCharges']))"
   ]
  },
  {
   "cell_type": "code",
   "execution_count": 12,
   "id": "41373564",
   "metadata": {},
   "outputs": [
    {
     "data": {
      "text/plain": [
       "customerID          0\n",
       "gender              0\n",
       "SeniorCitizen       0\n",
       "Partner             0\n",
       "Dependents          0\n",
       "tenure              0\n",
       "PhoneService        0\n",
       "MultipleLines       0\n",
       "InternetService     0\n",
       "OnlineSecurity      0\n",
       "OnlineBackup        0\n",
       "DeviceProtection    0\n",
       "TechSupport         0\n",
       "StreamingTV         0\n",
       "StreamingMovies     0\n",
       "Contract            0\n",
       "PaperlessBilling    0\n",
       "PaymentMethod       0\n",
       "MonthlyCharges      0\n",
       "TotalCharges        0\n",
       "Churn               0\n",
       "dtype: int64"
      ]
     },
     "execution_count": 12,
     "metadata": {},
     "output_type": "execute_result"
    }
   ],
   "source": [
    "df.isnull().sum()"
   ]
  },
  {
   "cell_type": "markdown",
   "id": "734c93a4",
   "metadata": {},
   "source": [
    "Now, our datset don't have any null values, it is safe to proceed ahead"
   ]
  },
  {
   "cell_type": "code",
   "execution_count": 13,
   "id": "a15131f3",
   "metadata": {},
   "outputs": [
    {
     "data": {
      "text/plain": [
       "customerID           object\n",
       "gender               object\n",
       "SeniorCitizen         int64\n",
       "Partner              object\n",
       "Dependents           object\n",
       "tenure                int64\n",
       "PhoneService         object\n",
       "MultipleLines        object\n",
       "InternetService      object\n",
       "OnlineSecurity       object\n",
       "OnlineBackup         object\n",
       "DeviceProtection     object\n",
       "TechSupport          object\n",
       "StreamingTV          object\n",
       "StreamingMovies      object\n",
       "Contract             object\n",
       "PaperlessBilling     object\n",
       "PaymentMethod        object\n",
       "MonthlyCharges      float64\n",
       "TotalCharges        float64\n",
       "Churn                object\n",
       "dtype: object"
      ]
     },
     "execution_count": 13,
     "metadata": {},
     "output_type": "execute_result"
    }
   ],
   "source": [
    "df.dtypes"
   ]
  },
  {
   "cell_type": "markdown",
   "id": "67c3533e",
   "metadata": {},
   "source": [
    "We can observe that Totalcharges is float now, Our objective here is to predict the Churn i.e. our label is Churn while rest are features.\n",
    "\n",
    "For features we have Categorical data and Continuous data.\n",
    "\n",
    "Categorical data has two types: 1) Nominal data 2) Ordinal data\n",
    "\n",
    "Categorical columns are(Nominal Data): 'gender','Partner','Dependents', 'PhoneServices', 'MultipleLines','InternetServices', 'OnlineSecurity', 'OnlineBackup', 'DeviceProtection','TechSupport','StreamingTV', 'StreamingMovies','Contract', 'PaperlessBilling', 'PaymentMethod','Churn'.\n",
    "\n",
    "Ordinal Data: 'SeniorCitizen', 'tenure'. (this are already converted into numerical form)\n",
    "\n",
    "Continuous Columns are :  'MonthlyCharges', 'TotalCharges'.\n",
    "\n",
    "Not useful column: customerID, we can drop it."
   ]
  },
  {
   "cell_type": "code",
   "execution_count": 14,
   "id": "557f28e0",
   "metadata": {},
   "outputs": [
    {
     "data": {
      "text/plain": [
       "(7043, 20)"
      ]
     },
     "execution_count": 14,
     "metadata": {},
     "output_type": "execute_result"
    }
   ],
   "source": [
    "df.drop('customerID',axis=1,inplace=True)\n",
    "df.shape"
   ]
  },
  {
   "cell_type": "code",
   "execution_count": 16,
   "id": "6145e836",
   "metadata": {},
   "outputs": [],
   "source": [
    "# Let's visualize our categorical columns\n",
    "\n",
    "df_cat=df[['gender','Partner','Dependents', 'PhoneService', 'MultipleLines','InternetService', \n",
    "           'OnlineSecurity', 'OnlineBackup', 'DeviceProtection','TechSupport','StreamingTV', \n",
    "           'StreamingMovies','Contract', 'PaperlessBilling', 'PaymentMethod','Churn']].copy()"
   ]
  },
  {
   "cell_type": "code",
   "execution_count": 17,
   "id": "1a8d4a77",
   "metadata": {},
   "outputs": [
    {
     "data": {
      "text/html": [
       "<div>\n",
       "<style scoped>\n",
       "    .dataframe tbody tr th:only-of-type {\n",
       "        vertical-align: middle;\n",
       "    }\n",
       "\n",
       "    .dataframe tbody tr th {\n",
       "        vertical-align: top;\n",
       "    }\n",
       "\n",
       "    .dataframe thead th {\n",
       "        text-align: right;\n",
       "    }\n",
       "</style>\n",
       "<table border=\"1\" class=\"dataframe\">\n",
       "  <thead>\n",
       "    <tr style=\"text-align: right;\">\n",
       "      <th></th>\n",
       "      <th>gender</th>\n",
       "      <th>Partner</th>\n",
       "      <th>Dependents</th>\n",
       "      <th>PhoneService</th>\n",
       "      <th>MultipleLines</th>\n",
       "      <th>InternetService</th>\n",
       "      <th>OnlineSecurity</th>\n",
       "      <th>OnlineBackup</th>\n",
       "      <th>DeviceProtection</th>\n",
       "      <th>TechSupport</th>\n",
       "      <th>StreamingTV</th>\n",
       "      <th>StreamingMovies</th>\n",
       "      <th>Contract</th>\n",
       "      <th>PaperlessBilling</th>\n",
       "      <th>PaymentMethod</th>\n",
       "      <th>Churn</th>\n",
       "    </tr>\n",
       "  </thead>\n",
       "  <tbody>\n",
       "    <tr>\n",
       "      <th>0</th>\n",
       "      <td>Female</td>\n",
       "      <td>Yes</td>\n",
       "      <td>No</td>\n",
       "      <td>No</td>\n",
       "      <td>No phone service</td>\n",
       "      <td>DSL</td>\n",
       "      <td>No</td>\n",
       "      <td>Yes</td>\n",
       "      <td>No</td>\n",
       "      <td>No</td>\n",
       "      <td>No</td>\n",
       "      <td>No</td>\n",
       "      <td>Month-to-month</td>\n",
       "      <td>Yes</td>\n",
       "      <td>Electronic check</td>\n",
       "      <td>No</td>\n",
       "    </tr>\n",
       "    <tr>\n",
       "      <th>1</th>\n",
       "      <td>Male</td>\n",
       "      <td>No</td>\n",
       "      <td>No</td>\n",
       "      <td>Yes</td>\n",
       "      <td>No</td>\n",
       "      <td>DSL</td>\n",
       "      <td>Yes</td>\n",
       "      <td>No</td>\n",
       "      <td>Yes</td>\n",
       "      <td>No</td>\n",
       "      <td>No</td>\n",
       "      <td>No</td>\n",
       "      <td>One year</td>\n",
       "      <td>No</td>\n",
       "      <td>Mailed check</td>\n",
       "      <td>No</td>\n",
       "    </tr>\n",
       "  </tbody>\n",
       "</table>\n",
       "</div>"
      ],
      "text/plain": [
       "   gender Partner Dependents PhoneService     MultipleLines InternetService  \\\n",
       "0  Female     Yes         No           No  No phone service             DSL   \n",
       "1    Male      No         No          Yes                No             DSL   \n",
       "\n",
       "  OnlineSecurity OnlineBackup DeviceProtection TechSupport StreamingTV  \\\n",
       "0             No          Yes               No          No          No   \n",
       "1            Yes           No              Yes          No          No   \n",
       "\n",
       "  StreamingMovies        Contract PaperlessBilling     PaymentMethod Churn  \n",
       "0              No  Month-to-month              Yes  Electronic check    No  \n",
       "1              No        One year               No      Mailed check    No  "
      ]
     },
     "execution_count": 17,
     "metadata": {},
     "output_type": "execute_result"
    }
   ],
   "source": [
    "df_cat.head(2)"
   ]
  },
  {
   "cell_type": "markdown",
   "id": "a7ef257a",
   "metadata": {},
   "source": [
    "# EDA"
   ]
  },
  {
   "cell_type": "code",
   "execution_count": 19,
   "id": "26087378",
   "metadata": {},
   "outputs": [
    {
     "name": "stdout",
     "output_type": "stream",
     "text": [
      "Male      3555\n",
      "Female    3488\n",
      "Name: gender, dtype: int64\n"
     ]
    },
    {
     "data": {
      "image/png": "[encoded data removed]",
      "text/plain": [
       "<Figure size 432x288 with 1 Axes>"
      ]
     },
     "metadata": {
      "needs_background": "light"
     },
     "output_type": "display_data"
    }
   ],
   "source": [
    "ax=sns.countplot('gender', data=df_cat)\n",
    "print(df_cat['gender'].value_counts())"
   ]
  },
  {
   "cell_type": "markdown",
   "id": "91ad9da7",
   "metadata": {},
   "source": [
    "Both the classes are almost equally distibuted."
   ]
  },
  {
   "cell_type": "code",
   "execution_count": 20,
   "id": "3f3a5bc7",
   "metadata": {},
   "outputs": [
    {
     "name": "stdout",
     "output_type": "stream",
     "text": [
      "No     3641\n",
      "Yes    3402\n",
      "Name: Partner, dtype: int64\n"
     ]
    },
    {
     "data": {
      "image/png": "[encoded data removed]",
      "text/plain": [
       "<Figure size 432x288 with 1 Axes>"
      ]
     },
     "metadata": {
      "needs_background": "light"
     },
     "output_type": "display_data"
    }
   ],
   "source": [
    "ax=sns.countplot('Partner', data=df_cat)\n",
    "print(df_cat['Partner'].value_counts())"
   ]
  },
  {
   "cell_type": "markdown",
   "id": "fb121448",
   "metadata": {},
   "source": [
    "We can observe that total number of unmarried is 3641 and married is 3402"
   ]
  },
  {
   "cell_type": "code",
   "execution_count": 21,
   "id": "1e0013c9",
   "metadata": {},
   "outputs": [
    {
     "name": "stdout",
     "output_type": "stream",
     "text": [
      "No     4933\n",
      "Yes    2110\n",
      "Name: Dependents, dtype: int64\n"
     ]
    },
    {
     "data": {
      "image/png": "[encoded data removed]",
      "text/plain": [
       "<Figure size 432x288 with 1 Axes>"
      ]
     },
     "metadata": {
      "needs_background": "light"
     },
     "output_type": "display_data"
    }
   ],
   "source": [
    "ax=sns.countplot('Dependents', data=df_cat)\n",
    "print(df_cat['Dependents'].value_counts())"
   ]
  },
  {
   "cell_type": "markdown",
   "id": "a84e303b",
   "metadata": {},
   "source": [
    "We can observe that non dependents are high then dependents"
   ]
  },
  {
   "cell_type": "code",
   "execution_count": 22,
   "id": "9d92e4dd",
   "metadata": {},
   "outputs": [
    {
     "name": "stdout",
     "output_type": "stream",
     "text": [
      "Yes    6361\n",
      "No      682\n",
      "Name: PhoneService, dtype: int64\n"
     ]
    },
    {
     "data": {
      "image/png": "[encoded data removed]",
      "text/plain": [
       "<Figure size 432x288 with 1 Axes>"
      ]
     },
     "metadata": {
      "needs_background": "light"
     },
     "output_type": "display_data"
    }
   ],
   "source": [
    "ax=sns.countplot('PhoneService', data=df_cat)\n",
    "print(df_cat['PhoneService'].value_counts())"
   ]
  },
  {
   "cell_type": "markdown",
   "id": "8bfbf396",
   "metadata": {},
   "source": [
    "We can observe that number of PhoneService is 6361 and not using phone Service is 682"
   ]
  },
  {
   "cell_type": "code",
   "execution_count": 23,
   "id": "4fd16c2a",
   "metadata": {},
   "outputs": [
    {
     "name": "stdout",
     "output_type": "stream",
     "text": [
      "No                  3390\n",
      "Yes                 2971\n",
      "No phone service     682\n",
      "Name: MultipleLines, dtype: int64\n"
     ]
    },
    {
     "data": {
      "image/png": "[encoded data removed]",
      "text/plain": [
       "<Figure size 432x288 with 1 Axes>"
      ]
     },
     "metadata": {
      "needs_background": "light"
     },
     "output_type": "display_data"
    }
   ],
   "source": [
    "ax=sns.countplot('MultipleLines', data=df_cat)\n",
    "print(df_cat['MultipleLines'].value_counts())"
   ]
  },
  {
   "cell_type": "markdown",
   "id": "70146b68",
   "metadata": {},
   "source": [
    "From above observation we can say that number of customer using No phone service is 682, No multipleLines are 3390 and having MultipleLines are 2971"
   ]
  },
  {
   "cell_type": "code",
   "execution_count": 24,
   "id": "7e32f0da",
   "metadata": {},
   "outputs": [
    {
     "name": "stdout",
     "output_type": "stream",
     "text": [
      "Fiber optic    3096\n",
      "DSL            2421\n",
      "No             1526\n",
      "Name: InternetService, dtype: int64\n"
     ]
    },
    {
     "data": {
      "image/png": "[encoded data removed]",
      "text/plain": [
       "<Figure size 432x288 with 1 Axes>"
      ]
     },
     "metadata": {
      "needs_background": "light"
     },
     "output_type": "display_data"
    }
   ],
   "source": [
    "ax=sns.countplot('InternetService', data=df_cat)\n",
    "print(df_cat['InternetService'].value_counts())"
   ]
  },
  {
   "cell_type": "markdown",
   "id": "1052f548",
   "metadata": {},
   "source": [
    "We can observe that customer not using internet services are 1526, using fiber obtic are 3096 and DSL are 2421"
   ]
  },
  {
   "cell_type": "code",
   "execution_count": 25,
   "id": "86bcb2eb",
   "metadata": {},
   "outputs": [
    {
     "name": "stdout",
     "output_type": "stream",
     "text": [
      "No                     3498\n",
      "Yes                    2019\n",
      "No internet service    1526\n",
      "Name: OnlineSecurity, dtype: int64\n"
     ]
    },
    {
     "data": {
      "image/png": "[encoded data removed]",
      "text/plain": [
       "<Figure size 432x288 with 1 Axes>"
      ]
     },
     "metadata": {
      "needs_background": "light"
     },
     "output_type": "display_data"
    }
   ],
   "source": [
    "ax=sns.countplot('OnlineSecurity', data=df_cat)\n",
    "print(df_cat['OnlineSecurity'].value_counts())"
   ]
  },
  {
   "cell_type": "code",
   "execution_count": 26,
   "id": "5c57b54c",
   "metadata": {},
   "outputs": [
    {
     "name": "stdout",
     "output_type": "stream",
     "text": [
      "No                     3088\n",
      "Yes                    2429\n",
      "No internet service    1526\n",
      "Name: OnlineBackup, dtype: int64\n"
     ]
    },
    {
     "data": {
      "image/png": "[encoded data removed]",
      "text/plain": [
       "<Figure size 432x288 with 1 Axes>"
      ]
     },
     "metadata": {
      "needs_background": "light"
     },
     "output_type": "display_data"
    }
   ],
   "source": [
    "ax=sns.countplot( 'OnlineBackup', data=df_cat)\n",
    "print(df_cat[ 'OnlineBackup'].value_counts())"
   ]
  },
  {
   "cell_type": "code",
   "execution_count": 27,
   "id": "15c22374",
   "metadata": {},
   "outputs": [
    {
     "name": "stdout",
     "output_type": "stream",
     "text": [
      "No                     3095\n",
      "Yes                    2422\n",
      "No internet service    1526\n",
      "Name: DeviceProtection, dtype: int64\n"
     ]
    },
    {
     "data": {
      "image/png": "[encoded data removed]",
      "text/plain": [
       "<Figure size 432x288 with 1 Axes>"
      ]
     },
     "metadata": {
      "needs_background": "light"
     },
     "output_type": "display_data"
    }
   ],
   "source": [
    "ax=sns.countplot('DeviceProtection', data=df_cat)\n",
    "print(df_cat['DeviceProtection'].value_counts())"
   ]
  },
  {
   "cell_type": "code",
   "execution_count": 28,
   "id": "a3de7df6",
   "metadata": {},
   "outputs": [
    {
     "name": "stdout",
     "output_type": "stream",
     "text": [
      "No                     3473\n",
      "Yes                    2044\n",
      "No internet service    1526\n",
      "Name: TechSupport, dtype: int64\n"
     ]
    },
    {
     "data": {
      "image/png": "[encoded data removed]",
      "text/plain": [
       "<Figure size 432x288 with 1 Axes>"
      ]
     },
     "metadata": {
      "needs_background": "light"
     },
     "output_type": "display_data"
    }
   ],
   "source": [
    "ax=sns.countplot('TechSupport', data=df_cat)\n",
    "print(df_cat['TechSupport'].value_counts())"
   ]
  },
  {
   "cell_type": "code",
   "execution_count": 29,
   "id": "14c448d1",
   "metadata": {},
   "outputs": [
    {
     "name": "stdout",
     "output_type": "stream",
     "text": [
      "No                     2810\n",
      "Yes                    2707\n",
      "No internet service    1526\n",
      "Name: StreamingTV, dtype: int64\n"
     ]
    },
    {
     "data": {
      "image/png": "[encoded data removed]",
      "text/plain": [
       "<Figure size 432x288 with 1 Axes>"
      ]
     },
     "metadata": {
      "needs_background": "light"
     },
     "output_type": "display_data"
    }
   ],
   "source": [
    "ax=sns.countplot('StreamingTV', data=df_cat)\n",
    "print(df_cat['StreamingTV'].value_counts())"
   ]
  },
  {
   "cell_type": "code",
   "execution_count": 30,
   "id": "72dd43f1",
   "metadata": {},
   "outputs": [
    {
     "name": "stdout",
     "output_type": "stream",
     "text": [
      "No                     2785\n",
      "Yes                    2732\n",
      "No internet service    1526\n",
      "Name: StreamingMovies, dtype: int64\n"
     ]
    },
    {
     "data": {
      "image/png": "[encoded data removed]",
      "text/plain": [
       "<Figure size 432x288 with 1 Axes>"
      ]
     },
     "metadata": {
      "needs_background": "light"
     },
     "output_type": "display_data"
    }
   ],
   "source": [
    "ax=sns.countplot('StreamingMovies', data=df_cat)\n",
    "print(df_cat['StreamingMovies'].value_counts())"
   ]
  },
  {
   "cell_type": "code",
   "execution_count": 31,
   "id": "ff5514f5",
   "metadata": {},
   "outputs": [
    {
     "name": "stdout",
     "output_type": "stream",
     "text": [
      "Month-to-month    3875\n",
      "Two year          1695\n",
      "One year          1473\n",
      "Name: Contract, dtype: int64\n"
     ]
    },
    {
     "data": {
      "image/png": "[encoded data removed]",
      "text/plain": [
       "<Figure size 432x288 with 1 Axes>"
      ]
     },
     "metadata": {
      "needs_background": "light"
     },
     "output_type": "display_data"
    }
   ],
   "source": [
    "ax=sns.countplot('Contract', data=df_cat)\n",
    "print(df_cat['Contract'].value_counts())"
   ]
  },
  {
   "cell_type": "code",
   "execution_count": 32,
   "id": "d6068505",
   "metadata": {},
   "outputs": [
    {
     "name": "stdout",
     "output_type": "stream",
     "text": [
      "Yes    4171\n",
      "No     2872\n",
      "Name: PaperlessBilling, dtype: int64\n"
     ]
    },
    {
     "data": {
      "image/png": "[encoded data removed]",
      "text/plain": [
       "<Figure size 432x288 with 1 Axes>"
      ]
     },
     "metadata": {
      "needs_background": "light"
     },
     "output_type": "display_data"
    }
   ],
   "source": [
    "ax=sns.countplot( 'PaperlessBilling', data=df_cat)\n",
    "print(df_cat[ 'PaperlessBilling'].value_counts())"
   ]
  },
  {
   "cell_type": "code",
   "execution_count": 35,
   "id": "efba4fc5",
   "metadata": {},
   "outputs": [
    {
     "name": "stdout",
     "output_type": "stream",
     "text": [
      "Electronic check             2365\n",
      "Mailed check                 1612\n",
      "Bank transfer (automatic)    1544\n",
      "Credit card (automatic)      1522\n",
      "Name: PaymentMethod, dtype: int64\n"
     ]
    },
    {
     "data": {
      "image/png": "[encoded data removed]",
      "text/plain": [
       "<Figure size 432x288 with 1 Axes>"
      ]
     },
     "metadata": {
      "needs_background": "light"
     },
     "output_type": "display_data"
    }
   ],
   "source": [
    "ax=sns.countplot('PaymentMethod',data=df_cat)\n",
    "plt.xticks(rotation=90)\n",
    "print(df_cat['PaymentMethod'].value_counts())"
   ]
  },
  {
   "cell_type": "code",
   "execution_count": 34,
   "id": "55df77dc",
   "metadata": {},
   "outputs": [
    {
     "name": "stdout",
     "output_type": "stream",
     "text": [
      "No     5174\n",
      "Yes    1869\n",
      "Name: Churn, dtype: int64\n"
     ]
    },
    {
     "data": {
      "image/png": "[encoded data removed]",
      "text/plain": [
       "<Figure size 432x288 with 1 Axes>"
      ]
     },
     "metadata": {
      "needs_background": "light"
     },
     "output_type": "display_data"
    }
   ],
   "source": [
    "ax=sns.countplot('Churn', data=df_cat)\n",
    "print(df_cat['Churn'].value_counts())"
   ]
  },
  {
   "cell_type": "markdown",
   "id": "efa36738",
   "metadata": {},
   "source": [
    "We can see that the churn value means customer who are switching are 1869, while not switching are 5174. We can observe that their is huge difference between the two classes, which simply means we have imbalance in our data"
   ]
  },
  {
   "cell_type": "code",
   "execution_count": 36,
   "id": "266aed03",
   "metadata": {},
   "outputs": [
    {
     "name": "stdout",
     "output_type": "stream",
     "text": [
      "0    5901\n",
      "1    1142\n",
      "Name: SeniorCitizen, dtype: int64\n"
     ]
    },
    {
     "data": {
      "image/png": "[encoded data removed]",
      "text/plain": [
       "<Figure size 432x288 with 1 Axes>"
      ]
     },
     "metadata": {
      "needs_background": "light"
     },
     "output_type": "display_data"
    }
   ],
   "source": [
    "ax=sns.countplot('SeniorCitizen', data=df)\n",
    "print(df['SeniorCitizen'].value_counts())"
   ]
  },
  {
   "cell_type": "markdown",
   "id": "343fd15a",
   "metadata": {},
   "source": [
    "Here 1 indicate the senior citizen which is 1142 while 0 indicate customer who are not senior citizen."
   ]
  },
  {
   "cell_type": "code",
   "execution_count": 37,
   "id": "26616456",
   "metadata": {},
   "outputs": [
    {
     "data": {
      "text/plain": [
       "<seaborn.axisgrid.FacetGrid at 0x2f69be7cb80>"
      ]
     },
     "execution_count": 37,
     "metadata": {},
     "output_type": "execute_result"
    },
    {
     "data": {
      "image/png": "[encoded data removed]",
      "text/plain": [
       "<Figure size 360x360 with 1 Axes>"
      ]
     },
     "metadata": {
      "needs_background": "light"
     },
     "output_type": "display_data"
    }
   ],
   "source": [
    "# Ordinal data\n",
    "sns.catplot(x= 'SeniorCitizen', y='tenure', data=df)"
   ]
  },
  {
   "cell_type": "markdown",
   "id": "4f803747",
   "metadata": {},
   "source": [
    "We can see that there is very less diffrenece between senior citizen and non senior citizen tenure"
   ]
  },
  {
   "cell_type": "code",
   "execution_count": 39,
   "id": "b836765c",
   "metadata": {},
   "outputs": [
    {
     "data": {
      "text/plain": [
       "<AxesSubplot:xlabel='TotalCharges', ylabel='Density'>"
      ]
     },
     "execution_count": 39,
     "metadata": {},
     "output_type": "execute_result"
    },
    {
     "data": {
      "image/png": "[encoded data removed]",
      "text/plain": [
       "<Figure size 432x288 with 1 Axes>"
      ]
     },
     "metadata": {
      "needs_background": "light"
     },
     "output_type": "display_data"
    }
   ],
   "source": [
    "# Continuous data using distplot(TotalCharges, MonthlyCharges)\n",
    "\n",
    "sns.distplot(df['TotalCharges'],kde=True)"
   ]
  },
  {
   "cell_type": "markdown",
   "id": "2a4aceb0",
   "metadata": {},
   "source": [
    "We can Observe that the peak is around zero. and distribution goes to 10000"
   ]
  },
  {
   "cell_type": "code",
   "execution_count": 40,
   "id": "dac2982b",
   "metadata": {},
   "outputs": [
    {
     "data": {
      "text/plain": [
       "<AxesSubplot:xlabel='MonthlyCharges', ylabel='Density'>"
      ]
     },
     "execution_count": 40,
     "metadata": {},
     "output_type": "execute_result"
    },
    {
     "data": {
      "image/png": "[encoded data removed]",
      "text/plain": [
       "<Figure size 432x288 with 1 Axes>"
      ]
     },
     "metadata": {
      "needs_background": "light"
     },
     "output_type": "display_data"
    }
   ],
   "source": [
    "sns.distplot(df['MonthlyCharges'],kde=True)"
   ]
  },
  {
   "cell_type": "markdown",
   "id": "8ef1a018",
   "metadata": {},
   "source": [
    "We can observe that the data is distributed over the range of 0-140"
   ]
  },
  {
   "cell_type": "code",
   "execution_count": 41,
   "id": "dbaa0800",
   "metadata": {},
   "outputs": [
    {
     "data": {
      "text/html": [
       "<div>\n",
       "<style scoped>\n",
       "    .dataframe tbody tr th:only-of-type {\n",
       "        vertical-align: middle;\n",
       "    }\n",
       "\n",
       "    .dataframe tbody tr th {\n",
       "        vertical-align: top;\n",
       "    }\n",
       "\n",
       "    .dataframe thead th {\n",
       "        text-align: right;\n",
       "    }\n",
       "</style>\n",
       "<table border=\"1\" class=\"dataframe\">\n",
       "  <thead>\n",
       "    <tr style=\"text-align: right;\">\n",
       "      <th></th>\n",
       "      <th>SeniorCitizen</th>\n",
       "      <th>tenure</th>\n",
       "      <th>MonthlyCharges</th>\n",
       "      <th>TotalCharges</th>\n",
       "    </tr>\n",
       "  </thead>\n",
       "  <tbody>\n",
       "    <tr>\n",
       "      <th>count</th>\n",
       "      <td>7043.000000</td>\n",
       "      <td>7043.000000</td>\n",
       "      <td>7043.000000</td>\n",
       "      <td>7043.000000</td>\n",
       "    </tr>\n",
       "    <tr>\n",
       "      <th>mean</th>\n",
       "      <td>0.162147</td>\n",
       "      <td>32.371149</td>\n",
       "      <td>64.761692</td>\n",
       "      <td>2283.300441</td>\n",
       "    </tr>\n",
       "    <tr>\n",
       "      <th>std</th>\n",
       "      <td>0.368612</td>\n",
       "      <td>24.559481</td>\n",
       "      <td>30.090047</td>\n",
       "      <td>2265.000258</td>\n",
       "    </tr>\n",
       "    <tr>\n",
       "      <th>min</th>\n",
       "      <td>0.000000</td>\n",
       "      <td>0.000000</td>\n",
       "      <td>18.250000</td>\n",
       "      <td>18.800000</td>\n",
       "    </tr>\n",
       "    <tr>\n",
       "      <th>25%</th>\n",
       "      <td>0.000000</td>\n",
       "      <td>9.000000</td>\n",
       "      <td>35.500000</td>\n",
       "      <td>402.225000</td>\n",
       "    </tr>\n",
       "    <tr>\n",
       "      <th>50%</th>\n",
       "      <td>0.000000</td>\n",
       "      <td>29.000000</td>\n",
       "      <td>70.350000</td>\n",
       "      <td>1400.550000</td>\n",
       "    </tr>\n",
       "    <tr>\n",
       "      <th>75%</th>\n",
       "      <td>0.000000</td>\n",
       "      <td>55.000000</td>\n",
       "      <td>89.850000</td>\n",
       "      <td>3786.600000</td>\n",
       "    </tr>\n",
       "    <tr>\n",
       "      <th>max</th>\n",
       "      <td>1.000000</td>\n",
       "      <td>72.000000</td>\n",
       "      <td>118.750000</td>\n",
       "      <td>8684.800000</td>\n",
       "    </tr>\n",
       "  </tbody>\n",
       "</table>\n",
       "</div>"
      ],
      "text/plain": [
       "       SeniorCitizen       tenure  MonthlyCharges  TotalCharges\n",
       "count    7043.000000  7043.000000     7043.000000   7043.000000\n",
       "mean        0.162147    32.371149       64.761692   2283.300441\n",
       "std         0.368612    24.559481       30.090047   2265.000258\n",
       "min         0.000000     0.000000       18.250000     18.800000\n",
       "25%         0.000000     9.000000       35.500000    402.225000\n",
       "50%         0.000000    29.000000       70.350000   1400.550000\n",
       "75%         0.000000    55.000000       89.850000   3786.600000\n",
       "max         1.000000    72.000000      118.750000   8684.800000"
      ]
     },
     "execution_count": 41,
     "metadata": {},
     "output_type": "execute_result"
    }
   ],
   "source": [
    "# Statistical Description\n",
    "df.describe()"
   ]
  },
  {
   "cell_type": "markdown",
   "id": "51b23f60",
   "metadata": {},
   "source": [
    "Since we have lots of Categorical Columns let's first encode them before moving ahead.\n",
    "\n",
    "\n",
    "\n",
    "\n",
    "# Encoding"
   ]
  },
  {
   "cell_type": "code",
   "execution_count": 46,
   "id": "5d36c013",
   "metadata": {},
   "outputs": [],
   "source": [
    "from sklearn.preprocessing import OrdinalEncoder\n",
    "\n",
    "ord_enc=OrdinalEncoder()\n",
    "\n",
    "for i in df.columns:\n",
    "    if df[i].dtypes == \"object\":\n",
    "        df[i]=ord_enc.fit_transform(df[i].values.reshape(-1,1))\n",
    "        "
   ]
  },
  {
   "cell_type": "code",
   "execution_count": 47,
   "id": "158d0038",
   "metadata": {},
   "outputs": [
    {
     "data": {
      "text/html": [
       "<div>\n",
       "<style scoped>\n",
       "    .dataframe tbody tr th:only-of-type {\n",
       "        vertical-align: middle;\n",
       "    }\n",
       "\n",
       "    .dataframe tbody tr th {\n",
       "        vertical-align: top;\n",
       "    }\n",
       "\n",
       "    .dataframe thead th {\n",
       "        text-align: right;\n",
       "    }\n",
       "</style>\n",
       "<table border=\"1\" class=\"dataframe\">\n",
       "  <thead>\n",
       "    <tr style=\"text-align: right;\">\n",
       "      <th></th>\n",
       "      <th>gender</th>\n",
       "      <th>SeniorCitizen</th>\n",
       "      <th>Partner</th>\n",
       "      <th>Dependents</th>\n",
       "      <th>tenure</th>\n",
       "      <th>PhoneService</th>\n",
       "      <th>MultipleLines</th>\n",
       "      <th>InternetService</th>\n",
       "      <th>OnlineSecurity</th>\n",
       "      <th>OnlineBackup</th>\n",
       "      <th>DeviceProtection</th>\n",
       "      <th>TechSupport</th>\n",
       "      <th>StreamingTV</th>\n",
       "      <th>StreamingMovies</th>\n",
       "      <th>Contract</th>\n",
       "      <th>PaperlessBilling</th>\n",
       "      <th>PaymentMethod</th>\n",
       "      <th>MonthlyCharges</th>\n",
       "      <th>TotalCharges</th>\n",
       "      <th>Churn</th>\n",
       "    </tr>\n",
       "  </thead>\n",
       "  <tbody>\n",
       "    <tr>\n",
       "      <th>0</th>\n",
       "      <td>0.0</td>\n",
       "      <td>0</td>\n",
       "      <td>1.0</td>\n",
       "      <td>0.0</td>\n",
       "      <td>1</td>\n",
       "      <td>0.0</td>\n",
       "      <td>1.0</td>\n",
       "      <td>0.0</td>\n",
       "      <td>0.0</td>\n",
       "      <td>2.0</td>\n",
       "      <td>0.0</td>\n",
       "      <td>0.0</td>\n",
       "      <td>0.0</td>\n",
       "      <td>0.0</td>\n",
       "      <td>0.0</td>\n",
       "      <td>1.0</td>\n",
       "      <td>2.0</td>\n",
       "      <td>29.85</td>\n",
       "      <td>29.85</td>\n",
       "      <td>0.0</td>\n",
       "    </tr>\n",
       "    <tr>\n",
       "      <th>1</th>\n",
       "      <td>1.0</td>\n",
       "      <td>0</td>\n",
       "      <td>0.0</td>\n",
       "      <td>0.0</td>\n",
       "      <td>34</td>\n",
       "      <td>1.0</td>\n",
       "      <td>0.0</td>\n",
       "      <td>0.0</td>\n",
       "      <td>2.0</td>\n",
       "      <td>0.0</td>\n",
       "      <td>2.0</td>\n",
       "      <td>0.0</td>\n",
       "      <td>0.0</td>\n",
       "      <td>0.0</td>\n",
       "      <td>1.0</td>\n",
       "      <td>0.0</td>\n",
       "      <td>3.0</td>\n",
       "      <td>56.95</td>\n",
       "      <td>1889.50</td>\n",
       "      <td>0.0</td>\n",
       "    </tr>\n",
       "    <tr>\n",
       "      <th>2</th>\n",
       "      <td>1.0</td>\n",
       "      <td>0</td>\n",
       "      <td>0.0</td>\n",
       "      <td>0.0</td>\n",
       "      <td>2</td>\n",
       "      <td>1.0</td>\n",
       "      <td>0.0</td>\n",
       "      <td>0.0</td>\n",
       "      <td>2.0</td>\n",
       "      <td>2.0</td>\n",
       "      <td>0.0</td>\n",
       "      <td>0.0</td>\n",
       "      <td>0.0</td>\n",
       "      <td>0.0</td>\n",
       "      <td>0.0</td>\n",
       "      <td>1.0</td>\n",
       "      <td>3.0</td>\n",
       "      <td>53.85</td>\n",
       "      <td>108.15</td>\n",
       "      <td>1.0</td>\n",
       "    </tr>\n",
       "    <tr>\n",
       "      <th>3</th>\n",
       "      <td>1.0</td>\n",
       "      <td>0</td>\n",
       "      <td>0.0</td>\n",
       "      <td>0.0</td>\n",
       "      <td>45</td>\n",
       "      <td>0.0</td>\n",
       "      <td>1.0</td>\n",
       "      <td>0.0</td>\n",
       "      <td>2.0</td>\n",
       "      <td>0.0</td>\n",
       "      <td>2.0</td>\n",
       "      <td>2.0</td>\n",
       "      <td>0.0</td>\n",
       "      <td>0.0</td>\n",
       "      <td>1.0</td>\n",
       "      <td>0.0</td>\n",
       "      <td>0.0</td>\n",
       "      <td>42.30</td>\n",
       "      <td>1840.75</td>\n",
       "      <td>0.0</td>\n",
       "    </tr>\n",
       "    <tr>\n",
       "      <th>4</th>\n",
       "      <td>0.0</td>\n",
       "      <td>0</td>\n",
       "      <td>0.0</td>\n",
       "      <td>0.0</td>\n",
       "      <td>2</td>\n",
       "      <td>1.0</td>\n",
       "      <td>0.0</td>\n",
       "      <td>1.0</td>\n",
       "      <td>0.0</td>\n",
       "      <td>0.0</td>\n",
       "      <td>0.0</td>\n",
       "      <td>0.0</td>\n",
       "      <td>0.0</td>\n",
       "      <td>0.0</td>\n",
       "      <td>0.0</td>\n",
       "      <td>1.0</td>\n",
       "      <td>2.0</td>\n",
       "      <td>70.70</td>\n",
       "      <td>151.65</td>\n",
       "      <td>1.0</td>\n",
       "    </tr>\n",
       "  </tbody>\n",
       "</table>\n",
       "</div>"
      ],
      "text/plain": [
       "   gender  SeniorCitizen  Partner  Dependents  tenure  PhoneService  \\\n",
       "0     0.0              0      1.0         0.0       1           0.0   \n",
       "1     1.0              0      0.0         0.0      34           1.0   \n",
       "2     1.0              0      0.0         0.0       2           1.0   \n",
       "3     1.0              0      0.0         0.0      45           0.0   \n",
       "4     0.0              0      0.0         0.0       2           1.0   \n",
       "\n",
       "   MultipleLines  InternetService  OnlineSecurity  OnlineBackup  \\\n",
       "0            1.0              0.0             0.0           2.0   \n",
       "1            0.0              0.0             2.0           0.0   \n",
       "2            0.0              0.0             2.0           2.0   \n",
       "3            1.0              0.0             2.0           0.0   \n",
       "4            0.0              1.0             0.0           0.0   \n",
       "\n",
       "   DeviceProtection  TechSupport  StreamingTV  StreamingMovies  Contract  \\\n",
       "0               0.0          0.0          0.0              0.0       0.0   \n",
       "1               2.0          0.0          0.0              0.0       1.0   \n",
       "2               0.0          0.0          0.0              0.0       0.0   \n",
       "3               2.0          2.0          0.0              0.0       1.0   \n",
       "4               0.0          0.0          0.0              0.0       0.0   \n",
       "\n",
       "   PaperlessBilling  PaymentMethod  MonthlyCharges  TotalCharges  Churn  \n",
       "0               1.0            2.0           29.85         29.85    0.0  \n",
       "1               0.0            3.0           56.95       1889.50    0.0  \n",
       "2               1.0            3.0           53.85        108.15    1.0  \n",
       "3               0.0            0.0           42.30       1840.75    0.0  \n",
       "4               1.0            2.0           70.70        151.65    1.0  "
      ]
     },
     "execution_count": 47,
     "metadata": {},
     "output_type": "execute_result"
    }
   ],
   "source": [
    "df.head()"
   ]
  },
  {
   "cell_type": "code",
   "execution_count": 48,
   "id": "a0bbe6c3",
   "metadata": {},
   "outputs": [
    {
     "data": {
      "text/plain": [
       "gender              float64\n",
       "SeniorCitizen         int64\n",
       "Partner             float64\n",
       "Dependents          float64\n",
       "tenure                int64\n",
       "PhoneService        float64\n",
       "MultipleLines       float64\n",
       "InternetService     float64\n",
       "OnlineSecurity      float64\n",
       "OnlineBackup        float64\n",
       "DeviceProtection    float64\n",
       "TechSupport         float64\n",
       "StreamingTV         float64\n",
       "StreamingMovies     float64\n",
       "Contract            float64\n",
       "PaperlessBilling    float64\n",
       "PaymentMethod       float64\n",
       "MonthlyCharges      float64\n",
       "TotalCharges        float64\n",
       "Churn               float64\n",
       "dtype: object"
      ]
     },
     "execution_count": 48,
     "metadata": {},
     "output_type": "execute_result"
    }
   ],
   "source": [
    "df.dtypes"
   ]
  },
  {
   "cell_type": "markdown",
   "id": "0afc55b3",
   "metadata": {},
   "source": [
    "We can observe that Encoding is done successfully. Now let's move ahead and check for correlation , before that let's draw pairplot"
   ]
  },
  {
   "cell_type": "code",
   "execution_count": 49,
   "id": "5e68c10c",
   "metadata": {},
   "outputs": [
    {
     "data": {
      "text/html": [
       "<div>\n",
       "<style scoped>\n",
       "    .dataframe tbody tr th:only-of-type {\n",
       "        vertical-align: middle;\n",
       "    }\n",
       "\n",
       "    .dataframe tbody tr th {\n",
       "        vertical-align: top;\n",
       "    }\n",
       "\n",
       "    .dataframe thead th {\n",
       "        text-align: right;\n",
       "    }\n",
       "</style>\n",
       "<table border=\"1\" class=\"dataframe\">\n",
       "  <thead>\n",
       "    <tr style=\"text-align: right;\">\n",
       "      <th></th>\n",
       "      <th>gender</th>\n",
       "      <th>SeniorCitizen</th>\n",
       "      <th>Partner</th>\n",
       "      <th>Dependents</th>\n",
       "      <th>tenure</th>\n",
       "      <th>PhoneService</th>\n",
       "      <th>MultipleLines</th>\n",
       "      <th>InternetService</th>\n",
       "      <th>OnlineSecurity</th>\n",
       "      <th>OnlineBackup</th>\n",
       "      <th>DeviceProtection</th>\n",
       "      <th>TechSupport</th>\n",
       "      <th>StreamingTV</th>\n",
       "      <th>StreamingMovies</th>\n",
       "      <th>Contract</th>\n",
       "      <th>PaperlessBilling</th>\n",
       "      <th>PaymentMethod</th>\n",
       "      <th>MonthlyCharges</th>\n",
       "      <th>TotalCharges</th>\n",
       "      <th>Churn</th>\n",
       "    </tr>\n",
       "  </thead>\n",
       "  <tbody>\n",
       "    <tr>\n",
       "      <th>gender</th>\n",
       "      <td>1.000000</td>\n",
       "      <td>-0.001874</td>\n",
       "      <td>-0.001808</td>\n",
       "      <td>0.010517</td>\n",
       "      <td>0.005106</td>\n",
       "      <td>-0.006488</td>\n",
       "      <td>-0.006739</td>\n",
       "      <td>-0.000863</td>\n",
       "      <td>-0.015017</td>\n",
       "      <td>-0.012057</td>\n",
       "      <td>0.000549</td>\n",
       "      <td>-0.006825</td>\n",
       "      <td>-0.006421</td>\n",
       "      <td>-0.008743</td>\n",
       "      <td>0.000126</td>\n",
       "      <td>-0.011754</td>\n",
       "      <td>0.017352</td>\n",
       "      <td>-0.014569</td>\n",
       "      <td>0.000048</td>\n",
       "      <td>-0.008612</td>\n",
       "    </tr>\n",
       "    <tr>\n",
       "      <th>SeniorCitizen</th>\n",
       "      <td>-0.001874</td>\n",
       "      <td>1.000000</td>\n",
       "      <td>0.016479</td>\n",
       "      <td>-0.211185</td>\n",
       "      <td>0.016567</td>\n",
       "      <td>0.008576</td>\n",
       "      <td>0.146185</td>\n",
       "      <td>-0.032310</td>\n",
       "      <td>-0.128221</td>\n",
       "      <td>-0.013632</td>\n",
       "      <td>-0.021398</td>\n",
       "      <td>-0.151268</td>\n",
       "      <td>0.030776</td>\n",
       "      <td>0.047266</td>\n",
       "      <td>-0.142554</td>\n",
       "      <td>0.156530</td>\n",
       "      <td>-0.038551</td>\n",
       "      <td>0.220173</td>\n",
       "      <td>0.102395</td>\n",
       "      <td>0.150889</td>\n",
       "    </tr>\n",
       "    <tr>\n",
       "      <th>Partner</th>\n",
       "      <td>-0.001808</td>\n",
       "      <td>0.016479</td>\n",
       "      <td>1.000000</td>\n",
       "      <td>0.452676</td>\n",
       "      <td>0.379697</td>\n",
       "      <td>0.017706</td>\n",
       "      <td>0.142410</td>\n",
       "      <td>0.000891</td>\n",
       "      <td>0.150828</td>\n",
       "      <td>0.153130</td>\n",
       "      <td>0.166330</td>\n",
       "      <td>0.126733</td>\n",
       "      <td>0.137341</td>\n",
       "      <td>0.129574</td>\n",
       "      <td>0.294806</td>\n",
       "      <td>-0.014877</td>\n",
       "      <td>-0.154798</td>\n",
       "      <td>0.096848</td>\n",
       "      <td>0.318812</td>\n",
       "      <td>-0.150448</td>\n",
       "    </tr>\n",
       "    <tr>\n",
       "      <th>Dependents</th>\n",
       "      <td>0.010517</td>\n",
       "      <td>-0.211185</td>\n",
       "      <td>0.452676</td>\n",
       "      <td>1.000000</td>\n",
       "      <td>0.159712</td>\n",
       "      <td>-0.001762</td>\n",
       "      <td>-0.024991</td>\n",
       "      <td>0.044590</td>\n",
       "      <td>0.152166</td>\n",
       "      <td>0.091015</td>\n",
       "      <td>0.080537</td>\n",
       "      <td>0.133524</td>\n",
       "      <td>0.046885</td>\n",
       "      <td>0.021321</td>\n",
       "      <td>0.243187</td>\n",
       "      <td>-0.111377</td>\n",
       "      <td>-0.040292</td>\n",
       "      <td>-0.113890</td>\n",
       "      <td>0.064535</td>\n",
       "      <td>-0.164221</td>\n",
       "    </tr>\n",
       "    <tr>\n",
       "      <th>tenure</th>\n",
       "      <td>0.005106</td>\n",
       "      <td>0.016567</td>\n",
       "      <td>0.379697</td>\n",
       "      <td>0.159712</td>\n",
       "      <td>1.000000</td>\n",
       "      <td>0.008448</td>\n",
       "      <td>0.343032</td>\n",
       "      <td>-0.030359</td>\n",
       "      <td>0.325468</td>\n",
       "      <td>0.370876</td>\n",
       "      <td>0.371105</td>\n",
       "      <td>0.322942</td>\n",
       "      <td>0.289373</td>\n",
       "      <td>0.296866</td>\n",
       "      <td>0.671607</td>\n",
       "      <td>0.006152</td>\n",
       "      <td>-0.370436</td>\n",
       "      <td>0.247900</td>\n",
       "      <td>0.824757</td>\n",
       "      <td>-0.352229</td>\n",
       "    </tr>\n",
       "    <tr>\n",
       "      <th>PhoneService</th>\n",
       "      <td>-0.006488</td>\n",
       "      <td>0.008576</td>\n",
       "      <td>0.017706</td>\n",
       "      <td>-0.001762</td>\n",
       "      <td>0.008448</td>\n",
       "      <td>1.000000</td>\n",
       "      <td>-0.020538</td>\n",
       "      <td>0.387436</td>\n",
       "      <td>-0.015198</td>\n",
       "      <td>0.024105</td>\n",
       "      <td>0.003727</td>\n",
       "      <td>-0.019158</td>\n",
       "      <td>0.055353</td>\n",
       "      <td>0.043870</td>\n",
       "      <td>0.002247</td>\n",
       "      <td>0.016505</td>\n",
       "      <td>-0.004184</td>\n",
       "      <td>0.247398</td>\n",
       "      <td>0.112851</td>\n",
       "      <td>0.011942</td>\n",
       "    </tr>\n",
       "    <tr>\n",
       "      <th>MultipleLines</th>\n",
       "      <td>-0.006739</td>\n",
       "      <td>0.146185</td>\n",
       "      <td>0.142410</td>\n",
       "      <td>-0.024991</td>\n",
       "      <td>0.343032</td>\n",
       "      <td>-0.020538</td>\n",
       "      <td>1.000000</td>\n",
       "      <td>-0.109216</td>\n",
       "      <td>0.007141</td>\n",
       "      <td>0.117327</td>\n",
       "      <td>0.122318</td>\n",
       "      <td>0.011466</td>\n",
       "      <td>0.175059</td>\n",
       "      <td>0.180957</td>\n",
       "      <td>0.110842</td>\n",
       "      <td>0.165146</td>\n",
       "      <td>-0.176793</td>\n",
       "      <td>0.433576</td>\n",
       "      <td>0.452883</td>\n",
       "      <td>0.038037</td>\n",
       "    </tr>\n",
       "    <tr>\n",
       "      <th>InternetService</th>\n",
       "      <td>-0.000863</td>\n",
       "      <td>-0.032310</td>\n",
       "      <td>0.000891</td>\n",
       "      <td>0.044590</td>\n",
       "      <td>-0.030359</td>\n",
       "      <td>0.387436</td>\n",
       "      <td>-0.109216</td>\n",
       "      <td>1.000000</td>\n",
       "      <td>-0.028416</td>\n",
       "      <td>0.036138</td>\n",
       "      <td>0.044944</td>\n",
       "      <td>-0.026047</td>\n",
       "      <td>0.107417</td>\n",
       "      <td>0.098350</td>\n",
       "      <td>0.099721</td>\n",
       "      <td>-0.138625</td>\n",
       "      <td>0.086140</td>\n",
       "      <td>-0.323260</td>\n",
       "      <td>-0.175429</td>\n",
       "      <td>-0.047291</td>\n",
       "    </tr>\n",
       "    <tr>\n",
       "      <th>OnlineSecurity</th>\n",
       "      <td>-0.015017</td>\n",
       "      <td>-0.128221</td>\n",
       "      <td>0.150828</td>\n",
       "      <td>0.152166</td>\n",
       "      <td>0.325468</td>\n",
       "      <td>-0.015198</td>\n",
       "      <td>0.007141</td>\n",
       "      <td>-0.028416</td>\n",
       "      <td>1.000000</td>\n",
       "      <td>0.185126</td>\n",
       "      <td>0.175985</td>\n",
       "      <td>0.285028</td>\n",
       "      <td>0.044669</td>\n",
       "      <td>0.055954</td>\n",
       "      <td>0.374416</td>\n",
       "      <td>-0.157641</td>\n",
       "      <td>-0.096726</td>\n",
       "      <td>-0.053878</td>\n",
       "      <td>0.254308</td>\n",
       "      <td>-0.289309</td>\n",
       "    </tr>\n",
       "    <tr>\n",
       "      <th>OnlineBackup</th>\n",
       "      <td>-0.012057</td>\n",
       "      <td>-0.013632</td>\n",
       "      <td>0.153130</td>\n",
       "      <td>0.091015</td>\n",
       "      <td>0.370876</td>\n",
       "      <td>0.024105</td>\n",
       "      <td>0.117327</td>\n",
       "      <td>0.036138</td>\n",
       "      <td>0.185126</td>\n",
       "      <td>1.000000</td>\n",
       "      <td>0.187757</td>\n",
       "      <td>0.195748</td>\n",
       "      <td>0.147186</td>\n",
       "      <td>0.136722</td>\n",
       "      <td>0.280980</td>\n",
       "      <td>-0.013370</td>\n",
       "      <td>-0.124847</td>\n",
       "      <td>0.119777</td>\n",
       "      <td>0.375362</td>\n",
       "      <td>-0.195525</td>\n",
       "    </tr>\n",
       "    <tr>\n",
       "      <th>DeviceProtection</th>\n",
       "      <td>0.000549</td>\n",
       "      <td>-0.021398</td>\n",
       "      <td>0.166330</td>\n",
       "      <td>0.080537</td>\n",
       "      <td>0.371105</td>\n",
       "      <td>0.003727</td>\n",
       "      <td>0.122318</td>\n",
       "      <td>0.044944</td>\n",
       "      <td>0.175985</td>\n",
       "      <td>0.187757</td>\n",
       "      <td>1.000000</td>\n",
       "      <td>0.240593</td>\n",
       "      <td>0.276652</td>\n",
       "      <td>0.288799</td>\n",
       "      <td>0.350277</td>\n",
       "      <td>-0.038234</td>\n",
       "      <td>-0.135750</td>\n",
       "      <td>0.163652</td>\n",
       "      <td>0.388864</td>\n",
       "      <td>-0.178134</td>\n",
       "    </tr>\n",
       "    <tr>\n",
       "      <th>TechSupport</th>\n",
       "      <td>-0.006825</td>\n",
       "      <td>-0.151268</td>\n",
       "      <td>0.126733</td>\n",
       "      <td>0.133524</td>\n",
       "      <td>0.322942</td>\n",
       "      <td>-0.019158</td>\n",
       "      <td>0.011466</td>\n",
       "      <td>-0.026047</td>\n",
       "      <td>0.285028</td>\n",
       "      <td>0.195748</td>\n",
       "      <td>0.240593</td>\n",
       "      <td>1.000000</td>\n",
       "      <td>0.161305</td>\n",
       "      <td>0.161316</td>\n",
       "      <td>0.425367</td>\n",
       "      <td>-0.113600</td>\n",
       "      <td>-0.104670</td>\n",
       "      <td>-0.008682</td>\n",
       "      <td>0.276713</td>\n",
       "      <td>-0.282492</td>\n",
       "    </tr>\n",
       "    <tr>\n",
       "      <th>StreamingTV</th>\n",
       "      <td>-0.006421</td>\n",
       "      <td>0.030776</td>\n",
       "      <td>0.137341</td>\n",
       "      <td>0.046885</td>\n",
       "      <td>0.289373</td>\n",
       "      <td>0.055353</td>\n",
       "      <td>0.175059</td>\n",
       "      <td>0.107417</td>\n",
       "      <td>0.044669</td>\n",
       "      <td>0.147186</td>\n",
       "      <td>0.276652</td>\n",
       "      <td>0.161305</td>\n",
       "      <td>1.000000</td>\n",
       "      <td>0.434772</td>\n",
       "      <td>0.227116</td>\n",
       "      <td>0.096642</td>\n",
       "      <td>-0.104234</td>\n",
       "      <td>0.336706</td>\n",
       "      <td>0.392291</td>\n",
       "      <td>-0.036581</td>\n",
       "    </tr>\n",
       "    <tr>\n",
       "      <th>StreamingMovies</th>\n",
       "      <td>-0.008743</td>\n",
       "      <td>0.047266</td>\n",
       "      <td>0.129574</td>\n",
       "      <td>0.021321</td>\n",
       "      <td>0.296866</td>\n",
       "      <td>0.043870</td>\n",
       "      <td>0.180957</td>\n",
       "      <td>0.098350</td>\n",
       "      <td>0.055954</td>\n",
       "      <td>0.136722</td>\n",
       "      <td>0.288799</td>\n",
       "      <td>0.161316</td>\n",
       "      <td>0.434772</td>\n",
       "      <td>1.000000</td>\n",
       "      <td>0.231226</td>\n",
       "      <td>0.083700</td>\n",
       "      <td>-0.111241</td>\n",
       "      <td>0.335459</td>\n",
       "      <td>0.397909</td>\n",
       "      <td>-0.038492</td>\n",
       "    </tr>\n",
       "    <tr>\n",
       "      <th>Contract</th>\n",
       "      <td>0.000126</td>\n",
       "      <td>-0.142554</td>\n",
       "      <td>0.294806</td>\n",
       "      <td>0.243187</td>\n",
       "      <td>0.671607</td>\n",
       "      <td>0.002247</td>\n",
       "      <td>0.110842</td>\n",
       "      <td>0.099721</td>\n",
       "      <td>0.374416</td>\n",
       "      <td>0.280980</td>\n",
       "      <td>0.350277</td>\n",
       "      <td>0.425367</td>\n",
       "      <td>0.227116</td>\n",
       "      <td>0.231226</td>\n",
       "      <td>1.000000</td>\n",
       "      <td>-0.176733</td>\n",
       "      <td>-0.227543</td>\n",
       "      <td>-0.074195</td>\n",
       "      <td>0.449511</td>\n",
       "      <td>-0.396713</td>\n",
       "    </tr>\n",
       "    <tr>\n",
       "      <th>PaperlessBilling</th>\n",
       "      <td>-0.011754</td>\n",
       "      <td>0.156530</td>\n",
       "      <td>-0.014877</td>\n",
       "      <td>-0.111377</td>\n",
       "      <td>0.006152</td>\n",
       "      <td>0.016505</td>\n",
       "      <td>0.165146</td>\n",
       "      <td>-0.138625</td>\n",
       "      <td>-0.157641</td>\n",
       "      <td>-0.013370</td>\n",
       "      <td>-0.038234</td>\n",
       "      <td>-0.113600</td>\n",
       "      <td>0.096642</td>\n",
       "      <td>0.083700</td>\n",
       "      <td>-0.176733</td>\n",
       "      <td>1.000000</td>\n",
       "      <td>-0.062904</td>\n",
       "      <td>0.352150</td>\n",
       "      <td>0.157676</td>\n",
       "      <td>0.191825</td>\n",
       "    </tr>\n",
       "    <tr>\n",
       "      <th>PaymentMethod</th>\n",
       "      <td>0.017352</td>\n",
       "      <td>-0.038551</td>\n",
       "      <td>-0.154798</td>\n",
       "      <td>-0.040292</td>\n",
       "      <td>-0.370436</td>\n",
       "      <td>-0.004184</td>\n",
       "      <td>-0.176793</td>\n",
       "      <td>0.086140</td>\n",
       "      <td>-0.096726</td>\n",
       "      <td>-0.124847</td>\n",
       "      <td>-0.135750</td>\n",
       "      <td>-0.104670</td>\n",
       "      <td>-0.104234</td>\n",
       "      <td>-0.111241</td>\n",
       "      <td>-0.227543</td>\n",
       "      <td>-0.062904</td>\n",
       "      <td>1.000000</td>\n",
       "      <td>-0.193407</td>\n",
       "      <td>-0.330151</td>\n",
       "      <td>0.107062</td>\n",
       "    </tr>\n",
       "    <tr>\n",
       "      <th>MonthlyCharges</th>\n",
       "      <td>-0.014569</td>\n",
       "      <td>0.220173</td>\n",
       "      <td>0.096848</td>\n",
       "      <td>-0.113890</td>\n",
       "      <td>0.247900</td>\n",
       "      <td>0.247398</td>\n",
       "      <td>0.433576</td>\n",
       "      <td>-0.323260</td>\n",
       "      <td>-0.053878</td>\n",
       "      <td>0.119777</td>\n",
       "      <td>0.163652</td>\n",
       "      <td>-0.008682</td>\n",
       "      <td>0.336706</td>\n",
       "      <td>0.335459</td>\n",
       "      <td>-0.074195</td>\n",
       "      <td>0.352150</td>\n",
       "      <td>-0.193407</td>\n",
       "      <td>1.000000</td>\n",
       "      <td>0.650468</td>\n",
       "      <td>0.193356</td>\n",
       "    </tr>\n",
       "    <tr>\n",
       "      <th>TotalCharges</th>\n",
       "      <td>0.000048</td>\n",
       "      <td>0.102395</td>\n",
       "      <td>0.318812</td>\n",
       "      <td>0.064535</td>\n",
       "      <td>0.824757</td>\n",
       "      <td>0.112851</td>\n",
       "      <td>0.452883</td>\n",
       "      <td>-0.175429</td>\n",
       "      <td>0.254308</td>\n",
       "      <td>0.375362</td>\n",
       "      <td>0.388864</td>\n",
       "      <td>0.276713</td>\n",
       "      <td>0.392291</td>\n",
       "      <td>0.397909</td>\n",
       "      <td>0.449511</td>\n",
       "      <td>0.157676</td>\n",
       "      <td>-0.330151</td>\n",
       "      <td>0.650468</td>\n",
       "      <td>1.000000</td>\n",
       "      <td>-0.199428</td>\n",
       "    </tr>\n",
       "    <tr>\n",
       "      <th>Churn</th>\n",
       "      <td>-0.008612</td>\n",
       "      <td>0.150889</td>\n",
       "      <td>-0.150448</td>\n",
       "      <td>-0.164221</td>\n",
       "      <td>-0.352229</td>\n",
       "      <td>0.011942</td>\n",
       "      <td>0.038037</td>\n",
       "      <td>-0.047291</td>\n",
       "      <td>-0.289309</td>\n",
       "      <td>-0.195525</td>\n",
       "      <td>-0.178134</td>\n",
       "      <td>-0.282492</td>\n",
       "      <td>-0.036581</td>\n",
       "      <td>-0.038492</td>\n",
       "      <td>-0.396713</td>\n",
       "      <td>0.191825</td>\n",
       "      <td>0.107062</td>\n",
       "      <td>0.193356</td>\n",
       "      <td>-0.199428</td>\n",
       "      <td>1.000000</td>\n",
       "    </tr>\n",
       "  </tbody>\n",
       "</table>\n",
       "</div>"
      ],
      "text/plain": [
       "                    gender  SeniorCitizen   Partner  Dependents    tenure  \\\n",
       "gender            1.000000      -0.001874 -0.001808    0.010517  0.005106   \n",
       "SeniorCitizen    -0.001874       1.000000  0.016479   -0.211185  0.016567   \n",
       "Partner          -0.001808       0.016479  1.000000    0.452676  0.379697   \n",
       "Dependents        0.010517      -0.211185  0.452676    1.000000  0.159712   \n",
       "tenure            0.005106       0.016567  0.379697    0.159712  1.000000   \n",
       "PhoneService     -0.006488       0.008576  0.017706   -0.001762  0.008448   \n",
       "MultipleLines    -0.006739       0.146185  0.142410   -0.024991  0.343032   \n",
       "InternetService  -0.000863      -0.032310  0.000891    0.044590 -0.030359   \n",
       "OnlineSecurity   -0.015017      -0.128221  0.150828    0.152166  0.325468   \n",
       "OnlineBackup     -0.012057      -0.013632  0.153130    0.091015  0.370876   \n",
       "DeviceProtection  0.000549      -0.021398  0.166330    0.080537  0.371105   \n",
       "TechSupport      -0.006825      -0.151268  0.126733    0.133524  0.322942   \n",
       "StreamingTV      -0.006421       0.030776  0.137341    0.046885  0.289373   \n",
       "StreamingMovies  -0.008743       0.047266  0.129574    0.021321  0.296866   \n",
       "Contract          0.000126      -0.142554  0.294806    0.243187  0.671607   \n",
       "PaperlessBilling -0.011754       0.156530 -0.014877   -0.111377  0.006152   \n",
       "PaymentMethod     0.017352      -0.038551 -0.154798   -0.040292 -0.370436   \n",
       "MonthlyCharges   -0.014569       0.220173  0.096848   -0.113890  0.247900   \n",
       "TotalCharges      0.000048       0.102395  0.318812    0.064535  0.824757   \n",
       "Churn            -0.008612       0.150889 -0.150448   -0.164221 -0.352229   \n",
       "\n",
       "                  PhoneService  MultipleLines  InternetService  \\\n",
       "gender               -0.006488      -0.006739        -0.000863   \n",
       "SeniorCitizen         0.008576       0.146185        -0.032310   \n",
       "Partner               0.017706       0.142410         0.000891   \n",
       "Dependents           -0.001762      -0.024991         0.044590   \n",
       "tenure                0.008448       0.343032        -0.030359   \n",
       "PhoneService          1.000000      -0.020538         0.387436   \n",
       "MultipleLines        -0.020538       1.000000        -0.109216   \n",
       "InternetService       0.387436      -0.109216         1.000000   \n",
       "OnlineSecurity       -0.015198       0.007141        -0.028416   \n",
       "OnlineBackup          0.024105       0.117327         0.036138   \n",
       "DeviceProtection      0.003727       0.122318         0.044944   \n",
       "TechSupport          -0.019158       0.011466        -0.026047   \n",
       "StreamingTV           0.055353       0.175059         0.107417   \n",
       "StreamingMovies       0.043870       0.180957         0.098350   \n",
       "Contract              0.002247       0.110842         0.099721   \n",
       "PaperlessBilling      0.016505       0.165146        -0.138625   \n",
       "PaymentMethod        -0.004184      -0.176793         0.086140   \n",
       "MonthlyCharges        0.247398       0.433576        -0.323260   \n",
       "TotalCharges          0.112851       0.452883        -0.175429   \n",
       "Churn                 0.011942       0.038037        -0.047291   \n",
       "\n",
       "                  OnlineSecurity  OnlineBackup  DeviceProtection  TechSupport  \\\n",
       "gender                 -0.015017     -0.012057          0.000549    -0.006825   \n",
       "SeniorCitizen          -0.128221     -0.013632         -0.021398    -0.151268   \n",
       "Partner                 0.150828      0.153130          0.166330     0.126733   \n",
       "Dependents              0.152166      0.091015          0.080537     0.133524   \n",
       "tenure                  0.325468      0.370876          0.371105     0.322942   \n",
       "PhoneService           -0.015198      0.024105          0.003727    -0.019158   \n",
       "MultipleLines           0.007141      0.117327          0.122318     0.011466   \n",
       "InternetService        -0.028416      0.036138          0.044944    -0.026047   \n",
       "OnlineSecurity          1.000000      0.185126          0.175985     0.285028   \n",
       "OnlineBackup            0.185126      1.000000          0.187757     0.195748   \n",
       "DeviceProtection        0.175985      0.187757          1.000000     0.240593   \n",
       "TechSupport             0.285028      0.195748          0.240593     1.000000   \n",
       "StreamingTV             0.044669      0.147186          0.276652     0.161305   \n",
       "StreamingMovies         0.055954      0.136722          0.288799     0.161316   \n",
       "Contract                0.374416      0.280980          0.350277     0.425367   \n",
       "PaperlessBilling       -0.157641     -0.013370         -0.038234    -0.113600   \n",
       "PaymentMethod          -0.096726     -0.124847         -0.135750    -0.104670   \n",
       "MonthlyCharges         -0.053878      0.119777          0.163652    -0.008682   \n",
       "TotalCharges            0.254308      0.375362          0.388864     0.276713   \n",
       "Churn                  -0.289309     -0.195525         -0.178134    -0.282492   \n",
       "\n",
       "                  StreamingTV  StreamingMovies  Contract  PaperlessBilling  \\\n",
       "gender              -0.006421        -0.008743  0.000126         -0.011754   \n",
       "SeniorCitizen        0.030776         0.047266 -0.142554          0.156530   \n",
       "Partner              0.137341         0.129574  0.294806         -0.014877   \n",
       "Dependents           0.046885         0.021321  0.243187         -0.111377   \n",
       "tenure               0.289373         0.296866  0.671607          0.006152   \n",
       "PhoneService         0.055353         0.043870  0.002247          0.016505   \n",
       "MultipleLines        0.175059         0.180957  0.110842          0.165146   \n",
       "InternetService      0.107417         0.098350  0.099721         -0.138625   \n",
       "OnlineSecurity       0.044669         0.055954  0.374416         -0.157641   \n",
       "OnlineBackup         0.147186         0.136722  0.280980         -0.013370   \n",
       "DeviceProtection     0.276652         0.288799  0.350277         -0.038234   \n",
       "TechSupport          0.161305         0.161316  0.425367         -0.113600   \n",
       "StreamingTV          1.000000         0.434772  0.227116          0.096642   \n",
       "StreamingMovies      0.434772         1.000000  0.231226          0.083700   \n",
       "Contract             0.227116         0.231226  1.000000         -0.176733   \n",
       "PaperlessBilling     0.096642         0.083700 -0.176733          1.000000   \n",
       "PaymentMethod       -0.104234        -0.111241 -0.227543         -0.062904   \n",
       "MonthlyCharges       0.336706         0.335459 -0.074195          0.352150   \n",
       "TotalCharges         0.392291         0.397909  0.449511          0.157676   \n",
       "Churn               -0.036581        -0.038492 -0.396713          0.191825   \n",
       "\n",
       "                  PaymentMethod  MonthlyCharges  TotalCharges     Churn  \n",
       "gender                 0.017352       -0.014569      0.000048 -0.008612  \n",
       "SeniorCitizen         -0.038551        0.220173      0.102395  0.150889  \n",
       "Partner               -0.154798        0.096848      0.318812 -0.150448  \n",
       "Dependents            -0.040292       -0.113890      0.064535 -0.164221  \n",
       "tenure                -0.370436        0.247900      0.824757 -0.352229  \n",
       "PhoneService          -0.004184        0.247398      0.112851  0.011942  \n",
       "MultipleLines         -0.176793        0.433576      0.452883  0.038037  \n",
       "InternetService        0.086140       -0.323260     -0.175429 -0.047291  \n",
       "OnlineSecurity        -0.096726       -0.053878      0.254308 -0.289309  \n",
       "OnlineBackup          -0.124847        0.119777      0.375362 -0.195525  \n",
       "DeviceProtection      -0.135750        0.163652      0.388864 -0.178134  \n",
       "TechSupport           -0.104670       -0.008682      0.276713 -0.282492  \n",
       "StreamingTV           -0.104234        0.336706      0.392291 -0.036581  \n",
       "StreamingMovies       -0.111241        0.335459      0.397909 -0.038492  \n",
       "Contract              -0.227543       -0.074195      0.449511 -0.396713  \n",
       "PaperlessBilling      -0.062904        0.352150      0.157676  0.191825  \n",
       "PaymentMethod          1.000000       -0.193407     -0.330151  0.107062  \n",
       "MonthlyCharges        -0.193407        1.000000      0.650468  0.193356  \n",
       "TotalCharges          -0.330151        0.650468      1.000000 -0.199428  \n",
       "Churn                  0.107062        0.193356     -0.199428  1.000000  "
      ]
     },
     "execution_count": 49,
     "metadata": {},
     "output_type": "execute_result"
    }
   ],
   "source": [
    "# Correlation of features and label\n",
    "df.corr()"
   ]
  },
  {
   "cell_type": "code",
   "execution_count": 59,
   "id": "008d590c",
   "metadata": {},
   "outputs": [
    {
     "data": {
      "image/png": "[encoded data removed]",
      "text/plain": [
       "<Figure size 1080x720 with 2 Axes>"
      ]
     },
     "metadata": {
      "needs_background": "light"
     },
     "output_type": "display_data"
    }
   ],
   "source": [
    "# let's visualize it using Heatmap.\n",
    "plt.figure(figsize=(15,10))\n",
    "sns.heatmap(df.corr(), annot= True, fmt='.0%')\n",
    "plt.title(\"Correlation Matrix\")\n",
    "plt.show()"
   ]
  },
  {
   "cell_type": "markdown",
   "id": "c605b935",
   "metadata": {},
   "source": [
    "We can observe that churn is highly correlated to contract, also there is some correlation between tenure and TotalCharges. Let's do some more visualization to get a clear picture.\n",
    "\n",
    "Also we can see that gender, PhoneService are very less correlated with Churn, just 1% "
   ]
  },
  {
   "cell_type": "code",
   "execution_count": 60,
   "id": "5a102053",
   "metadata": {},
   "outputs": [
    {
     "data": {
      "image/png": "[encoded data removed]",
      "text/plain": [
       "<Figure size 1584x576 with 1 Axes>"
      ]
     },
     "metadata": {
      "needs_background": "light"
     },
     "output_type": "display_data"
    }
   ],
   "source": [
    "# correlation with target variable\n",
    "plt.figure(figsize=(22,8))\n",
    "df.corr()['Churn'].sort_values(ascending= False).drop(['Churn']).plot(kind= 'bar', color='c')\n",
    "plt.xlabel(\"Features\")\n",
    "plt.ylabel(\"Churn\")\n",
    "plt.title(\"Correlation\")\n",
    "plt.show()"
   ]
  },
  {
   "cell_type": "markdown",
   "id": "dd8d4527",
   "metadata": {},
   "source": [
    "We can clearly observe that features are both positively and negatively related to Churn, where least correlated features are gender and PhoneService. Highly positively correlated is Monthly charges and Highly negatively correlated is Contract."
   ]
  },
  {
   "cell_type": "code",
   "execution_count": 51,
   "id": "e0313c36",
   "metadata": {},
   "outputs": [
    {
     "data": {
      "text/plain": [
       "<AxesSubplot:xlabel='TotalCharges', ylabel='tenure'>"
      ]
     },
     "execution_count": 51,
     "metadata": {},
     "output_type": "execute_result"
    },
    {
     "data": {
      "image/png": "[encoded data removed]",
      "text/plain": [
       "<Figure size 432x288 with 1 Axes>"
      ]
     },
     "metadata": {
      "needs_background": "light"
     },
     "output_type": "display_data"
    }
   ],
   "source": [
    "sns.scatterplot(x='TotalCharges',y='tenure', data=df)"
   ]
  },
  {
   "cell_type": "markdown",
   "id": "89176d1f",
   "metadata": {},
   "source": [
    "We can observe that both of them are positively correlated, Let's drop Total Charges, as it is least correlated with Churn as compare to tenure"
   ]
  },
  {
   "cell_type": "code",
   "execution_count": 62,
   "id": "a85661c0",
   "metadata": {},
   "outputs": [],
   "source": [
    "df.drop('TotalCharges', axis=1, inplace= True)"
   ]
  },
  {
   "cell_type": "code",
   "execution_count": 63,
   "id": "49acb62b",
   "metadata": {},
   "outputs": [
    {
     "data": {
      "text/html": [
       "<div>\n",
       "<style scoped>\n",
       "    .dataframe tbody tr th:only-of-type {\n",
       "        vertical-align: middle;\n",
       "    }\n",
       "\n",
       "    .dataframe tbody tr th {\n",
       "        vertical-align: top;\n",
       "    }\n",
       "\n",
       "    .dataframe thead th {\n",
       "        text-align: right;\n",
       "    }\n",
       "</style>\n",
       "<table border=\"1\" class=\"dataframe\">\n",
       "  <thead>\n",
       "    <tr style=\"text-align: right;\">\n",
       "      <th></th>\n",
       "      <th>gender</th>\n",
       "      <th>SeniorCitizen</th>\n",
       "      <th>Partner</th>\n",
       "      <th>Dependents</th>\n",
       "      <th>tenure</th>\n",
       "      <th>PhoneService</th>\n",
       "      <th>MultipleLines</th>\n",
       "      <th>InternetService</th>\n",
       "      <th>OnlineSecurity</th>\n",
       "      <th>OnlineBackup</th>\n",
       "      <th>DeviceProtection</th>\n",
       "      <th>TechSupport</th>\n",
       "      <th>StreamingTV</th>\n",
       "      <th>StreamingMovies</th>\n",
       "      <th>Contract</th>\n",
       "      <th>PaperlessBilling</th>\n",
       "      <th>PaymentMethod</th>\n",
       "      <th>MonthlyCharges</th>\n",
       "      <th>Churn</th>\n",
       "    </tr>\n",
       "  </thead>\n",
       "  <tbody>\n",
       "    <tr>\n",
       "      <th>count</th>\n",
       "      <td>7043.000000</td>\n",
       "      <td>7043.000000</td>\n",
       "      <td>7043.000000</td>\n",
       "      <td>7043.000000</td>\n",
       "      <td>7043.000000</td>\n",
       "      <td>7043.000000</td>\n",
       "      <td>7043.000000</td>\n",
       "      <td>7043.000000</td>\n",
       "      <td>7043.000000</td>\n",
       "      <td>7043.000000</td>\n",
       "      <td>7043.000000</td>\n",
       "      <td>7043.000000</td>\n",
       "      <td>7043.000000</td>\n",
       "      <td>7043.000000</td>\n",
       "      <td>7043.000000</td>\n",
       "      <td>7043.000000</td>\n",
       "      <td>7043.000000</td>\n",
       "      <td>7043.000000</td>\n",
       "      <td>7043.000000</td>\n",
       "    </tr>\n",
       "    <tr>\n",
       "      <th>mean</th>\n",
       "      <td>0.504756</td>\n",
       "      <td>0.162147</td>\n",
       "      <td>0.483033</td>\n",
       "      <td>0.299588</td>\n",
       "      <td>32.371149</td>\n",
       "      <td>0.903166</td>\n",
       "      <td>0.940508</td>\n",
       "      <td>0.872923</td>\n",
       "      <td>0.790004</td>\n",
       "      <td>0.906432</td>\n",
       "      <td>0.904444</td>\n",
       "      <td>0.797104</td>\n",
       "      <td>0.985376</td>\n",
       "      <td>0.992475</td>\n",
       "      <td>0.690473</td>\n",
       "      <td>0.592219</td>\n",
       "      <td>1.574329</td>\n",
       "      <td>64.761692</td>\n",
       "      <td>0.265370</td>\n",
       "    </tr>\n",
       "    <tr>\n",
       "      <th>std</th>\n",
       "      <td>0.500013</td>\n",
       "      <td>0.368612</td>\n",
       "      <td>0.499748</td>\n",
       "      <td>0.458110</td>\n",
       "      <td>24.559481</td>\n",
       "      <td>0.295752</td>\n",
       "      <td>0.948554</td>\n",
       "      <td>0.737796</td>\n",
       "      <td>0.859848</td>\n",
       "      <td>0.880162</td>\n",
       "      <td>0.879949</td>\n",
       "      <td>0.861551</td>\n",
       "      <td>0.885002</td>\n",
       "      <td>0.885091</td>\n",
       "      <td>0.833755</td>\n",
       "      <td>0.491457</td>\n",
       "      <td>1.068104</td>\n",
       "      <td>30.090047</td>\n",
       "      <td>0.441561</td>\n",
       "    </tr>\n",
       "    <tr>\n",
       "      <th>min</th>\n",
       "      <td>0.000000</td>\n",
       "      <td>0.000000</td>\n",
       "      <td>0.000000</td>\n",
       "      <td>0.000000</td>\n",
       "      <td>0.000000</td>\n",
       "      <td>0.000000</td>\n",
       "      <td>0.000000</td>\n",
       "      <td>0.000000</td>\n",
       "      <td>0.000000</td>\n",
       "      <td>0.000000</td>\n",
       "      <td>0.000000</td>\n",
       "      <td>0.000000</td>\n",
       "      <td>0.000000</td>\n",
       "      <td>0.000000</td>\n",
       "      <td>0.000000</td>\n",
       "      <td>0.000000</td>\n",
       "      <td>0.000000</td>\n",
       "      <td>18.250000</td>\n",
       "      <td>0.000000</td>\n",
       "    </tr>\n",
       "    <tr>\n",
       "      <th>25%</th>\n",
       "      <td>0.000000</td>\n",
       "      <td>0.000000</td>\n",
       "      <td>0.000000</td>\n",
       "      <td>0.000000</td>\n",
       "      <td>9.000000</td>\n",
       "      <td>1.000000</td>\n",
       "      <td>0.000000</td>\n",
       "      <td>0.000000</td>\n",
       "      <td>0.000000</td>\n",
       "      <td>0.000000</td>\n",
       "      <td>0.000000</td>\n",
       "      <td>0.000000</td>\n",
       "      <td>0.000000</td>\n",
       "      <td>0.000000</td>\n",
       "      <td>0.000000</td>\n",
       "      <td>0.000000</td>\n",
       "      <td>1.000000</td>\n",
       "      <td>35.500000</td>\n",
       "      <td>0.000000</td>\n",
       "    </tr>\n",
       "    <tr>\n",
       "      <th>50%</th>\n",
       "      <td>1.000000</td>\n",
       "      <td>0.000000</td>\n",
       "      <td>0.000000</td>\n",
       "      <td>0.000000</td>\n",
       "      <td>29.000000</td>\n",
       "      <td>1.000000</td>\n",
       "      <td>1.000000</td>\n",
       "      <td>1.000000</td>\n",
       "      <td>1.000000</td>\n",
       "      <td>1.000000</td>\n",
       "      <td>1.000000</td>\n",
       "      <td>1.000000</td>\n",
       "      <td>1.000000</td>\n",
       "      <td>1.000000</td>\n",
       "      <td>0.000000</td>\n",
       "      <td>1.000000</td>\n",
       "      <td>2.000000</td>\n",
       "      <td>70.350000</td>\n",
       "      <td>0.000000</td>\n",
       "    </tr>\n",
       "    <tr>\n",
       "      <th>75%</th>\n",
       "      <td>1.000000</td>\n",
       "      <td>0.000000</td>\n",
       "      <td>1.000000</td>\n",
       "      <td>1.000000</td>\n",
       "      <td>55.000000</td>\n",
       "      <td>1.000000</td>\n",
       "      <td>2.000000</td>\n",
       "      <td>1.000000</td>\n",
       "      <td>2.000000</td>\n",
       "      <td>2.000000</td>\n",
       "      <td>2.000000</td>\n",
       "      <td>2.000000</td>\n",
       "      <td>2.000000</td>\n",
       "      <td>2.000000</td>\n",
       "      <td>1.000000</td>\n",
       "      <td>1.000000</td>\n",
       "      <td>2.000000</td>\n",
       "      <td>89.850000</td>\n",
       "      <td>1.000000</td>\n",
       "    </tr>\n",
       "    <tr>\n",
       "      <th>max</th>\n",
       "      <td>1.000000</td>\n",
       "      <td>1.000000</td>\n",
       "      <td>1.000000</td>\n",
       "      <td>1.000000</td>\n",
       "      <td>72.000000</td>\n",
       "      <td>1.000000</td>\n",
       "      <td>2.000000</td>\n",
       "      <td>2.000000</td>\n",
       "      <td>2.000000</td>\n",
       "      <td>2.000000</td>\n",
       "      <td>2.000000</td>\n",
       "      <td>2.000000</td>\n",
       "      <td>2.000000</td>\n",
       "      <td>2.000000</td>\n",
       "      <td>2.000000</td>\n",
       "      <td>1.000000</td>\n",
       "      <td>3.000000</td>\n",
       "      <td>118.750000</td>\n",
       "      <td>1.000000</td>\n",
       "    </tr>\n",
       "  </tbody>\n",
       "</table>\n",
       "</div>"
      ],
      "text/plain": [
       "            gender  SeniorCitizen      Partner   Dependents       tenure  \\\n",
       "count  7043.000000    7043.000000  7043.000000  7043.000000  7043.000000   \n",
       "mean      0.504756       0.162147     0.483033     0.299588    32.371149   \n",
       "std       0.500013       0.368612     0.499748     0.458110    24.559481   \n",
       "min       0.000000       0.000000     0.000000     0.000000     0.000000   \n",
       "25%       0.000000       0.000000     0.000000     0.000000     9.000000   \n",
       "50%       1.000000       0.000000     0.000000     0.000000    29.000000   \n",
       "75%       1.000000       0.000000     1.000000     1.000000    55.000000   \n",
       "max       1.000000       1.000000     1.000000     1.000000    72.000000   \n",
       "\n",
       "       PhoneService  MultipleLines  InternetService  OnlineSecurity  \\\n",
       "count   7043.000000    7043.000000      7043.000000     7043.000000   \n",
       "mean       0.903166       0.940508         0.872923        0.790004   \n",
       "std        0.295752       0.948554         0.737796        0.859848   \n",
       "min        0.000000       0.000000         0.000000        0.000000   \n",
       "25%        1.000000       0.000000         0.000000        0.000000   \n",
       "50%        1.000000       1.000000         1.000000        1.000000   \n",
       "75%        1.000000       2.000000         1.000000        2.000000   \n",
       "max        1.000000       2.000000         2.000000        2.000000   \n",
       "\n",
       "       OnlineBackup  DeviceProtection  TechSupport  StreamingTV  \\\n",
       "count   7043.000000       7043.000000  7043.000000  7043.000000   \n",
       "mean       0.906432          0.904444     0.797104     0.985376   \n",
       "std        0.880162          0.879949     0.861551     0.885002   \n",
       "min        0.000000          0.000000     0.000000     0.000000   \n",
       "25%        0.000000          0.000000     0.000000     0.000000   \n",
       "50%        1.000000          1.000000     1.000000     1.000000   \n",
       "75%        2.000000          2.000000     2.000000     2.000000   \n",
       "max        2.000000          2.000000     2.000000     2.000000   \n",
       "\n",
       "       StreamingMovies     Contract  PaperlessBilling  PaymentMethod  \\\n",
       "count      7043.000000  7043.000000       7043.000000    7043.000000   \n",
       "mean          0.992475     0.690473          0.592219       1.574329   \n",
       "std           0.885091     0.833755          0.491457       1.068104   \n",
       "min           0.000000     0.000000          0.000000       0.000000   \n",
       "25%           0.000000     0.000000          0.000000       1.000000   \n",
       "50%           1.000000     0.000000          1.000000       2.000000   \n",
       "75%           2.000000     1.000000          1.000000       2.000000   \n",
       "max           2.000000     2.000000          1.000000       3.000000   \n",
       "\n",
       "       MonthlyCharges        Churn  \n",
       "count     7043.000000  7043.000000  \n",
       "mean        64.761692     0.265370  \n",
       "std         30.090047     0.441561  \n",
       "min         18.250000     0.000000  \n",
       "25%         35.500000     0.000000  \n",
       "50%         70.350000     0.000000  \n",
       "75%         89.850000     1.000000  \n",
       "max        118.750000     1.000000  "
      ]
     },
     "execution_count": 63,
     "metadata": {},
     "output_type": "execute_result"
    }
   ],
   "source": [
    "# Let's describe the dataset\n",
    "df.describe()"
   ]
  },
  {
   "cell_type": "code",
   "execution_count": 64,
   "id": "84dc11ab",
   "metadata": {},
   "outputs": [
    {
     "data": {
      "image/png": "[encoded data removed]",
      "text/plain": [
       "<Figure size 1584x432 with 2 Axes>"
      ]
     },
     "metadata": {
      "needs_background": "light"
     },
     "output_type": "display_data"
    }
   ],
   "source": [
    "# let's visualize it using Heatmap.\n",
    "plt.figure(figsize=(22,6))\n",
    "sns.heatmap(df.describe(), annot= True,linewidths=0.1,linecolor='black', fmt='.2f')\n",
    "plt.show()"
   ]
  },
  {
   "cell_type": "markdown",
   "id": "9187278e",
   "metadata": {},
   "source": [
    "So far data looks good, let's chcek for skewness and Outliers\n",
    "\n",
    "\n",
    "\n",
    "# Skewness and Outlier Detection"
   ]
  },
  {
   "cell_type": "code",
   "execution_count": 65,
   "id": "f65e74b0",
   "metadata": {},
   "outputs": [
    {
     "data": {
      "text/plain": [
       "gender             -0.019031\n",
       "SeniorCitizen       1.833633\n",
       "Partner             0.067922\n",
       "Dependents          0.875199\n",
       "tenure              0.239540\n",
       "PhoneService       -2.727153\n",
       "MultipleLines       0.118719\n",
       "InternetService     0.205423\n",
       "OnlineSecurity      0.416985\n",
       "OnlineBackup        0.182930\n",
       "DeviceProtection    0.186847\n",
       "TechSupport         0.402365\n",
       "StreamingTV         0.028486\n",
       "StreamingMovies     0.014657\n",
       "Contract            0.630959\n",
       "PaperlessBilling   -0.375396\n",
       "PaymentMethod      -0.170129\n",
       "MonthlyCharges     -0.220524\n",
       "Churn               1.063031\n",
       "dtype: float64"
      ]
     },
     "execution_count": 65,
     "metadata": {},
     "output_type": "execute_result"
    }
   ],
   "source": [
    "df.skew()"
   ]
  },
  {
   "cell_type": "markdown",
   "id": "c012a5a0",
   "metadata": {},
   "source": [
    "We can observe skewness in SeniorCitizen, Dependents,PhoneService, TotalCharges and Churn if we considered threshold value for skewness be +/-0.5. However, Dependents,PhoneService are categorical column and Churn is our target variable, we cannot change them.\n",
    "\n",
    "So we can remove skewness from SeniorCitizen and TotalCharges, we will use Power Transformer since SeniorCitizen has 0's. "
   ]
  },
  {
   "cell_type": "code",
   "execution_count": 68,
   "id": "a9ba642f",
   "metadata": {},
   "outputs": [],
   "source": [
    "from sklearn.preprocessing import PowerTransformer\n",
    "pwrTrans=PowerTransformer(method='yeo-johnson') \n",
    "feature=['SeniorCitizen']\n",
    "df[feature]=pwrTrans.fit_transform(df[feature].values)\n"
   ]
  },
  {
   "cell_type": "code",
   "execution_count": 70,
   "id": "e18a7ba5",
   "metadata": {},
   "outputs": [
    {
     "data": {
      "text/plain": [
       "(7043, 19)"
      ]
     },
     "execution_count": 70,
     "metadata": {},
     "output_type": "execute_result"
    }
   ],
   "source": [
    "\n",
    "df.shape"
   ]
  },
  {
   "cell_type": "markdown",
   "id": "0f7c00ea",
   "metadata": {},
   "source": [
    "The model treat it as categorical column since it has only two values. Let's Move ahead with outlier detection using boxplot."
   ]
  },
  {
   "cell_type": "code",
   "execution_count": 72,
   "id": "7681ba38",
   "metadata": {},
   "outputs": [
    {
     "data": {
      "image/png": "[encoded data removed]",
      "text/plain": [
       "<Figure size 2880x3240 with 19 Axes>"
      ]
     },
     "metadata": {
      "needs_background": "light"
     },
     "output_type": "display_data"
    }
   ],
   "source": [
    "#Visualize the Outlier using BOXPLOT \n",
    "\n",
    "plt.figure(figsize=(40,45))\n",
    "graph=1\n",
    "for column in df:\n",
    "    if graph<=19:      #25 denotes total number of columns\n",
    "        plt.subplot(5,4,graph)\n",
    "        ax=sns.boxplot(data=df[column])\n",
    "        plt.xlabel(column, fontsize=12)\n",
    "    graph+=1\n",
    "plt.show()"
   ]
  },
  {
   "cell_type": "markdown",
   "id": "2f91ffd0",
   "metadata": {},
   "source": [
    "The Dataset looks good, No outliers are present, let's move ahead to start analysing our data and Build a Model. However, before that let's chcek for MultiColinearity and for that we need to scale our dataset. We will use Standard scaler.  "
   ]
  },
  {
   "cell_type": "markdown",
   "id": "ae6d6fee",
   "metadata": {},
   "source": [
    "# Scaling and Checking for Multicolinearity using VIF"
   ]
  },
  {
   "cell_type": "code",
   "execution_count": 73,
   "id": "b1a3bf69",
   "metadata": {},
   "outputs": [],
   "source": [
    "# Separating target from features\n",
    "\n",
    "X=df.drop('Churn', axis=1)\n",
    "y= df.Churn"
   ]
  },
  {
   "cell_type": "code",
   "execution_count": 74,
   "id": "adbf2397",
   "metadata": {},
   "outputs": [],
   "source": [
    "from sklearn.preprocessing import StandardScaler\n",
    "scalar=StandardScaler()\n",
    "\n",
    "# Scaling using Standard Scalar\n",
    "X_Scaled=scalar.fit_transform(X)"
   ]
  },
  {
   "cell_type": "code",
   "execution_count": 75,
   "id": "0ee12158",
   "metadata": {},
   "outputs": [],
   "source": [
    "#finding variance inflation factor in each scaled column i.e X_scaled.shape[1] (1/1-R2): here R2=actual-predicted\n",
    "#this method help us to identify multicollinearity.\n",
    "\n",
    "# Import library for VIF\n",
    "from statsmodels.stats.outliers_influence import variance_inflation_factor\n"
   ]
  },
  {
   "cell_type": "code",
   "execution_count": 77,
   "id": "c279fff0",
   "metadata": {},
   "outputs": [
    {
     "data": {
      "text/html": [
       "<div>\n",
       "<style scoped>\n",
       "    .dataframe tbody tr th:only-of-type {\n",
       "        vertical-align: middle;\n",
       "    }\n",
       "\n",
       "    .dataframe tbody tr th {\n",
       "        vertical-align: top;\n",
       "    }\n",
       "\n",
       "    .dataframe thead th {\n",
       "        text-align: right;\n",
       "    }\n",
       "</style>\n",
       "<table border=\"1\" class=\"dataframe\">\n",
       "  <thead>\n",
       "    <tr style=\"text-align: right;\">\n",
       "      <th></th>\n",
       "      <th>vif</th>\n",
       "      <th>Features</th>\n",
       "    </tr>\n",
       "  </thead>\n",
       "  <tbody>\n",
       "    <tr>\n",
       "      <th>0</th>\n",
       "      <td>1.001684</td>\n",
       "      <td>gender</td>\n",
       "    </tr>\n",
       "    <tr>\n",
       "      <th>1</th>\n",
       "      <td>1.149639</td>\n",
       "      <td>SeniorCitizen</td>\n",
       "    </tr>\n",
       "    <tr>\n",
       "      <th>2</th>\n",
       "      <td>1.460856</td>\n",
       "      <td>Partner</td>\n",
       "    </tr>\n",
       "    <tr>\n",
       "      <th>3</th>\n",
       "      <td>1.382106</td>\n",
       "      <td>Dependents</td>\n",
       "    </tr>\n",
       "    <tr>\n",
       "      <th>4</th>\n",
       "      <td>2.754468</td>\n",
       "      <td>tenure</td>\n",
       "    </tr>\n",
       "    <tr>\n",
       "      <th>5</th>\n",
       "      <td>1.622282</td>\n",
       "      <td>PhoneService</td>\n",
       "    </tr>\n",
       "    <tr>\n",
       "      <th>6</th>\n",
       "      <td>1.391652</td>\n",
       "      <td>MultipleLines</td>\n",
       "    </tr>\n",
       "    <tr>\n",
       "      <th>7</th>\n",
       "      <td>1.825876</td>\n",
       "      <td>InternetService</td>\n",
       "    </tr>\n",
       "    <tr>\n",
       "      <th>8</th>\n",
       "      <td>1.247696</td>\n",
       "      <td>OnlineSecurity</td>\n",
       "    </tr>\n",
       "    <tr>\n",
       "      <th>9</th>\n",
       "      <td>1.185932</td>\n",
       "      <td>OnlineBackup</td>\n",
       "    </tr>\n",
       "    <tr>\n",
       "      <th>10</th>\n",
       "      <td>1.280152</td>\n",
       "      <td>DeviceProtection</td>\n",
       "    </tr>\n",
       "    <tr>\n",
       "      <th>11</th>\n",
       "      <td>1.303573</td>\n",
       "      <td>TechSupport</td>\n",
       "    </tr>\n",
       "    <tr>\n",
       "      <th>12</th>\n",
       "      <td>1.443671</td>\n",
       "      <td>StreamingTV</td>\n",
       "    </tr>\n",
       "    <tr>\n",
       "      <th>13</th>\n",
       "      <td>1.442276</td>\n",
       "      <td>StreamingMovies</td>\n",
       "    </tr>\n",
       "    <tr>\n",
       "      <th>14</th>\n",
       "      <td>2.459201</td>\n",
       "      <td>Contract</td>\n",
       "    </tr>\n",
       "    <tr>\n",
       "      <th>15</th>\n",
       "      <td>1.202918</td>\n",
       "      <td>PaperlessBilling</td>\n",
       "    </tr>\n",
       "    <tr>\n",
       "      <th>16</th>\n",
       "      <td>1.180664</td>\n",
       "      <td>PaymentMethod</td>\n",
       "    </tr>\n",
       "    <tr>\n",
       "      <th>17</th>\n",
       "      <td>2.733024</td>\n",
       "      <td>MonthlyCharges</td>\n",
       "    </tr>\n",
       "  </tbody>\n",
       "</table>\n",
       "</div>"
      ],
      "text/plain": [
       "         vif          Features\n",
       "0   1.001684            gender\n",
       "1   1.149639     SeniorCitizen\n",
       "2   1.460856           Partner\n",
       "3   1.382106        Dependents\n",
       "4   2.754468            tenure\n",
       "5   1.622282      PhoneService\n",
       "6   1.391652     MultipleLines\n",
       "7   1.825876   InternetService\n",
       "8   1.247696    OnlineSecurity\n",
       "9   1.185932      OnlineBackup\n",
       "10  1.280152  DeviceProtection\n",
       "11  1.303573       TechSupport\n",
       "12  1.443671       StreamingTV\n",
       "13  1.442276   StreamingMovies\n",
       "14  2.459201          Contract\n",
       "15  1.202918  PaperlessBilling\n",
       "16  1.180664     PaymentMethod\n",
       "17  2.733024    MonthlyCharges"
      ]
     },
     "execution_count": 77,
     "metadata": {},
     "output_type": "execute_result"
    }
   ],
   "source": [
    "vif=pd.DataFrame()\n",
    "vif[\"vif\"]= [variance_inflation_factor(X_Scaled,i) for i in range(X_Scaled.shape[1])]\n",
    "vif[\"Features\"]=X.columns\n",
    "\n",
    "#let's check the values\n",
    "vif"
   ]
  },
  {
   "cell_type": "markdown",
   "id": "01f03dcd",
   "metadata": {},
   "source": [
    "All the values are under 5 means , their is no multicolinearity in our dataset. \n",
    "\n",
    "\n",
    "Now everything looks good, let's move ahead with Model Building.\n",
    "\n",
    "Here our label is Churn, with two classes, it will be a binary classification Model. We can start with Logistic Regression."
   ]
  },
  {
   "cell_type": "markdown",
   "id": "059d4ac0",
   "metadata": {},
   "source": [
    "# Model Building"
   ]
  },
  {
   "cell_type": "code",
   "execution_count": 78,
   "id": "d9e25079",
   "metadata": {},
   "outputs": [],
   "source": [
    "# importing libraries\n",
    "from sklearn.model_selection import train_test_split,RandomizedSearchCV\n",
    "from sklearn.metrics import accuracy_score,confusion_matrix, classification_report\n",
    "\n",
    "# Model \n",
    "from sklearn.linear_model import LogisticRegression"
   ]
  },
  {
   "cell_type": "code",
   "execution_count": 86,
   "id": "b0a9dfff",
   "metadata": {},
   "outputs": [],
   "source": [
    "# splitting dataset into test and train data, we are considering the test data to be 20%\n",
    "X_train,X_test, y_train,y_test=train_test_split(X,y,test_size=0.25)"
   ]
  },
  {
   "cell_type": "markdown",
   "id": "765c55f5",
   "metadata": {},
   "source": [
    "# LogisticRegression"
   ]
  },
  {
   "cell_type": "code",
   "execution_count": 87,
   "id": "4637980a",
   "metadata": {},
   "outputs": [
    {
     "name": "stdout",
     "output_type": "stream",
     "text": [
      "Accuracy  0.8062455642299503 Random state  1\n",
      "Max accuracy  0.8062455642299503  at random state  1\n",
      "Accuracy  0.8048261178140526 Random state  2\n",
      "Accuracy  0.8147622427253371 Random state  3\n",
      "Max accuracy  0.8147622427253371  at random state  3\n",
      "Accuracy  0.7814052519517388 Random state  4\n",
      "Accuracy  0.7927608232789212 Random state  5\n",
      "Accuracy  0.8041163946061036 Random state  6\n",
      "Accuracy  0.8119233498935415 Random state  7\n",
      "Accuracy  0.7764371894960965 Random state  8\n",
      "Accuracy  0.7934705464868701 Random state  9\n",
      "Accuracy  0.8026969481902059 Random state  10\n",
      "Accuracy  0.8048261178140526 Random state  11\n",
      "Accuracy  0.794889992902768 Random state  12\n",
      "Accuracy  0.8055358410220014 Random state  13\n",
      "Accuracy  0.8197303051809794 Random state  14\n",
      "Max accuracy  0.8197303051809794  at random state  14\n",
      "Accuracy  0.8005677785663591 Random state  15\n",
      "Accuracy  0.8097941802696949 Random state  16\n",
      "Accuracy  0.7991483321504613 Random state  17\n",
      "Accuracy  0.8183108587650816 Random state  18\n",
      "Accuracy  0.8026969481902059 Random state  19\n",
      "Accuracy  0.8119233498935415 Random state  20\n",
      "Accuracy  0.7906316536550745 Random state  21\n",
      "Accuracy  0.7771469127040455 Random state  22\n",
      "Accuracy  0.8062455642299503 Random state  23\n",
      "Accuracy  0.8211497515968772 Random state  24\n",
      "Max accuracy  0.8211497515968772  at random state  24\n",
      "Accuracy  0.8090844570617459 Random state  25\n",
      "Accuracy  0.8041163946061036 Random state  26\n",
      "Accuracy  0.8005677785663591 Random state  27\n",
      "Accuracy  0.7991483321504613 Random state  28\n",
      "Accuracy  0.7856635911994322 Random state  29\n",
      "Accuracy  0.7934705464868701 Random state  30\n",
      "Accuracy  0.8090844570617459 Random state  31\n",
      "Accuracy  0.794180269694819 Random state  32\n",
      "Accuracy  0.7991483321504613 Random state  33\n",
      "Accuracy  0.7814052519517388 Random state  34\n",
      "Accuracy  0.8289567068843151 Random state  35\n",
      "Max accuracy  0.8289567068843151  at random state  35\n",
      "Accuracy  0.794180269694819 Random state  36\n",
      "Accuracy  0.8069552874378992 Random state  37\n",
      "Accuracy  0.8055358410220014 Random state  38\n",
      "Accuracy  0.8026969481902059 Random state  39\n",
      "Accuracy  0.7927608232789212 Random state  40\n",
      "Accuracy  0.78708303761533 Random state  41\n",
      "Accuracy  0.8176011355571328 Random state  42\n",
      "Accuracy  0.8090844570617459 Random state  43\n",
      "Accuracy  0.8005677785663591 Random state  44\n",
      "Accuracy  0.8126330731014905 Random state  45\n",
      "Accuracy  0.8069552874378992 Random state  46\n",
      "Accuracy  0.7899219304471257 Random state  47\n",
      "Accuracy  0.8062455642299503 Random state  48\n",
      "Accuracy  0.8119233498935415 Random state  49\n",
      "Accuracy  0.8034066713981547 Random state  50\n",
      "Accuracy  0.8005677785663591 Random state  51\n",
      "Accuracy  0.8112136266855926 Random state  52\n",
      "Accuracy  0.808374733853797 Random state  53\n",
      "Accuracy  0.7955997161107168 Random state  54\n",
      "Accuracy  0.8005677785663591 Random state  55\n",
      "Accuracy  0.8140525195173882 Random state  56\n",
      "Accuracy  0.8161816891412349 Random state  57\n",
      "Accuracy  0.8034066713981547 Random state  58\n",
      "Accuracy  0.8168914123491838 Random state  59\n",
      "Accuracy  0.7955997161107168 Random state  60\n",
      "Accuracy  0.7984386089425124 Random state  61\n",
      "Accuracy  0.8090844570617459 Random state  62\n",
      "Accuracy  0.7963094393186657 Random state  63\n",
      "Accuracy  0.8019872249822569 Random state  64\n",
      "Accuracy  0.7963094393186657 Random state  65\n",
      "Accuracy  0.7970191625266146 Random state  66\n",
      "Accuracy  0.8176011355571328 Random state  67\n",
      "Accuracy  0.8105039034776437 Random state  68\n",
      "Accuracy  0.8090844570617459 Random state  69\n",
      "Accuracy  0.7906316536550745 Random state  70\n",
      "Accuracy  0.8005677785663591 Random state  71\n",
      "Accuracy  0.7977288857345636 Random state  72\n",
      "Accuracy  0.8161816891412349 Random state  73\n",
      "Accuracy  0.7977288857345636 Random state  74\n",
      "Accuracy  0.7984386089425124 Random state  75\n",
      "Accuracy  0.8161816891412349 Random state  76\n",
      "Accuracy  0.7955997161107168 Random state  77\n",
      "Accuracy  0.7913413768630234 Random state  78\n",
      "Accuracy  0.7920511000709723 Random state  79\n",
      "Accuracy  0.8126330731014905 Random state  80\n",
      "Accuracy  0.7792760823278921 Random state  81\n",
      "Accuracy  0.801277501774308 Random state  82\n",
      "Accuracy  0.7955997161107168 Random state  83\n",
      "Accuracy  0.7792760823278921 Random state  84\n",
      "Accuracy  0.7955997161107168 Random state  85\n",
      "Accuracy  0.7934705464868701 Random state  86\n",
      "Accuracy  0.7892122072391767 Random state  87\n",
      "Accuracy  0.8034066713981547 Random state  88\n",
      "Accuracy  0.8133427963094393 Random state  89\n",
      "Accuracy  0.7977288857345636 Random state  90\n",
      "Accuracy  0.8048261178140526 Random state  91\n",
      "Accuracy  0.8239886444286728 Random state  92\n",
      "Accuracy  0.7842441447835344 Random state  93\n",
      "Accuracy  0.794889992902768 Random state  94\n",
      "Accuracy  0.7806955287437899 Random state  95\n",
      "Accuracy  0.7885024840312278 Random state  96\n",
      "Accuracy  0.8034066713981547 Random state  97\n",
      "Accuracy  0.808374733853797 Random state  98\n",
      "Accuracy  0.7998580553584103 Random state  99\n",
      "Accuracy  0.7892122072391767 Random state  100\n",
      "Accuracy  0.8005677785663591 Random state  101\n",
      "Accuracy  0.8005677785663591 Random state  102\n",
      "Accuracy  0.7963094393186657 Random state  103\n",
      "Accuracy  0.8133427963094393 Random state  104\n",
      "Accuracy  0.7991483321504613 Random state  105\n",
      "Accuracy  0.815471965933286 Random state  106\n",
      "Accuracy  0.7998580553584103 Random state  107\n",
      "Accuracy  0.78708303761533 Random state  108\n",
      "Accuracy  0.794889992902768 Random state  109\n",
      "Accuracy  0.794180269694819 Random state  110\n",
      "Accuracy  0.8041163946061036 Random state  111\n",
      "Accuracy  0.7955997161107168 Random state  112\n",
      "Accuracy  0.8026969481902059 Random state  113\n",
      "Accuracy  0.7885024840312278 Random state  114\n",
      "Accuracy  0.8119233498935415 Random state  115\n",
      "Accuracy  0.7970191625266146 Random state  116\n",
      "Accuracy  0.7934705464868701 Random state  117\n",
      "Accuracy  0.7927608232789212 Random state  118\n",
      "Accuracy  0.7998580553584103 Random state  119\n",
      "Accuracy  0.8019872249822569 Random state  120\n",
      "Accuracy  0.7934705464868701 Random state  121\n",
      "Accuracy  0.8076650106458482 Random state  122\n",
      "Accuracy  0.8119233498935415 Random state  123\n",
      "Accuracy  0.8225691980127751 Random state  124\n",
      "Accuracy  0.808374733853797 Random state  125\n",
      "Accuracy  0.8105039034776437 Random state  126\n",
      "Accuracy  0.8069552874378992 Random state  127\n",
      "Accuracy  0.8112136266855926 Random state  128\n",
      "Accuracy  0.8204400283889283 Random state  129\n",
      "Accuracy  0.7920511000709723 Random state  130\n",
      "Accuracy  0.7963094393186657 Random state  131\n",
      "Accuracy  0.8062455642299503 Random state  132\n",
      "Accuracy  0.7963094393186657 Random state  133\n",
      "Accuracy  0.7934705464868701 Random state  134\n",
      "Accuracy  0.7920511000709723 Random state  135\n",
      "Accuracy  0.8062455642299503 Random state  136\n",
      "Accuracy  0.8055358410220014 Random state  137\n",
      "Accuracy  0.7877927608232789 Random state  138\n",
      "Accuracy  0.8317955997161107 Random state  139\n",
      "Max accuracy  0.8317955997161107  at random state  139\n",
      "Accuracy  0.8055358410220014 Random state  140\n",
      "Accuracy  0.794180269694819 Random state  141\n",
      "Accuracy  0.7892122072391767 Random state  142\n",
      "Accuracy  0.7955997161107168 Random state  143\n",
      "Accuracy  0.7927608232789212 Random state  144\n",
      "Accuracy  0.8161816891412349 Random state  145\n",
      "Accuracy  0.7977288857345636 Random state  146\n",
      "Accuracy  0.8126330731014905 Random state  147\n",
      "Accuracy  0.7984386089425124 Random state  148\n",
      "Accuracy  0.8026969481902059 Random state  149\n",
      "Accuracy  0.8183108587650816 Random state  150\n",
      "Accuracy  0.7821149751596878 Random state  151\n",
      "Accuracy  0.7970191625266146 Random state  152\n",
      "Accuracy  0.7799858055358411 Random state  153\n",
      "Accuracy  0.7955997161107168 Random state  154\n",
      "Accuracy  0.7863733144073811 Random state  155\n",
      "Accuracy  0.8041163946061036 Random state  156\n",
      "Accuracy  0.8055358410220014 Random state  157\n",
      "Accuracy  0.8261178140525195 Random state  158\n",
      "Accuracy  0.8119233498935415 Random state  159\n",
      "Accuracy  0.794180269694819 Random state  160\n",
      "Accuracy  0.8112136266855926 Random state  161\n",
      "Accuracy  0.8041163946061036 Random state  162\n",
      "Accuracy  0.7920511000709723 Random state  163\n",
      "Accuracy  0.7998580553584103 Random state  164\n",
      "Accuracy  0.794889992902768 Random state  165\n",
      "Accuracy  0.8168914123491838 Random state  166\n",
      "Accuracy  0.7991483321504613 Random state  167\n",
      "Accuracy  0.8019872249822569 Random state  168\n",
      "Accuracy  0.7991483321504613 Random state  169\n",
      "Accuracy  0.808374733853797 Random state  170\n",
      "Accuracy  0.8062455642299503 Random state  171\n"
     ]
    },
    {
     "name": "stdout",
     "output_type": "stream",
     "text": [
      "Accuracy  0.8069552874378992 Random state  172\n",
      "Accuracy  0.8055358410220014 Random state  173\n",
      "Accuracy  0.8183108587650816 Random state  174\n",
      "Accuracy  0.7955997161107168 Random state  175\n",
      "Accuracy  0.794180269694819 Random state  176\n",
      "Accuracy  0.8147622427253371 Random state  177\n",
      "Accuracy  0.8140525195173882 Random state  178\n",
      "Accuracy  0.8055358410220014 Random state  179\n",
      "Accuracy  0.7984386089425124 Random state  180\n",
      "Accuracy  0.815471965933286 Random state  181\n",
      "Accuracy  0.8048261178140526 Random state  182\n",
      "Accuracy  0.8076650106458482 Random state  183\n",
      "Accuracy  0.8062455642299503 Random state  184\n",
      "Accuracy  0.7785663591199432 Random state  185\n",
      "Accuracy  0.8005677785663591 Random state  186\n",
      "Accuracy  0.7970191625266146 Random state  187\n",
      "Accuracy  0.7927608232789212 Random state  188\n",
      "Accuracy  0.7863733144073811 Random state  189\n",
      "Accuracy  0.8019872249822569 Random state  190\n",
      "Accuracy  0.7977288857345636 Random state  191\n",
      "Accuracy  0.8090844570617459 Random state  192\n",
      "Accuracy  0.8126330731014905 Random state  193\n",
      "Accuracy  0.8026969481902059 Random state  194\n",
      "Accuracy  0.7984386089425124 Random state  195\n",
      "Accuracy  0.794180269694819 Random state  196\n",
      "Accuracy  0.7998580553584103 Random state  197\n",
      "Accuracy  0.8168914123491838 Random state  198\n",
      "Accuracy  0.794889992902768 Random state  199\n",
      "Best accuracy is  0.8317955997161107 at random state  139\n"
     ]
    }
   ],
   "source": [
    "LR=LogisticRegression()\n",
    "maxAccu=0   # maximum accuracy\n",
    "maxRS=0    #best random state value for which max accuracy is achieved\n",
    "\n",
    "for i in range(1,200):\n",
    "    X_train_ns,X_test,y_train_ns,y_test= train_test_split(X,y,test_size=0.20, random_state=i)\n",
    "    LR.fit(X_train_ns,y_train_ns)   #fitting the data will train your model\n",
    "    Y_pred=LR.predict(X_test)    # this is predicted target variable\n",
    "    acc= accuracy_score(y_test,Y_pred)   # accuracy score\n",
    "    print('Accuracy ', acc, 'Random state ', i)\n",
    "    \n",
    "    if acc>maxAccu:\n",
    "        maxAccu=acc\n",
    "        maxRS=i\n",
    "        print(\"Max accuracy \", maxAccu, \" at random state \", i)\n",
    "    \n",
    "print(\"Best accuracy is \", maxAccu, \"at random state \", maxRS)"
   ]
  },
  {
   "cell_type": "markdown",
   "id": "4bf89e73",
   "metadata": {},
   "source": [
    "Best accuracy is  0.8317955997161107 at random state  139, so lets train our model with this random state."
   ]
  },
  {
   "cell_type": "code",
   "execution_count": 89,
   "id": "56fdb575",
   "metadata": {},
   "outputs": [
    {
     "name": "stdout",
     "output_type": "stream",
     "text": [
      "=====================Train Result========================\n",
      "Accuracy Score : 79.82%\n",
      "\n",
      "\n",
      "---------------------------------------------------------------\n",
      "CLASSIFICATION REPORT :\n",
      "                    0.0          1.0  accuracy    macro avg  weighted avg\n",
      "precision     0.840904     0.648843   0.79819     0.744873      0.789429\n",
      "recall        0.893307     0.538411   0.79819     0.715859      0.798190\n",
      "f1-score      0.866314     0.588491   0.79819     0.727402      0.791853\n",
      "support    4124.000000  1510.000000   0.79819  5634.000000   5634.000000\n",
      "\n",
      "\n",
      "-----------------------------------------------------------\n",
      "Confusion Matrix : \n",
      " [[3684  440]\n",
      " [ 697  813]]\n",
      "\n",
      "=====================Test Result========================\n",
      "Accuracy Score : 82.54080908445705%\n",
      "\n",
      "\n",
      "---------------------------------------------------------------\n",
      "CLASSIFICATION REPORT :\n",
      "                    0.0         1.0  accuracy    macro avg  weighted avg\n",
      "precision     0.861511    0.690236  0.825408     0.775873      0.817872\n",
      "recall        0.912381    0.571031  0.825408     0.741706      0.825408\n",
      "f1-score      0.886216    0.625000  0.825408     0.755608      0.819661\n",
      "support    1050.000000  359.000000  0.825408  1409.000000   1409.000000\n",
      "\n",
      "\n",
      "-----------------------------------------------------------\n",
      "Confusion Matrix : \n",
      " [[958  92]\n",
      " [154 205]]\n",
      "\n"
     ]
    }
   ],
   "source": [
    "# creating train test split for best random state\n",
    "X_train,X_test,y_train,y_test= train_test_split(X,y,test_size=0.20, random_state=139)\n",
    "\n",
    "pred=LR.predict(X_train)\n",
    "LR_clf_report= pd.DataFrame(classification_report(y_train, pred, output_dict=True))\n",
    "\n",
    "print(\"=====================Train Result========================\")\n",
    "\n",
    "print(f\"Accuracy Score : {accuracy_score(y_train, pred)*100:.2f}%\")\n",
    "print(\"\\n\")\n",
    "print(\"---------------------------------------------------------------\")\n",
    "print(f\"CLASSIFICATION REPORT :\\n {LR_clf_report}\")\n",
    "print(\"\\n\")\n",
    "print(\"-----------------------------------------------------------\")\n",
    "print(f\"Confusion Matrix : \\n {confusion_matrix(y_train, pred)}\\n\")\n",
    "\n",
    "\n",
    "# Test score\n",
    "\n",
    "y_pred=LR.predict(X_test)\n",
    "clf_report= pd.DataFrame(classification_report(y_test, y_pred, output_dict=True))\n",
    "\n",
    "print(\"=====================Test Result========================\")\n",
    "print(f\"Accuracy Score : {accuracy_score(y_test, y_pred)*100}%\")\n",
    "print(\"\\n\")\n",
    "print(\"---------------------------------------------------------------\")\n",
    "print(f\"CLASSIFICATION REPORT :\\n {clf_report}\")\n",
    "print(\"\\n\")\n",
    "print(\"-----------------------------------------------------------\")\n",
    "print(f\"Confusion Matrix : \\n {confusion_matrix(y_test, y_pred)}\\n\")\n"
   ]
  },
  {
   "cell_type": "code",
   "execution_count": 90,
   "id": "8c20dfc4",
   "metadata": {},
   "outputs": [
    {
     "name": "stdout",
     "output_type": "stream",
     "text": [
      "Cross Validation Score For Logistic Regression model :  0.802783486460348\n"
     ]
    }
   ],
   "source": [
    "# Cross Validation\n",
    "\n",
    "from sklearn.model_selection import cross_val_score\n",
    "\n",
    "# validating accuracy\n",
    "scr= cross_val_score(LR, X, y, cv=10)\n",
    "print(\"Cross Validation Score For Logistic Regression model : \", scr.mean())"
   ]
  },
  {
   "cell_type": "markdown",
   "id": "e15351e1",
   "metadata": {},
   "source": [
    "The model looks decent, let's go for few more model before deciding the final one.\n",
    "\n",
    "\n",
    "\n",
    "# Ensemble Technique"
   ]
  },
  {
   "cell_type": "code",
   "execution_count": 93,
   "id": "978c3ba6",
   "metadata": {},
   "outputs": [
    {
     "name": "stdout",
     "output_type": "stream",
     "text": [
      "=====================Train Result========================\n",
      "Accuracy Score : 99.75%\n",
      "\n",
      "\n",
      "---------------------------------------------------------------\n",
      "CLASSIFICATION REPORT :\n",
      "                    0.0          1.0  accuracy    macro avg  weighted avg\n",
      "precision     0.997579     0.997340  0.997515     0.997460      0.997515\n",
      "recall        0.999030     0.993377  0.997515     0.996204      0.997515\n",
      "f1-score      0.998304     0.995355  0.997515     0.996829      0.997514\n",
      "support    4124.000000  1510.000000  0.997515  5634.000000   5634.000000\n",
      "\n",
      "\n",
      "-----------------------------------------------------------\n",
      "Confusion Matrix : \n",
      " [[4120    4]\n",
      " [  10 1500]]\n",
      "\n",
      "=====================Test Result========================\n",
      "Accuracy Score : 80.41163946061036%\n",
      "\n",
      "\n",
      "---------------------------------------------------------------\n",
      "CLASSIFICATION REPORT :\n",
      "                    0.0         1.0  accuracy    macro avg  weighted avg\n",
      "precision     0.840070    0.653137  0.804116     0.746603      0.792441\n",
      "recall        0.910476    0.493036  0.804116     0.701756      0.804116\n",
      "f1-score      0.873857    0.561905  0.804116     0.717881      0.794375\n",
      "support    1050.000000  359.000000  0.804116  1409.000000   1409.000000\n",
      "\n",
      "\n",
      "-----------------------------------------------------------\n",
      "Confusion Matrix : \n",
      " [[956  94]\n",
      " [182 177]]\n",
      "\n"
     ]
    }
   ],
   "source": [
    "from sklearn.ensemble import RandomForestClassifier\n",
    "\n",
    "# Model\n",
    "RF= RandomForestClassifier()\n",
    "\n",
    "# Fit\n",
    "RF.fit(X_train,y_train)\n",
    "\n",
    "# Predict\n",
    "pred=RF.predict(X_train)\n",
    "RF_clf_report= pd.DataFrame(classification_report(y_train, pred, output_dict=True))\n",
    "\n",
    "print(\"=====================Train Result========================\")\n",
    "\n",
    "print(f\"Accuracy Score : {accuracy_score(y_train, pred)*100:.2f}%\")\n",
    "print(\"\\n\")\n",
    "print(\"---------------------------------------------------------------\")\n",
    "print(f\"CLASSIFICATION REPORT :\\n {RF_clf_report}\")\n",
    "print(\"\\n\")\n",
    "print(\"-----------------------------------------------------------\")\n",
    "print(f\"Confusion Matrix : \\n {confusion_matrix(y_train, pred)}\\n\")\n",
    "\n",
    "\n",
    "# Test score\n",
    "\n",
    "y_pred=RF.predict(X_test)\n",
    "clf_report= pd.DataFrame(classification_report(y_test, y_pred, output_dict=True))\n",
    "\n",
    "print(\"=====================Test Result========================\")\n",
    "print(f\"Accuracy Score : {accuracy_score(y_test, y_pred)*100}%\")\n",
    "print(\"\\n\")\n",
    "print(\"---------------------------------------------------------------\")\n",
    "print(f\"CLASSIFICATION REPORT :\\n {clf_report}\")\n",
    "print(\"\\n\")\n",
    "print(\"-----------------------------------------------------------\")\n",
    "print(f\"Confusion Matrix : \\n {confusion_matrix(y_test, y_pred)}\\n\")\n",
    "RF_acc=accuracy_score(y_test,y_pred)"
   ]
  },
  {
   "cell_type": "code",
   "execution_count": 92,
   "id": "2ad2089a",
   "metadata": {},
   "outputs": [
    {
     "name": "stdout",
     "output_type": "stream",
     "text": [
      "Cross validation Score of RandomForestClassifier model is :  0.788582366215345\n"
     ]
    }
   ],
   "source": [
    "# Determining cross validation score.\n",
    "scr= cross_val_score(RF,X,y,cv=10)\n",
    "print(\"Cross validation Score of RandomForestClassifier model is : \", scr.mean())"
   ]
  },
  {
   "cell_type": "markdown",
   "id": "dc2a45dd",
   "metadata": {},
   "source": [
    "# KNN"
   ]
  },
  {
   "cell_type": "code",
   "execution_count": 94,
   "id": "56a96a33",
   "metadata": {},
   "outputs": [
    {
     "name": "stdout",
     "output_type": "stream",
     "text": [
      "=====================Train Result========================\n",
      "Accuracy Score : 83.88%\n",
      "\n",
      "\n",
      "---------------------------------------------------------------\n",
      "CLASSIFICATION REPORT :\n",
      "                    0.0          1.0  accuracy    macro avg  weighted avg\n",
      "precision     0.872913     0.727685  0.838836     0.800299      0.833990\n",
      "recall        0.912706     0.637086  0.838836     0.774896      0.838836\n",
      "f1-score      0.892366     0.679379  0.838836     0.785872      0.835282\n",
      "support    4124.000000  1510.000000  0.838836  5634.000000   5634.000000\n",
      "\n",
      "\n",
      "-----------------------------------------------------------\n",
      "Confusion Matrix : \n",
      " [[3764  360]\n",
      " [ 548  962]]\n",
      "\n",
      "=====================Test Result========================\n",
      "Accuracy Score : 77.85663591199432%\n",
      "\n",
      "\n",
      "---------------------------------------------------------------\n",
      "CLASSIFICATION REPORT :\n",
      "                    0.0         1.0  accuracy    macro avg  weighted avg\n",
      "precision     0.835455    0.576052  0.778566     0.705753      0.769361\n",
      "recall        0.875238    0.495822  0.778566     0.685530      0.778566\n",
      "f1-score      0.854884    0.532934  0.778566     0.693909      0.772854\n",
      "support    1050.000000  359.000000  0.778566  1409.000000   1409.000000\n",
      "\n",
      "\n",
      "-----------------------------------------------------------\n",
      "Confusion Matrix : \n",
      " [[919 131]\n",
      " [181 178]]\n",
      "\n"
     ]
    }
   ],
   "source": [
    "#import library\n",
    "from sklearn.neighbors import KNeighborsClassifier\n",
    "\n",
    "#model\n",
    "KNN= KNeighborsClassifier()\n",
    "\n",
    "#fit\n",
    "KNN.fit(X_train,y_train)\n",
    "\n",
    "#predict\n",
    "pred=KNN.predict(X_train)\n",
    "KNN_clf_report= pd.DataFrame(classification_report(y_train, pred, output_dict=True))\n",
    "\n",
    "print(\"=====================Train Result========================\")\n",
    "\n",
    "print(f\"Accuracy Score : {accuracy_score(y_train, pred)*100:.2f}%\")\n",
    "print(\"\\n\")\n",
    "print(\"---------------------------------------------------------------\")\n",
    "print(f\"CLASSIFICATION REPORT :\\n {KNN_clf_report}\")\n",
    "print(\"\\n\")\n",
    "print(\"-----------------------------------------------------------\")\n",
    "print(f\"Confusion Matrix : \\n {confusion_matrix(y_train, pred)}\\n\")\n",
    "\n",
    "\n",
    "# Test score\n",
    "\n",
    "y_pred=KNN.predict(X_test)\n",
    "clf_report= pd.DataFrame(classification_report(y_test, y_pred, output_dict=True))\n",
    "\n",
    "print(\"=====================Test Result========================\")\n",
    "print(f\"Accuracy Score : {accuracy_score(y_test, y_pred)*100}%\")\n",
    "print(\"\\n\")\n",
    "print(\"---------------------------------------------------------------\")\n",
    "print(f\"CLASSIFICATION REPORT :\\n {clf_report}\")\n",
    "print(\"\\n\")\n",
    "print(\"-----------------------------------------------------------\")\n",
    "print(f\"Confusion Matrix : \\n {confusion_matrix(y_test, y_pred)}\\n\")\n",
    "KNN_acc= accuracy_score(y_test,y_pred)\n"
   ]
  },
  {
   "cell_type": "code",
   "execution_count": 97,
   "id": "5b811375",
   "metadata": {},
   "outputs": [
    {
     "name": "stdout",
     "output_type": "stream",
     "text": [
      "Cross Validation Score For KNeighborsClassifier model :  0.7712602756286266\n"
     ]
    }
   ],
   "source": [
    "# Cross validation\n",
    "scr= cross_val_score(KNN, X, y, cv=10)\n",
    "KNN_scr=scr.mean()\n",
    "print(\"Cross Validation Score For KNeighborsClassifier model : \", KNN_scr)"
   ]
  },
  {
   "cell_type": "markdown",
   "id": "a1498f3e",
   "metadata": {},
   "source": [
    "# Boosting"
   ]
  },
  {
   "cell_type": "code",
   "execution_count": 98,
   "id": "def6d9b0",
   "metadata": {},
   "outputs": [
    {
     "name": "stdout",
     "output_type": "stream",
     "text": [
      "=====================Train Result========================\n",
      "Accuracy Score : 82.32%\n",
      "\n",
      "\n",
      "---------------------------------------------------------------\n",
      "CLASSIFICATION REPORT :\n",
      "                    0.0          1.0  accuracy    macro avg  weighted avg\n",
      "precision     0.853686     0.712046  0.823216     0.782866      0.815724\n",
      "recall        0.915373     0.571523  0.823216     0.743448      0.823216\n",
      "f1-score      0.883454     0.634093  0.823216     0.758773      0.816621\n",
      "support    4124.000000  1510.000000  0.823216  5634.000000   5634.000000\n",
      "\n",
      "\n",
      "-----------------------------------------------------------\n",
      "Confusion Matrix : \n",
      " [[3775  349]\n",
      " [ 647  863]]\n",
      "\n",
      "=====================Test Result========================\n",
      "Accuracy Score : 81.97303051809794%\n",
      "\n",
      "\n",
      "---------------------------------------------------------------\n",
      "CLASSIFICATION REPORT :\n",
      "                    0.0         1.0  accuracy    macro avg  weighted avg\n",
      "precision     0.854093    0.684211   0.81973     0.769152      0.810808\n",
      "recall        0.914286    0.543175   0.81973     0.728731      0.819730\n",
      "f1-score      0.883165    0.605590   0.81973     0.744377      0.812441\n",
      "support    1050.000000  359.000000   0.81973  1409.000000   1409.000000\n",
      "\n",
      "\n",
      "-----------------------------------------------------------\n",
      "Confusion Matrix : \n",
      " [[960  90]\n",
      " [164 195]]\n",
      "\n"
     ]
    }
   ],
   "source": [
    "# Model\n",
    "from sklearn.ensemble import GradientBoostingClassifier\n",
    "\n",
    "GBC= GradientBoostingClassifier()\n",
    "\n",
    "#fit\n",
    "GBC.fit(X_train, y_train)\n",
    "\n",
    "pred=GBC.predict(X_train)\n",
    "GBC_clf_report= pd.DataFrame(classification_report(y_train, pred, output_dict=True))\n",
    "\n",
    "print(\"=====================Train Result========================\")\n",
    "\n",
    "print(f\"Accuracy Score : {accuracy_score(y_train, pred)*100:.2f}%\")\n",
    "print(\"\\n\")\n",
    "print(\"---------------------------------------------------------------\")\n",
    "print(f\"CLASSIFICATION REPORT :\\n {GBC_clf_report}\")\n",
    "print(\"\\n\")\n",
    "print(\"-----------------------------------------------------------\")\n",
    "print(f\"Confusion Matrix : \\n {confusion_matrix(y_train, pred)}\\n\")\n",
    "\n",
    "\n",
    "# Test score\n",
    "\n",
    "y_pred=GBC.predict(X_test)\n",
    "clf_report= pd.DataFrame(classification_report(y_test, y_pred, output_dict=True))\n",
    "\n",
    "print(\"=====================Test Result========================\")\n",
    "print(f\"Accuracy Score : {accuracy_score(y_test, y_pred)*100}%\")\n",
    "print(\"\\n\")\n",
    "print(\"---------------------------------------------------------------\")\n",
    "print(f\"CLASSIFICATION REPORT :\\n {clf_report}\")\n",
    "print(\"\\n\")\n",
    "print(\"-----------------------------------------------------------\")\n",
    "print(f\"Confusion Matrix : \\n {confusion_matrix(y_test, y_pred)}\\n\")\n",
    "GBC_acc=accuracy_score(y_test,y_pred)\n"
   ]
  },
  {
   "cell_type": "code",
   "execution_count": 100,
   "id": "845d3855",
   "metadata": {},
   "outputs": [
    {
     "name": "stdout",
     "output_type": "stream",
     "text": [
      "Cross validation Score of GradientBoosting Classifier model is :  0.8049121534493875\n"
     ]
    }
   ],
   "source": [
    "# Cross validation\n",
    "scr= cross_val_score(GBC,X,y, cv=10)\n",
    "GBC_scr=scr.mean()\n",
    "print(\"Cross validation Score of GradientBoosting Classifier model is : \", GBC_scr)"
   ]
  },
  {
   "cell_type": "markdown",
   "id": "802cf964",
   "metadata": {},
   "source": [
    "# SVC"
   ]
  },
  {
   "cell_type": "code",
   "execution_count": 101,
   "id": "91000f2e",
   "metadata": {},
   "outputs": [
    {
     "name": "stdout",
     "output_type": "stream",
     "text": [
      "=====================Train Result========================\n",
      "Accuracy Score : 78.67%\n",
      "\n",
      "\n",
      "---------------------------------------------------------------\n",
      "CLASSIFICATION REPORT :\n",
      "                    0.0          1.0  accuracy    macro avg  weighted avg\n",
      "precision     0.808619     0.671111  0.786652     0.739865      0.771764\n",
      "recall        0.928225     0.400000  0.786652     0.664113      0.786652\n",
      "f1-score      0.864303     0.501245  0.786652     0.682774      0.766998\n",
      "support    4124.000000  1510.000000  0.786652  5634.000000   5634.000000\n",
      "\n",
      "\n",
      "-----------------------------------------------------------\n",
      "Confusion Matrix : \n",
      " [[3828  296]\n",
      " [ 906  604]]\n",
      "\n",
      "=====================Test Result========================\n",
      "Accuracy Score : 80.90844570617459%\n",
      "\n",
      "\n",
      "---------------------------------------------------------------\n",
      "CLASSIFICATION REPORT :\n",
      "                    0.0         1.0  accuracy    macro avg  weighted avg\n",
      "precision     0.825146    0.716346  0.809084     0.770746      0.797425\n",
      "recall        0.943810    0.415042  0.809084     0.679426      0.809084\n",
      "f1-score      0.880498    0.525573  0.809084     0.703035      0.790066\n",
      "support    1050.000000  359.000000  0.809084  1409.000000   1409.000000\n",
      "\n",
      "\n",
      "-----------------------------------------------------------\n",
      "Confusion Matrix : \n",
      " [[991  59]\n",
      " [210 149]]\n",
      "\n"
     ]
    }
   ],
   "source": [
    "from sklearn.svm import SVC\n",
    "\n",
    "svc=SVC()\n",
    "svc.fit(X_train,y_train)\n",
    "pred=svc.predict(X_train)\n",
    "svc_clf_report= pd.DataFrame(classification_report(y_train, pred, output_dict=True))\n",
    "\n",
    "print(\"=====================Train Result========================\")\n",
    "\n",
    "print(f\"Accuracy Score : {accuracy_score(y_train, pred)*100:.2f}%\")\n",
    "print(\"\\n\")\n",
    "print(\"---------------------------------------------------------------\")\n",
    "print(f\"CLASSIFICATION REPORT :\\n {svc_clf_report}\")\n",
    "print(\"\\n\")\n",
    "print(\"-----------------------------------------------------------\")\n",
    "print(f\"Confusion Matrix : \\n {confusion_matrix(y_train, pred)}\\n\")\n",
    "\n",
    "\n",
    "# Test score\n",
    "\n",
    "y_pred=svc.predict(X_test)\n",
    "clf_report= pd.DataFrame(classification_report(y_test, y_pred, output_dict=True))\n",
    "\n",
    "print(\"=====================Test Result========================\")\n",
    "print(f\"Accuracy Score : {accuracy_score(y_test, y_pred)*100}%\")\n",
    "print(\"\\n\")\n",
    "print(\"---------------------------------------------------------------\")\n",
    "print(f\"CLASSIFICATION REPORT :\\n {clf_report}\")\n",
    "print(\"\\n\")\n",
    "print(\"-----------------------------------------------------------\")\n",
    "print(f\"Confusion Matrix : \\n {confusion_matrix(y_test, y_pred)}\\n\")\n",
    "svc_acc=accuracy_score(y_test,y_pred)\n"
   ]
  },
  {
   "cell_type": "code",
   "execution_count": 103,
   "id": "7775a6d9",
   "metadata": {},
   "outputs": [
    {
     "name": "stdout",
     "output_type": "stream",
     "text": [
      "Cross validation Score of SVC model is :  0.7905701966473244\n"
     ]
    }
   ],
   "source": [
    "# Cross validation\n",
    "\n",
    "scr= cross_val_score(svc,X,y, cv=10)\n",
    "svc_scr=scr.mean()\n",
    "print(\"Cross validation Score of SVC model is : \", scr.mean())"
   ]
  },
  {
   "cell_type": "markdown",
   "id": "ba9bdfee",
   "metadata": {},
   "source": [
    "# Decision Tree "
   ]
  },
  {
   "cell_type": "code",
   "execution_count": 104,
   "id": "efa1fcfd",
   "metadata": {},
   "outputs": [
    {
     "name": "stdout",
     "output_type": "stream",
     "text": [
      "=====================Train Result========================\n",
      "Accuracy Score : 99.75%\n",
      "\n",
      "\n",
      "---------------------------------------------------------------\n",
      "CLASSIFICATION REPORT :\n",
      "                    0.0          1.0  accuracy    macro avg  weighted avg\n",
      "precision     0.996617     1.000000  0.997515     0.998308      0.997523\n",
      "recall        1.000000     0.990728  0.997515     0.995364      0.997515\n",
      "f1-score      0.998305     0.995343  0.997515     0.996824      0.997511\n",
      "support    4124.000000  1510.000000  0.997515  5634.000000   5634.000000\n",
      "\n",
      "\n",
      "-----------------------------------------------------------\n",
      "Confusion Matrix : \n",
      " [[4124    0]\n",
      " [  14 1496]]\n",
      "\n",
      "=====================Test Result========================\n",
      "Accuracy Score : 73.10149041873669%\n",
      "\n",
      "\n",
      "---------------------------------------------------------------\n",
      "CLASSIFICATION REPORT :\n",
      "                    0.0         1.0  accuracy    macro avg  weighted avg\n",
      "precision     0.827317    0.473958  0.731015     0.650638      0.737285\n",
      "recall        0.807619    0.506964  0.731015     0.657291      0.731015\n",
      "f1-score      0.817349    0.489906  0.731015     0.653628      0.733920\n",
      "support    1050.000000  359.000000  0.731015  1409.000000   1409.000000\n",
      "\n",
      "\n",
      "-----------------------------------------------------------\n",
      "Confusion Matrix : \n",
      " [[848 202]\n",
      " [177 182]]\n",
      "\n"
     ]
    }
   ],
   "source": [
    "from sklearn.tree import DecisionTreeClassifier\n",
    "\n",
    "# Model\n",
    "DTC= DecisionTreeClassifier()\n",
    "\n",
    "# Fit\n",
    "DTC.fit(X_train,y_train)\n",
    "\n",
    "#Predict\n",
    "pred=DTC.predict(X_train)\n",
    "DTC_clf_report= pd.DataFrame(classification_report(y_train, pred, output_dict=True))\n",
    "\n",
    "print(\"=====================Train Result========================\")\n",
    "\n",
    "print(f\"Accuracy Score : {accuracy_score(y_train, pred)*100:.2f}%\")\n",
    "print(\"\\n\")\n",
    "print(\"---------------------------------------------------------------\")\n",
    "print(f\"CLASSIFICATION REPORT :\\n {DTC_clf_report}\")\n",
    "print(\"\\n\")\n",
    "print(\"-----------------------------------------------------------\")\n",
    "print(f\"Confusion Matrix : \\n {confusion_matrix(y_train, pred)}\\n\")\n",
    "\n",
    "\n",
    "# Test score\n",
    "\n",
    "y_pred=DTC.predict(X_test)\n",
    "clf_report= pd.DataFrame(classification_report(y_test, y_pred, output_dict=True))\n",
    "\n",
    "print(\"=====================Test Result========================\")\n",
    "print(f\"Accuracy Score : {accuracy_score(y_test, y_pred)*100}%\")\n",
    "print(\"\\n\")\n",
    "print(\"---------------------------------------------------------------\")\n",
    "print(f\"CLASSIFICATION REPORT :\\n {clf_report}\")\n",
    "print(\"\\n\")\n",
    "print(\"-----------------------------------------------------------\")\n",
    "print(f\"Confusion Matrix : \\n {confusion_matrix(y_test, y_pred)}\\n\")\n",
    "DTC_acc=accuracy_score(y_test,y_pred)"
   ]
  },
  {
   "cell_type": "code",
   "execution_count": 105,
   "id": "c2ae4ff1",
   "metadata": {},
   "outputs": [
    {
     "name": "stdout",
     "output_type": "stream",
     "text": [
      "Cross validation Score of DecisionTreeClassifier model is :  0.7905701966473244\n"
     ]
    }
   ],
   "source": [
    "# Cross validation\n",
    "\n",
    "scr= cross_val_score(svc,X,y, cv=10)\n",
    "DTC_scr=scr.mean()\n",
    "print(\"Cross validation Score of DecisionTreeClassifier model is : \", scr.mean())"
   ]
  },
  {
   "cell_type": "markdown",
   "id": "79166a68",
   "metadata": {},
   "source": [
    "# Let's Plot Roc Auc curve to choose the best model"
   ]
  },
  {
   "cell_type": "code",
   "execution_count": 106,
   "id": "53b1c951",
   "metadata": {},
   "outputs": [],
   "source": [
    "from sklearn.metrics import roc_auc_score, roc_curve\n",
    "from sklearn.metrics import plot_roc_curve"
   ]
  },
  {
   "cell_type": "code",
   "execution_count": 107,
   "id": "1492fc3b",
   "metadata": {},
   "outputs": [],
   "source": [
    "LR= LogisticRegression()\n",
    "RF = RandomForestClassifier()\n",
    "KNN= KNeighborsClassifier()\n",
    "GBC= GradientBoostingClassifier()\n",
    "svc= SVC()\n",
    "DTC = DecisionTreeClassifier()\n",
    "\n"
   ]
  },
  {
   "cell_type": "code",
   "execution_count": 108,
   "id": "9f49cf7a",
   "metadata": {},
   "outputs": [
    {
     "name": "stdout",
     "output_type": "stream",
     "text": [
      "All models are trained\n"
     ]
    }
   ],
   "source": [
    "# Train test split\n",
    "\n",
    "x= X\n",
    "y=df['Churn']\n",
    "x_train,x_test,Y_train,Y_test=train_test_split(x,y, test_size=0.20, random_state=139)\n",
    "\n",
    "# Training with all classifier\n",
    "LR.fit(x_train,Y_train)\n",
    "KNN.fit(x_train,Y_train)\n",
    "DTC.fit(x_train,Y_train)\n",
    "RF.fit(x_train, Y_train)\n",
    "GBC.fit(x_train,Y_train)\n",
    "svc.fit(x_train,Y_train)\n",
    "\n",
    "print(\"All models are trained\")"
   ]
  },
  {
   "cell_type": "code",
   "execution_count": 109,
   "id": "cead375d",
   "metadata": {},
   "outputs": [
    {
     "name": "stdout",
     "output_type": "stream",
     "text": [
      "All models test score captured\n"
     ]
    }
   ],
   "source": [
    "# All models score captured\n",
    "LR.score(x_test,Y_test)\n",
    "KNN.score(x_test,Y_test)\n",
    "DTC.score(x_test,Y_test)\n",
    "RF.score(x_test,Y_test)\n",
    "GBC.score(x_test,Y_test)\n",
    "svc.score(x_test,Y_test)\n",
    "\n",
    "print(\"All models test score captured\")"
   ]
  },
  {
   "cell_type": "code",
   "execution_count": 110,
   "id": "53479b7a",
   "metadata": {},
   "outputs": [
    {
     "data": {
      "image/png": "[encoded data removed]",
      "text/plain": [
       "<Figure size 432x288 with 1 Axes>"
      ]
     },
     "metadata": {
      "needs_background": "light"
     },
     "output_type": "display_data"
    }
   ],
   "source": [
    "# Let's check ROC AUC for fitted model\n",
    "\n",
    "# how well our model perform on training data\n",
    "\n",
    "disp= plot_roc_curve(DTC, x_train, Y_train)\n",
    "\n",
    "plot_roc_curve(LR, x_train,Y_train, ax=disp.ax_)   #ax_ means axes with confusion matrix\n",
    "\n",
    "plot_roc_curve(RF, x_train,Y_train, ax=disp.ax_)\n",
    "\n",
    "plot_roc_curve(KNN,x_train, Y_train, ax=disp.ax_)\n",
    "\n",
    "plot_roc_curve(GBC, x_train,Y_train, ax=disp.ax_) \n",
    "\n",
    "plot_roc_curve(svc, x_train,Y_train, ax=disp.ax_) \n",
    "\n",
    "plt.legend(prop={'size' : 10}, loc= 'lower right')\n",
    "\n",
    "plt.show()\n",
    "\n"
   ]
  },
  {
   "cell_type": "code",
   "execution_count": 111,
   "id": "dcfa8d59",
   "metadata": {},
   "outputs": [
    {
     "data": {
      "image/png": "[encoded data removed]",
      "text/plain": [
       "<Figure size 432x288 with 1 Axes>"
      ]
     },
     "metadata": {
      "needs_background": "light"
     },
     "output_type": "display_data"
    }
   ],
   "source": [
    "# How well our model works with test data\n",
    "\n",
    "disp= plot_roc_curve(DTC, x_test, Y_test)\n",
    "\n",
    "plot_roc_curve(LR, x_test,Y_test, ax=disp.ax_)   #ax_ means axes with confusion matrix\n",
    "\n",
    "plot_roc_curve(RF, x_test,Y_test, ax=disp.ax_) \n",
    "\n",
    "plot_roc_curve(KNN, x_test,Y_test, ax=disp.ax_)\n",
    "\n",
    "plot_roc_curve(GBC, x_test,Y_test, ax=disp.ax_) \n",
    "\n",
    "plot_roc_curve(svc, x_test,Y_test, ax=disp.ax_) \n",
    "\n",
    "plt.legend(prop={'size' : 10}, loc= 'lower right')\n",
    "\n",
    "plt.show()\n"
   ]
  },
  {
   "cell_type": "markdown",
   "id": "4c4c263d",
   "metadata": {},
   "source": [
    "We can observe that both Logistic Regression and SVC model shows similar train and test curve, As the scores for Logistic Regression is slightly better then SVC, we will choose LogisticRegression as our final model.\n",
    "\n",
    "\n",
    "Now, let's save our final model.\n",
    "\n",
    "\n",
    "# Saving Model"
   ]
  },
  {
   "cell_type": "code",
   "execution_count": 112,
   "id": "3049f1e1",
   "metadata": {},
   "outputs": [
    {
     "data": {
      "text/plain": [
       "['Customer_Churn.pkl']"
      ]
     },
     "execution_count": 112,
     "metadata": {},
     "output_type": "execute_result"
    }
   ],
   "source": [
    "# Pickeling of file or serialization of a file.\n",
    "\n",
    "import joblib\n",
    "joblib.dump(LR, \"Customer_Churn.pkl\")"
   ]
  },
  {
   "cell_type": "code",
   "execution_count": null,
   "id": "15c6d741",
   "metadata": {},
   "outputs": [],
   "source": []
  }
 ],
 "metadata": {
  "kernelspec": {
   "display_name": "Python 3 (ipykernel)",
   "language": "python",
   "name": "python3"
  },
  "language_info": {
   "codemirror_mode": {
    "name": "ipython",
    "version": 3
   },
   "file_extension": ".py",
   "mimetype": "text/x-python",
   "name": "python",
   "nbconvert_exporter": "python",
   "pygments_lexer": "ipython3",
   "version": "3.9.12"
  }
 },
 "nbformat": 4,
 "nbformat_minor": 5
}
