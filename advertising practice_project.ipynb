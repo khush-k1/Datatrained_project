{
 "cells": [
  {
   "cell_type": "code",
   "execution_count": 1,
   "id": "ef028615",
   "metadata": {},
   "outputs": [],
   "source": [
    "#importing libraries\n",
    "\n",
    "import pandas as pd\n",
    "import numpy as np\n",
    "import matplotlib.pyplot as plt\n",
    "import seaborn as sns\n",
    "\n",
    "\n",
    "import warnings\n",
    "warnings.filterwarnings('ignore')\n",
    "\n",
    "from sklearn.model_selection import train_test_split\n"
   ]
  },
  {
   "cell_type": "code",
   "execution_count": 2,
   "id": "e2c95e26",
   "metadata": {},
   "outputs": [
    {
     "data": {
      "text/html": [
       "<div>\n",
       "<style scoped>\n",
       "    .dataframe tbody tr th:only-of-type {\n",
       "        vertical-align: middle;\n",
       "    }\n",
       "\n",
       "    .dataframe tbody tr th {\n",
       "        vertical-align: top;\n",
       "    }\n",
       "\n",
       "    .dataframe thead th {\n",
       "        text-align: right;\n",
       "    }\n",
       "</style>\n",
       "<table border=\"1\" class=\"dataframe\">\n",
       "  <thead>\n",
       "    <tr style=\"text-align: right;\">\n",
       "      <th></th>\n",
       "      <th>Unnamed: 0</th>\n",
       "      <th>TV</th>\n",
       "      <th>radio</th>\n",
       "      <th>newspaper</th>\n",
       "      <th>sales</th>\n",
       "    </tr>\n",
       "  </thead>\n",
       "  <tbody>\n",
       "    <tr>\n",
       "      <th>0</th>\n",
       "      <td>1</td>\n",
       "      <td>230.1</td>\n",
       "      <td>37.8</td>\n",
       "      <td>69.2</td>\n",
       "      <td>22.1</td>\n",
       "    </tr>\n",
       "    <tr>\n",
       "      <th>1</th>\n",
       "      <td>2</td>\n",
       "      <td>44.5</td>\n",
       "      <td>39.3</td>\n",
       "      <td>45.1</td>\n",
       "      <td>10.4</td>\n",
       "    </tr>\n",
       "    <tr>\n",
       "      <th>2</th>\n",
       "      <td>3</td>\n",
       "      <td>17.2</td>\n",
       "      <td>45.9</td>\n",
       "      <td>69.3</td>\n",
       "      <td>9.3</td>\n",
       "    </tr>\n",
       "    <tr>\n",
       "      <th>3</th>\n",
       "      <td>4</td>\n",
       "      <td>151.5</td>\n",
       "      <td>41.3</td>\n",
       "      <td>58.5</td>\n",
       "      <td>18.5</td>\n",
       "    </tr>\n",
       "    <tr>\n",
       "      <th>4</th>\n",
       "      <td>5</td>\n",
       "      <td>180.8</td>\n",
       "      <td>10.8</td>\n",
       "      <td>58.4</td>\n",
       "      <td>12.9</td>\n",
       "    </tr>\n",
       "  </tbody>\n",
       "</table>\n",
       "</div>"
      ],
      "text/plain": [
       "   Unnamed: 0     TV  radio  newspaper  sales\n",
       "0           1  230.1   37.8       69.2   22.1\n",
       "1           2   44.5   39.3       45.1   10.4\n",
       "2           3   17.2   45.9       69.3    9.3\n",
       "3           4  151.5   41.3       58.5   18.5\n",
       "4           5  180.8   10.8       58.4   12.9"
      ]
     },
     "execution_count": 2,
     "metadata": {},
     "output_type": "execute_result"
    }
   ],
   "source": [
    "data=pd.read_csv(\"https://raw.githubusercontent.com/dsrscientist/DSData/master/Advertising.csv\") # extracting the data set.\n",
    "data.head()"
   ]
  },
  {
   "cell_type": "code",
   "execution_count": 3,
   "id": "5150641e",
   "metadata": {},
   "outputs": [
    {
     "name": "stdout",
     "output_type": "stream",
     "text": [
      "<class 'pandas.core.frame.DataFrame'>\n",
      "RangeIndex: 200 entries, 0 to 199\n",
      "Data columns (total 5 columns):\n",
      " #   Column      Non-Null Count  Dtype  \n",
      "---  ------      --------------  -----  \n",
      " 0   Unnamed: 0  200 non-null    int64  \n",
      " 1   TV          200 non-null    float64\n",
      " 2   radio       200 non-null    float64\n",
      " 3   newspaper   200 non-null    float64\n",
      " 4   sales       200 non-null    float64\n",
      "dtypes: float64(4), int64(1)\n",
      "memory usage: 7.9 KB\n"
     ]
    }
   ],
   "source": [
    "data.info()     # geeting the details information about dataset"
   ]
  },
  {
   "cell_type": "markdown",
   "id": "e410c310",
   "metadata": {},
   "source": [
    "Above is \"Advertising Sales Channel Prediction\" where we need to predict the total sales. So, the TV, radio and newspapaer are our independent variables or we can say these are the features, while 'sales' is our dependent variable or in other word it's the target variable for our data set.\n",
    "we can see Unnamed: 0 columns, which most probably the id or index type of column, which we will get rid of anyways while processing the data for model building."
   ]
  },
  {
   "cell_type": "code",
   "execution_count": 4,
   "id": "e57f5ebe",
   "metadata": {},
   "outputs": [
    {
     "data": {
      "text/plain": [
       "Unnamed: 0    0\n",
       "TV            0\n",
       "radio         0\n",
       "newspaper     0\n",
       "sales         0\n",
       "dtype: int64"
      ]
     },
     "execution_count": 4,
     "metadata": {},
     "output_type": "execute_result"
    }
   ],
   "source": [
    "data.isnull().sum()   # checking for null values"
   ]
  },
  {
   "cell_type": "markdown",
   "id": "d7fae30b",
   "metadata": {},
   "source": [
    "we did not observe any null value in the dataset , its is safe to proceed\n"
   ]
  },
  {
   "cell_type": "code",
   "execution_count": 5,
   "id": "33f0a4d8",
   "metadata": {},
   "outputs": [
    {
     "data": {
      "text/html": [
       "<div>\n",
       "<style scoped>\n",
       "    .dataframe tbody tr th:only-of-type {\n",
       "        vertical-align: middle;\n",
       "    }\n",
       "\n",
       "    .dataframe tbody tr th {\n",
       "        vertical-align: top;\n",
       "    }\n",
       "\n",
       "    .dataframe thead th {\n",
       "        text-align: right;\n",
       "    }\n",
       "</style>\n",
       "<table border=\"1\" class=\"dataframe\">\n",
       "  <thead>\n",
       "    <tr style=\"text-align: right;\">\n",
       "      <th></th>\n",
       "      <th>Unnamed: 0</th>\n",
       "      <th>TV</th>\n",
       "      <th>radio</th>\n",
       "      <th>newspaper</th>\n",
       "      <th>sales</th>\n",
       "    </tr>\n",
       "  </thead>\n",
       "  <tbody>\n",
       "    <tr>\n",
       "      <th>count</th>\n",
       "      <td>200.000000</td>\n",
       "      <td>200.000000</td>\n",
       "      <td>200.000000</td>\n",
       "      <td>200.000000</td>\n",
       "      <td>200.000000</td>\n",
       "    </tr>\n",
       "    <tr>\n",
       "      <th>mean</th>\n",
       "      <td>100.500000</td>\n",
       "      <td>147.042500</td>\n",
       "      <td>23.264000</td>\n",
       "      <td>30.554000</td>\n",
       "      <td>14.022500</td>\n",
       "    </tr>\n",
       "    <tr>\n",
       "      <th>std</th>\n",
       "      <td>57.879185</td>\n",
       "      <td>85.854236</td>\n",
       "      <td>14.846809</td>\n",
       "      <td>21.778621</td>\n",
       "      <td>5.217457</td>\n",
       "    </tr>\n",
       "    <tr>\n",
       "      <th>min</th>\n",
       "      <td>1.000000</td>\n",
       "      <td>0.700000</td>\n",
       "      <td>0.000000</td>\n",
       "      <td>0.300000</td>\n",
       "      <td>1.600000</td>\n",
       "    </tr>\n",
       "    <tr>\n",
       "      <th>25%</th>\n",
       "      <td>50.750000</td>\n",
       "      <td>74.375000</td>\n",
       "      <td>9.975000</td>\n",
       "      <td>12.750000</td>\n",
       "      <td>10.375000</td>\n",
       "    </tr>\n",
       "    <tr>\n",
       "      <th>50%</th>\n",
       "      <td>100.500000</td>\n",
       "      <td>149.750000</td>\n",
       "      <td>22.900000</td>\n",
       "      <td>25.750000</td>\n",
       "      <td>12.900000</td>\n",
       "    </tr>\n",
       "    <tr>\n",
       "      <th>75%</th>\n",
       "      <td>150.250000</td>\n",
       "      <td>218.825000</td>\n",
       "      <td>36.525000</td>\n",
       "      <td>45.100000</td>\n",
       "      <td>17.400000</td>\n",
       "    </tr>\n",
       "    <tr>\n",
       "      <th>max</th>\n",
       "      <td>200.000000</td>\n",
       "      <td>296.400000</td>\n",
       "      <td>49.600000</td>\n",
       "      <td>114.000000</td>\n",
       "      <td>27.000000</td>\n",
       "    </tr>\n",
       "  </tbody>\n",
       "</table>\n",
       "</div>"
      ],
      "text/plain": [
       "       Unnamed: 0          TV       radio   newspaper       sales\n",
       "count  200.000000  200.000000  200.000000  200.000000  200.000000\n",
       "mean   100.500000  147.042500   23.264000   30.554000   14.022500\n",
       "std     57.879185   85.854236   14.846809   21.778621    5.217457\n",
       "min      1.000000    0.700000    0.000000    0.300000    1.600000\n",
       "25%     50.750000   74.375000    9.975000   12.750000   10.375000\n",
       "50%    100.500000  149.750000   22.900000   25.750000   12.900000\n",
       "75%    150.250000  218.825000   36.525000   45.100000   17.400000\n",
       "max    200.000000  296.400000   49.600000  114.000000   27.000000"
      ]
     },
     "execution_count": 5,
     "metadata": {},
     "output_type": "execute_result"
    }
   ],
   "source": [
    "# checking the statistics description of the data set.\n",
    "data.describe()"
   ]
  },
  {
   "cell_type": "markdown",
   "id": "e5314460",
   "metadata": {},
   "source": [
    "We can observe that the min value for radio is zero , it means we have zero values in the radio, which we need to fix before further proceeding.\n",
    "We can clearly observe from std that there is skewness present in the data. And also the sale of Tv is more than radio and newspaper.\n",
    "And also we can drop the Unnamed: 0 columns, as its just numbering column."
   ]
  },
  {
   "cell_type": "code",
   "execution_count": 6,
   "id": "916cca8c",
   "metadata": {},
   "outputs": [
    {
     "data": {
      "text/html": [
       "<div>\n",
       "<style scoped>\n",
       "    .dataframe tbody tr th:only-of-type {\n",
       "        vertical-align: middle;\n",
       "    }\n",
       "\n",
       "    .dataframe tbody tr th {\n",
       "        vertical-align: top;\n",
       "    }\n",
       "\n",
       "    .dataframe thead th {\n",
       "        text-align: right;\n",
       "    }\n",
       "</style>\n",
       "<table border=\"1\" class=\"dataframe\">\n",
       "  <thead>\n",
       "    <tr style=\"text-align: right;\">\n",
       "      <th></th>\n",
       "      <th>Unnamed: 0</th>\n",
       "      <th>TV</th>\n",
       "      <th>radio</th>\n",
       "      <th>newspaper</th>\n",
       "      <th>sales</th>\n",
       "    </tr>\n",
       "  </thead>\n",
       "  <tbody>\n",
       "    <tr>\n",
       "      <th>Unnamed: 0</th>\n",
       "      <td>1.000000</td>\n",
       "      <td>0.017715</td>\n",
       "      <td>-0.110680</td>\n",
       "      <td>-0.154944</td>\n",
       "      <td>-0.051616</td>\n",
       "    </tr>\n",
       "    <tr>\n",
       "      <th>TV</th>\n",
       "      <td>0.017715</td>\n",
       "      <td>1.000000</td>\n",
       "      <td>0.054809</td>\n",
       "      <td>0.056648</td>\n",
       "      <td>0.782224</td>\n",
       "    </tr>\n",
       "    <tr>\n",
       "      <th>radio</th>\n",
       "      <td>-0.110680</td>\n",
       "      <td>0.054809</td>\n",
       "      <td>1.000000</td>\n",
       "      <td>0.354104</td>\n",
       "      <td>0.576223</td>\n",
       "    </tr>\n",
       "    <tr>\n",
       "      <th>newspaper</th>\n",
       "      <td>-0.154944</td>\n",
       "      <td>0.056648</td>\n",
       "      <td>0.354104</td>\n",
       "      <td>1.000000</td>\n",
       "      <td>0.228299</td>\n",
       "    </tr>\n",
       "    <tr>\n",
       "      <th>sales</th>\n",
       "      <td>-0.051616</td>\n",
       "      <td>0.782224</td>\n",
       "      <td>0.576223</td>\n",
       "      <td>0.228299</td>\n",
       "      <td>1.000000</td>\n",
       "    </tr>\n",
       "  </tbody>\n",
       "</table>\n",
       "</div>"
      ],
      "text/plain": [
       "            Unnamed: 0        TV     radio  newspaper     sales\n",
       "Unnamed: 0    1.000000  0.017715 -0.110680  -0.154944 -0.051616\n",
       "TV            0.017715  1.000000  0.054809   0.056648  0.782224\n",
       "radio        -0.110680  0.054809  1.000000   0.354104  0.576223\n",
       "newspaper    -0.154944  0.056648  0.354104   1.000000  0.228299\n",
       "sales        -0.051616  0.782224  0.576223   0.228299  1.000000"
      ]
     },
     "execution_count": 6,
     "metadata": {},
     "output_type": "execute_result"
    }
   ],
   "source": [
    "#finding correlation matrix\n",
    "data.corr()"
   ]
  },
  {
   "cell_type": "markdown",
   "id": "bd59dd52",
   "metadata": {},
   "source": [
    "from Here also we can say that, its safe to drop Unnamed: 0 column for model building. So let's drop it before further proceeding.\n"
   ]
  },
  {
   "cell_type": "code",
   "execution_count": 7,
   "id": "22298d3a",
   "metadata": {},
   "outputs": [],
   "source": [
    "# dropping Column\n",
    "data=data.drop(['Unnamed: 0'],axis=1 )"
   ]
  },
  {
   "cell_type": "code",
   "execution_count": 8,
   "id": "bf1659bc",
   "metadata": {},
   "outputs": [
    {
     "data": {
      "text/html": [
       "<div>\n",
       "<style scoped>\n",
       "    .dataframe tbody tr th:only-of-type {\n",
       "        vertical-align: middle;\n",
       "    }\n",
       "\n",
       "    .dataframe tbody tr th {\n",
       "        vertical-align: top;\n",
       "    }\n",
       "\n",
       "    .dataframe thead th {\n",
       "        text-align: right;\n",
       "    }\n",
       "</style>\n",
       "<table border=\"1\" class=\"dataframe\">\n",
       "  <thead>\n",
       "    <tr style=\"text-align: right;\">\n",
       "      <th></th>\n",
       "      <th>TV</th>\n",
       "      <th>radio</th>\n",
       "      <th>newspaper</th>\n",
       "      <th>sales</th>\n",
       "    </tr>\n",
       "  </thead>\n",
       "  <tbody>\n",
       "    <tr>\n",
       "      <th>0</th>\n",
       "      <td>230.1</td>\n",
       "      <td>37.8</td>\n",
       "      <td>69.2</td>\n",
       "      <td>22.1</td>\n",
       "    </tr>\n",
       "    <tr>\n",
       "      <th>1</th>\n",
       "      <td>44.5</td>\n",
       "      <td>39.3</td>\n",
       "      <td>45.1</td>\n",
       "      <td>10.4</td>\n",
       "    </tr>\n",
       "    <tr>\n",
       "      <th>2</th>\n",
       "      <td>17.2</td>\n",
       "      <td>45.9</td>\n",
       "      <td>69.3</td>\n",
       "      <td>9.3</td>\n",
       "    </tr>\n",
       "    <tr>\n",
       "      <th>3</th>\n",
       "      <td>151.5</td>\n",
       "      <td>41.3</td>\n",
       "      <td>58.5</td>\n",
       "      <td>18.5</td>\n",
       "    </tr>\n",
       "    <tr>\n",
       "      <th>4</th>\n",
       "      <td>180.8</td>\n",
       "      <td>10.8</td>\n",
       "      <td>58.4</td>\n",
       "      <td>12.9</td>\n",
       "    </tr>\n",
       "  </tbody>\n",
       "</table>\n",
       "</div>"
      ],
      "text/plain": [
       "      TV  radio  newspaper  sales\n",
       "0  230.1   37.8       69.2   22.1\n",
       "1   44.5   39.3       45.1   10.4\n",
       "2   17.2   45.9       69.3    9.3\n",
       "3  151.5   41.3       58.5   18.5\n",
       "4  180.8   10.8       58.4   12.9"
      ]
     },
     "execution_count": 8,
     "metadata": {},
     "output_type": "execute_result"
    }
   ],
   "source": [
    "data.head()"
   ]
  },
  {
   "cell_type": "code",
   "execution_count": 9,
   "id": "2419a825",
   "metadata": {},
   "outputs": [
    {
     "data": {
      "text/plain": [
       "(200, 4)"
      ]
     },
     "execution_count": 9,
     "metadata": {},
     "output_type": "execute_result"
    }
   ],
   "source": [
    "data.shape      # checking the shape of the dataset"
   ]
  },
  {
   "cell_type": "code",
   "execution_count": 10,
   "id": "2c7634df",
   "metadata": {},
   "outputs": [
    {
     "data": {
      "text/plain": [
       "TV           0\n",
       "radio        0\n",
       "newspaper    0\n",
       "sales        0\n",
       "dtype: int64"
      ]
     },
     "execution_count": 10,
     "metadata": {},
     "output_type": "execute_result"
    }
   ],
   "source": [
    "data.isnull().sum() # just checking once again before proceeding"
   ]
  },
  {
   "cell_type": "markdown",
   "id": "dccb1287",
   "metadata": {},
   "source": [
    "With no null value we can proceed."
   ]
  },
  {
   "cell_type": "code",
   "execution_count": 11,
   "id": "a26babad",
   "metadata": {},
   "outputs": [
    {
     "data": {
      "text/plain": [
       "199"
      ]
     },
     "execution_count": 11,
     "metadata": {},
     "output_type": "execute_result"
    }
   ],
   "source": [
    "# finding zero in radio\n",
    "np.count_nonzero(data.radio)"
   ]
  },
  {
   "cell_type": "markdown",
   "id": "44100913",
   "metadata": {},
   "source": [
    "This shows that we have one zero value for radio and rest 199 values are non zero, It seems fine, that might be the case of no radio sale. So we can say that its safe to proceed."
   ]
  },
  {
   "cell_type": "code",
   "execution_count": 12,
   "id": "ce4417bf",
   "metadata": {},
   "outputs": [
    {
     "data": {
      "image/png": "[encoded data removed]",
      "text/plain": [
       "<Figure size 576x432 with 2 Axes>"
      ]
     },
     "metadata": {
      "needs_background": "light"
     },
     "output_type": "display_data"
    }
   ],
   "source": [
    "# visualizing the correlation between the columns.\n",
    "corr=data.corr()\n",
    "plt.figure(figsize=(8,6))\n",
    "sns.heatmap(corr,annot=True)\n",
    "plt.title('Correlation Matrix')\n",
    "plt.show()"
   ]
  },
  {
   "cell_type": "markdown",
   "id": "df8b059f",
   "metadata": {},
   "source": [
    "From the above, we observe that, TV is highly correlated to sale, than radio and lastly newspaper. Radio and Newspaper are also correlated were as TV is not that correlated to radio and newspaper. "
   ]
  },
  {
   "cell_type": "code",
   "execution_count": 13,
   "id": "2d76602b",
   "metadata": {},
   "outputs": [
    {
     "data": {
      "text/plain": [
       "array([22.1, 10.4,  9.3, 18.5, 12.9,  7.2, 11.8, 13.2,  4.8, 10.6,  8.6,\n",
       "       17.4,  9.2,  9.7, 19. , 22.4, 12.5, 24.4, 11.3, 14.6, 18. ,  5.6,\n",
       "       15.5, 12. , 15. , 15.9, 18.9, 10.5, 21.4, 11.9,  9.6,  9.5, 12.8,\n",
       "       25.4, 14.7, 10.1, 21.5, 16.6, 17.1, 20.7,  8.5, 14.9, 23.2, 14.8,\n",
       "       11.4, 10.7, 22.6, 21.2, 20.2, 23.7,  5.5, 23.8, 18.4,  8.1, 24.2,\n",
       "       15.7, 14. , 13.4, 22.3, 18.3, 12.4,  8.8, 11. , 17. ,  8.7,  6.9,\n",
       "       14.2,  5.3, 12.3, 13.6, 21.7, 15.2, 16. , 16.7, 11.2,  7.3, 19.4,\n",
       "       22.2, 11.5, 16.9, 11.7, 17.2, 19.2, 19.8, 21.8, 14.1, 12.6, 12.2,\n",
       "        9.4,  6.6,  7. , 11.6, 19.7, 24.7,  1.6, 12.7,  5.7, 19.6, 10.8,\n",
       "       20.8, 10.9, 20.1, 10.3, 16.1, 15.6,  3.2, 15.3, 14.4, 13.3,  8. ,\n",
       "        8.4, 14.5,  7.6, 27. , 26.2, 17.6, 17.3,  6.7,  9.9,  5.9, 25.5])"
      ]
     },
     "execution_count": 13,
     "metadata": {},
     "output_type": "execute_result"
    }
   ],
   "source": [
    "data.sales.unique()"
   ]
  },
  {
   "cell_type": "markdown",
   "id": "0bd0045b",
   "metadata": {},
   "source": [
    "From above, We can say that its a predictive model and we need to do regression analysis.\n"
   ]
  },
  {
   "cell_type": "markdown",
   "id": "5f7567e0",
   "metadata": {},
   "source": [
    "Outlier Analysis:\n"
   ]
  },
  {
   "cell_type": "code",
   "execution_count": 14,
   "id": "297b7f42",
   "metadata": {},
   "outputs": [
    {
     "data": {
      "image/png": "[encoded data removed]",
      "text/plain": [
       "<Figure size 576x504 with 3 Axes>"
      ]
     },
     "metadata": {
      "needs_background": "light"
     },
     "output_type": "display_data"
    }
   ],
   "source": [
    "#Visualize the outliers using boxplot (Outlier cannot applied to categorical data, this technique can be done only in continuous data)\n",
    "\n",
    "plt.figure(figsize=(8,7))\n",
    "graph=1\n",
    "\n",
    "for column in data:\n",
    "    if graph<=3:\n",
    "        plt.subplot(3,3,graph)\n",
    "        ax=sns.boxplot(data=data[column])\n",
    "        plt.xlabel(column,fontsize=12)\n",
    "    graph+=1\n",
    "plt.show()\n"
   ]
  },
  {
   "cell_type": "markdown",
   "id": "4796d71f",
   "metadata": {},
   "source": [
    "from above visualization, we can observe that in Newspaper there might be outliers present.But below make any conculsion about it, First lets check the distribution of data."
   ]
  },
  {
   "cell_type": "code",
   "execution_count": 15,
   "id": "471aa6c5",
   "metadata": {},
   "outputs": [
    {
     "data": {
      "text/plain": [
       "<function matplotlib.pyplot.show(close=None, block=None)>"
      ]
     },
     "execution_count": 15,
     "metadata": {},
     "output_type": "execute_result"
    },
    {
     "data": {
      "image/png": "[encoded data removed]",
      "text/plain": [
       "<Figure size 432x288 with 1 Axes>"
      ]
     },
     "metadata": {
      "needs_background": "light"
     },
     "output_type": "display_data"
    }
   ],
   "source": [
    "#Univariate analysis of target variable, i.e. sales data\n",
    "\n",
    "plt.figure(figsize=(6,4))\n",
    "sns.boxplot(data.sales)\n",
    "plt.xlabel('sales', fontsize= 7)\n",
    "plt.show"
   ]
  },
  {
   "cell_type": "code",
   "execution_count": 16,
   "id": "8a0a1a05",
   "metadata": {},
   "outputs": [
    {
     "data": {
      "image/png": "[encoded data removed]",
      "text/plain": [
       "<Figure size 864x1080 with 4 Axes>"
      ]
     },
     "metadata": {},
     "output_type": "display_data"
    }
   ],
   "source": [
    "#let's see how our data is distributed for every coulmn\n",
    "\n",
    "plt.figure(figsize=(12,15), facecolor='white')\n",
    "plotnumber=1\n",
    "\n",
    "for column in data:\n",
    "    if plotnumber<=4:                           #as there are 4 column in the dataset\n",
    "        ax=plt.subplot(4,4,plotnumber)\n",
    "        sns.distplot(data[column])\n",
    "        plt.xlabel(column, fontsize=20)\n",
    "        \n",
    "    plotnumber+=1\n",
    "plt.show()"
   ]
  },
  {
   "cell_type": "markdown",
   "id": "efeb5930",
   "metadata": {},
   "source": [
    "We can see skewness is present in our data, and the outlier in newspaper is pretty obvious. "
   ]
  },
  {
   "cell_type": "code",
   "execution_count": 17,
   "id": "287afdcc",
   "metadata": {},
   "outputs": [
    {
     "data": {
      "image/png": "[encoded data removed]",
      "text/plain": [
       "<Figure size 864x288 with 3 Axes>"
      ]
     },
     "metadata": {
      "needs_background": "light"
     },
     "output_type": "display_data"
    }
   ],
   "source": [
    "# seeing how sales is related to other features\n",
    "sns.pairplot(data, x_vars=['TV','radio','newspaper'], y_vars=['sales'], height=4, aspect=1, kind='scatter')\n",
    "plt.show()"
   ]
  },
  {
   "cell_type": "markdown",
   "id": "79497dc9",
   "metadata": {},
   "source": [
    "From above graph, it appears that TV data set seems to be more linear as compared to other variable dispersion of values.It's begin confirm from the Correlation matrix Heatmap plotted previously."
   ]
  },
  {
   "cell_type": "code",
   "execution_count": 18,
   "id": "7097d862",
   "metadata": {},
   "outputs": [
    {
     "data": {
      "text/plain": [
       "<seaborn.axisgrid.JointGrid at 0x1c1dfcb9e20>"
      ]
     },
     "execution_count": 18,
     "metadata": {},
     "output_type": "execute_result"
    },
    {
     "data": {
      "text/plain": [
       "<Figure size 720x360 with 0 Axes>"
      ]
     },
     "metadata": {},
     "output_type": "display_data"
    },
    {
     "data": {
      "image/png": "[encoded data removed]",
      "text/plain": [
       "<Figure size 432x432 with 3 Axes>"
      ]
     },
     "metadata": {
      "needs_background": "light"
     },
     "output_type": "display_data"
    },
    {
     "data": {
      "image/png": "[encoded data removed]",
      "text/plain": [
       "<Figure size 432x432 with 3 Axes>"
      ]
     },
     "metadata": {
      "needs_background": "light"
     },
     "output_type": "display_data"
    },
    {
     "data": {
      "image/png": "[encoded data removed]",
      "text/plain": [
       "<Figure size 432x432 with 3 Axes>"
      ]
     },
     "metadata": {
      "needs_background": "light"
     },
     "output_type": "display_data"
    }
   ],
   "source": [
    "plt.figure(figsize=(10, 5))\n",
    "sns.jointplot(data=data, x='sales', y='TV', kind='reg')\n",
    "sns.jointplot(data=data, x='sales', y='radio', kind='reg')\n",
    "sns.jointplot(data=data, x='sales', y='newspaper', kind='reg')"
   ]
  },
  {
   "cell_type": "markdown",
   "id": "fe64c1a1",
   "metadata": {},
   "source": [
    "From the above joint plot we can clearly says that there is strong correlation between TV and sales. Then again we cannot overlook radio correlation and sales."
   ]
  },
  {
   "cell_type": "code",
   "execution_count": 19,
   "id": "ad9c93b3",
   "metadata": {},
   "outputs": [
    {
     "data": {
      "text/plain": [
       "<seaborn.axisgrid.JointGrid at 0x1c1debb6160>"
      ]
     },
     "execution_count": 19,
     "metadata": {},
     "output_type": "execute_result"
    },
    {
     "data": {
      "image/png": "[encoded data removed]",
      "text/plain": [
       "<Figure size 432x432 with 3 Axes>"
      ]
     },
     "metadata": {
      "needs_background": "light"
     },
     "output_type": "display_data"
    }
   ],
   "source": [
    "# correlation between radio and newspaper.\n",
    "\n",
    "sns.jointplot(data=data, x='newspaper', y='radio', kind='reg')"
   ]
  },
  {
   "cell_type": "markdown",
   "id": "7d0c75f9",
   "metadata": {},
   "source": [
    "from here we can observe that there are some people who are interested in newspaper and radio till now. We can simply says that there is still some population besides technological advancement still sticks tothe roots. "
   ]
  },
  {
   "cell_type": "code",
   "execution_count": 20,
   "id": "c9c8bcae",
   "metadata": {},
   "outputs": [],
   "source": [
    "# Find the IQR (inter quantile range) to identify outliers\n",
    "from statsmodels.stats.outliers_influence import variance_inflation_factor\n",
    "#1st quantile\n",
    "q1= data.quantile(0.25)\n",
    "\n",
    "#3rd quantile\n",
    "q3= data.quantile(0.75)\n",
    "\n",
    "#IQR\n",
    "iqr=q3- q1"
   ]
  },
  {
   "cell_type": "code",
   "execution_count": 21,
   "id": "91f75f96",
   "metadata": {},
   "outputs": [
    {
     "data": {
      "text/plain": [
       "93.625"
      ]
     },
     "execution_count": 21,
     "metadata": {},
     "output_type": "execute_result"
    }
   ],
   "source": [
    "#Outlier detection Formula\n",
    "\n",
    "#higher side==> q3 + (1.5 * IQR) lower side ==> q1- (1.5 * IQR)\n",
    "\n",
    "#validating one outlier\n",
    "newspaper_high=(q3.newspaper + (1.5 * iqr.newspaper))\n",
    "newspaper_high"
   ]
  },
  {
   "cell_type": "code",
   "execution_count": 22,
   "id": "48d57345",
   "metadata": {},
   "outputs": [
    {
     "data": {
      "text/plain": [
       "(array([ 16, 101], dtype=int64),)"
      ]
     },
     "execution_count": 22,
     "metadata": {},
     "output_type": "execute_result"
    }
   ],
   "source": [
    "#check the indexes which have higher values\n",
    "index= np.where(data['newspaper'] > newspaper_high)\n",
    "index"
   ]
  },
  {
   "cell_type": "code",
   "execution_count": 32,
   "id": "c2394d8d",
   "metadata": {},
   "outputs": [
    {
     "data": {
      "text/plain": [
       "(198, 4)"
      ]
     },
     "execution_count": 32,
     "metadata": {},
     "output_type": "execute_result"
    }
   ],
   "source": [
    "# Drop the index which we found in the above cell\n",
    "data1= data.drop(data.index[index])\n",
    "data1.shape"
   ]
  },
  {
   "cell_type": "code",
   "execution_count": 33,
   "id": "4dea1132",
   "metadata": {},
   "outputs": [
    {
     "data": {
      "text/html": [
       "<div>\n",
       "<style scoped>\n",
       "    .dataframe tbody tr th:only-of-type {\n",
       "        vertical-align: middle;\n",
       "    }\n",
       "\n",
       "    .dataframe tbody tr th {\n",
       "        vertical-align: top;\n",
       "    }\n",
       "\n",
       "    .dataframe thead th {\n",
       "        text-align: right;\n",
       "    }\n",
       "</style>\n",
       "<table border=\"1\" class=\"dataframe\">\n",
       "  <thead>\n",
       "    <tr style=\"text-align: right;\">\n",
       "      <th></th>\n",
       "      <th>index</th>\n",
       "      <th>TV</th>\n",
       "      <th>radio</th>\n",
       "      <th>newspaper</th>\n",
       "      <th>sales</th>\n",
       "    </tr>\n",
       "  </thead>\n",
       "  <tbody>\n",
       "    <tr>\n",
       "      <th>0</th>\n",
       "      <td>0</td>\n",
       "      <td>230.1</td>\n",
       "      <td>37.8</td>\n",
       "      <td>69.2</td>\n",
       "      <td>22.1</td>\n",
       "    </tr>\n",
       "    <tr>\n",
       "      <th>1</th>\n",
       "      <td>1</td>\n",
       "      <td>44.5</td>\n",
       "      <td>39.3</td>\n",
       "      <td>45.1</td>\n",
       "      <td>10.4</td>\n",
       "    </tr>\n",
       "    <tr>\n",
       "      <th>2</th>\n",
       "      <td>2</td>\n",
       "      <td>17.2</td>\n",
       "      <td>45.9</td>\n",
       "      <td>69.3</td>\n",
       "      <td>9.3</td>\n",
       "    </tr>\n",
       "    <tr>\n",
       "      <th>3</th>\n",
       "      <td>3</td>\n",
       "      <td>151.5</td>\n",
       "      <td>41.3</td>\n",
       "      <td>58.5</td>\n",
       "      <td>18.5</td>\n",
       "    </tr>\n",
       "    <tr>\n",
       "      <th>4</th>\n",
       "      <td>4</td>\n",
       "      <td>180.8</td>\n",
       "      <td>10.8</td>\n",
       "      <td>58.4</td>\n",
       "      <td>12.9</td>\n",
       "    </tr>\n",
       "    <tr>\n",
       "      <th>...</th>\n",
       "      <td>...</td>\n",
       "      <td>...</td>\n",
       "      <td>...</td>\n",
       "      <td>...</td>\n",
       "      <td>...</td>\n",
       "    </tr>\n",
       "    <tr>\n",
       "      <th>193</th>\n",
       "      <td>195</td>\n",
       "      <td>38.2</td>\n",
       "      <td>3.7</td>\n",
       "      <td>13.8</td>\n",
       "      <td>7.6</td>\n",
       "    </tr>\n",
       "    <tr>\n",
       "      <th>194</th>\n",
       "      <td>196</td>\n",
       "      <td>94.2</td>\n",
       "      <td>4.9</td>\n",
       "      <td>8.1</td>\n",
       "      <td>9.7</td>\n",
       "    </tr>\n",
       "    <tr>\n",
       "      <th>195</th>\n",
       "      <td>197</td>\n",
       "      <td>177.0</td>\n",
       "      <td>9.3</td>\n",
       "      <td>6.4</td>\n",
       "      <td>12.8</td>\n",
       "    </tr>\n",
       "    <tr>\n",
       "      <th>196</th>\n",
       "      <td>198</td>\n",
       "      <td>283.6</td>\n",
       "      <td>42.0</td>\n",
       "      <td>66.2</td>\n",
       "      <td>25.5</td>\n",
       "    </tr>\n",
       "    <tr>\n",
       "      <th>197</th>\n",
       "      <td>199</td>\n",
       "      <td>232.1</td>\n",
       "      <td>8.6</td>\n",
       "      <td>8.7</td>\n",
       "      <td>13.4</td>\n",
       "    </tr>\n",
       "  </tbody>\n",
       "</table>\n",
       "<p>198 rows × 5 columns</p>\n",
       "</div>"
      ],
      "text/plain": [
       "     index     TV  radio  newspaper  sales\n",
       "0        0  230.1   37.8       69.2   22.1\n",
       "1        1   44.5   39.3       45.1   10.4\n",
       "2        2   17.2   45.9       69.3    9.3\n",
       "3        3  151.5   41.3       58.5   18.5\n",
       "4        4  180.8   10.8       58.4   12.9\n",
       "..     ...    ...    ...        ...    ...\n",
       "193    195   38.2    3.7       13.8    7.6\n",
       "194    196   94.2    4.9        8.1    9.7\n",
       "195    197  177.0    9.3        6.4   12.8\n",
       "196    198  283.6   42.0       66.2   25.5\n",
       "197    199  232.1    8.6        8.7   13.4\n",
       "\n",
       "[198 rows x 5 columns]"
      ]
     },
     "execution_count": 33,
     "metadata": {},
     "output_type": "execute_result"
    }
   ],
   "source": [
    "data1.reset_index()       # reseting the index"
   ]
  },
  {
   "cell_type": "code",
   "execution_count": 34,
   "id": "8ce8e1e9",
   "metadata": {},
   "outputs": [
    {
     "data": {
      "image/png": "[encoded data removed]",
      "text/plain": [
       "<Figure size 432x288 with 1 Axes>"
      ]
     },
     "metadata": {
      "needs_background": "light"
     },
     "output_type": "display_data"
    }
   ],
   "source": [
    "# checking for correlation between total sulfur dioxide and free sulphur dioxide\n",
    "plt.scatter((data['newspaper']), data['radio'])\n",
    "plt.ylabel('radio')\n",
    "plt.xlabel('newspaper')\n",
    "plt.title('newspaper and radio')\n",
    "plt.show()"
   ]
  },
  {
   "cell_type": "markdown",
   "id": "6a2d21ad",
   "metadata": {},
   "source": [
    "we cannot define proper correlation between them, the data is all over place."
   ]
  },
  {
   "cell_type": "code",
   "execution_count": 35,
   "id": "876a3087",
   "metadata": {},
   "outputs": [
    {
     "data": {
      "text/plain": [
       "(198, 4)"
      ]
     },
     "execution_count": 35,
     "metadata": {},
     "output_type": "execute_result"
    }
   ],
   "source": [
    "\n",
    "data1.shape"
   ]
  },
  {
   "cell_type": "code",
   "execution_count": 36,
   "id": "30274100",
   "metadata": {},
   "outputs": [
    {
     "data": {
      "text/plain": [
       "TV          -0.082332\n",
       "radio        0.114842\n",
       "newspaper    0.650112\n",
       "sales        0.407130\n",
       "dtype: float64"
      ]
     },
     "execution_count": 36,
     "metadata": {},
     "output_type": "execute_result"
    }
   ],
   "source": [
    "#checking for skewness\n",
    "data1.skew()"
   ]
  },
  {
   "cell_type": "markdown",
   "id": "67043801",
   "metadata": {},
   "source": [
    "From above we can see that newspaper data has some skewness, for this we can use log transform or boxcox to remove skewness of this column."
   ]
  },
  {
   "cell_type": "code",
   "execution_count": 37,
   "id": "b19aeaee",
   "metadata": {},
   "outputs": [
    {
     "data": {
      "text/plain": [
       "TV           0\n",
       "radio        0\n",
       "newspaper    0\n",
       "sales        0\n",
       "dtype: int64"
      ]
     },
     "execution_count": 37,
     "metadata": {},
     "output_type": "execute_result"
    }
   ],
   "source": [
    "data1.isnull().sum()"
   ]
  },
  {
   "cell_type": "code",
   "execution_count": 38,
   "id": "6251f477",
   "metadata": {},
   "outputs": [
    {
     "data": {
      "text/plain": [
       "-0.08965131635982791"
      ]
     },
     "execution_count": 38,
     "metadata": {},
     "output_type": "execute_result"
    }
   ],
   "source": [
    "# removing the skewness from newspaper data using boxcox\n",
    "from scipy import stats\n",
    "news_boxcox=stats.boxcox(data['newspaper'])[0]\n",
    "pd.Series(news_boxcox).skew()"
   ]
  },
  {
   "cell_type": "code",
   "execution_count": 39,
   "id": "268090a0",
   "metadata": {},
   "outputs": [
    {
     "data": {
      "text/html": [
       "<div>\n",
       "<style scoped>\n",
       "    .dataframe tbody tr th:only-of-type {\n",
       "        vertical-align: middle;\n",
       "    }\n",
       "\n",
       "    .dataframe tbody tr th {\n",
       "        vertical-align: top;\n",
       "    }\n",
       "\n",
       "    .dataframe thead th {\n",
       "        text-align: right;\n",
       "    }\n",
       "</style>\n",
       "<table border=\"1\" class=\"dataframe\">\n",
       "  <thead>\n",
       "    <tr style=\"text-align: right;\">\n",
       "      <th></th>\n",
       "      <th>TV</th>\n",
       "      <th>radio</th>\n",
       "      <th>newspaper</th>\n",
       "      <th>sales</th>\n",
       "    </tr>\n",
       "  </thead>\n",
       "  <tbody>\n",
       "    <tr>\n",
       "      <th>0</th>\n",
       "      <td>230.1</td>\n",
       "      <td>37.8</td>\n",
       "      <td>11.719889</td>\n",
       "      <td>22.1</td>\n",
       "    </tr>\n",
       "    <tr>\n",
       "      <th>1</th>\n",
       "      <td>44.5</td>\n",
       "      <td>39.3</td>\n",
       "      <td>9.400769</td>\n",
       "      <td>10.4</td>\n",
       "    </tr>\n",
       "    <tr>\n",
       "      <th>2</th>\n",
       "      <td>17.2</td>\n",
       "      <td>45.9</td>\n",
       "      <td>11.728438</td>\n",
       "      <td>9.3</td>\n",
       "    </tr>\n",
       "    <tr>\n",
       "      <th>3</th>\n",
       "      <td>151.5</td>\n",
       "      <td>41.3</td>\n",
       "      <td>10.760018</td>\n",
       "      <td>18.5</td>\n",
       "    </tr>\n",
       "    <tr>\n",
       "      <th>4</th>\n",
       "      <td>180.8</td>\n",
       "      <td>10.8</td>\n",
       "      <td>10.750586</td>\n",
       "      <td>12.9</td>\n",
       "    </tr>\n",
       "  </tbody>\n",
       "</table>\n",
       "</div>"
      ],
      "text/plain": [
       "      TV  radio  newspaper  sales\n",
       "0  230.1   37.8  11.719889   22.1\n",
       "1   44.5   39.3   9.400769   10.4\n",
       "2   17.2   45.9  11.728438    9.3\n",
       "3  151.5   41.3  10.760018   18.5\n",
       "4  180.8   10.8  10.750586   12.9"
      ]
     },
     "execution_count": 39,
     "metadata": {},
     "output_type": "execute_result"
    }
   ],
   "source": [
    "data1['newspaper']=pd.Series(news_boxcox)\n",
    "data1.head()"
   ]
  },
  {
   "cell_type": "code",
   "execution_count": 40,
   "id": "84bcdfc4",
   "metadata": {},
   "outputs": [
    {
     "name": "stdout",
     "output_type": "stream",
     "text": [
      "<class 'pandas.core.frame.DataFrame'>\n",
      "Int64Index: 198 entries, 0 to 199\n",
      "Data columns (total 4 columns):\n",
      " #   Column     Non-Null Count  Dtype  \n",
      "---  ------     --------------  -----  \n",
      " 0   TV         198 non-null    float64\n",
      " 1   radio      198 non-null    float64\n",
      " 2   newspaper  198 non-null    float64\n",
      " 3   sales      198 non-null    float64\n",
      "dtypes: float64(4)\n",
      "memory usage: 7.7 KB\n"
     ]
    }
   ],
   "source": [
    "data1.info()"
   ]
  },
  {
   "cell_type": "code",
   "execution_count": 41,
   "id": "dd3756a5",
   "metadata": {},
   "outputs": [
    {
     "data": {
      "text/plain": [
       "TV           0\n",
       "radio        0\n",
       "newspaper    0\n",
       "sales        0\n",
       "dtype: int64"
      ]
     },
     "execution_count": 41,
     "metadata": {},
     "output_type": "execute_result"
    }
   ],
   "source": [
    "data1.isnull().sum()"
   ]
  },
  {
   "cell_type": "code",
   "execution_count": 42,
   "id": "a8bc7cb0",
   "metadata": {},
   "outputs": [
    {
     "data": {
      "image/png": "[encoded data removed]",
      "text/plain": [
       "<Figure size 864x1080 with 4 Axes>"
      ]
     },
     "metadata": {},
     "output_type": "display_data"
    }
   ],
   "source": [
    "#Final visualization of data\n",
    "#let's see how our data is distributed for every coulmn\n",
    "\n",
    "plt.figure(figsize=(12,15), facecolor='white')\n",
    "plotnumber=1\n",
    "\n",
    "for column in data1:\n",
    "    if plotnumber<=4:                           #as there are 4 column in the dataset\n",
    "        ax=plt.subplot(4,4,plotnumber)\n",
    "        sns.distplot(data1[column])\n",
    "        plt.xlabel(column, fontsize=20)\n",
    "        \n",
    "    plotnumber+=1\n",
    "plt.show()"
   ]
  },
  {
   "cell_type": "markdown",
   "id": "ae9c8c54",
   "metadata": {},
   "source": [
    "# Model Building"
   ]
  },
  {
   "cell_type": "code",
   "execution_count": 43,
   "id": "6665b51c",
   "metadata": {},
   "outputs": [],
   "source": [
    "#Separating target and features variables:\n",
    "\n",
    "X = data1.drop('sales', axis = 1) # Input/independent variable\n",
    "y = data1.sales # Target / dependent variable"
   ]
  },
  {
   "cell_type": "code",
   "execution_count": 44,
   "id": "179a8615",
   "metadata": {},
   "outputs": [],
   "source": [
    "#Splitting the data into Train and Validation Set\n",
    "# import train_test_split\n",
    "\n",
    "from sklearn.model_selection import train_test_split\n",
    "# split the data\n",
    "X_train, X_test, y_train, y_test = train_test_split(X,y,test_size=0.3, random_state = 42)\n",
    "\n",
    "# X_train: independent/input feature data for training the model\n",
    "# y_train: dependent/output feature data for training the model\n",
    "# X_test: independent/input feature data for testing the model; will be used to predict the output values\n",
    "# y_test: original dependent/output values of X_test;"
   ]
  },
  {
   "cell_type": "code",
   "execution_count": 45,
   "id": "6de80946",
   "metadata": {},
   "outputs": [
    {
     "data": {
      "text/html": [
       "<div>\n",
       "<style scoped>\n",
       "    .dataframe tbody tr th:only-of-type {\n",
       "        vertical-align: middle;\n",
       "    }\n",
       "\n",
       "    .dataframe tbody tr th {\n",
       "        vertical-align: top;\n",
       "    }\n",
       "\n",
       "    .dataframe thead th {\n",
       "        text-align: right;\n",
       "    }\n",
       "</style>\n",
       "<table border=\"1\" class=\"dataframe\">\n",
       "  <thead>\n",
       "    <tr style=\"text-align: right;\">\n",
       "      <th></th>\n",
       "      <th>TV</th>\n",
       "      <th>radio</th>\n",
       "      <th>newspaper</th>\n",
       "    </tr>\n",
       "  </thead>\n",
       "  <tbody>\n",
       "    <tr>\n",
       "      <th>0</th>\n",
       "      <td>230.1</td>\n",
       "      <td>37.8</td>\n",
       "      <td>11.719889</td>\n",
       "    </tr>\n",
       "    <tr>\n",
       "      <th>1</th>\n",
       "      <td>44.5</td>\n",
       "      <td>39.3</td>\n",
       "      <td>9.400769</td>\n",
       "    </tr>\n",
       "    <tr>\n",
       "      <th>2</th>\n",
       "      <td>17.2</td>\n",
       "      <td>45.9</td>\n",
       "      <td>11.728438</td>\n",
       "    </tr>\n",
       "    <tr>\n",
       "      <th>3</th>\n",
       "      <td>151.5</td>\n",
       "      <td>41.3</td>\n",
       "      <td>10.760018</td>\n",
       "    </tr>\n",
       "    <tr>\n",
       "      <th>4</th>\n",
       "      <td>180.8</td>\n",
       "      <td>10.8</td>\n",
       "      <td>10.750586</td>\n",
       "    </tr>\n",
       "  </tbody>\n",
       "</table>\n",
       "</div>"
      ],
      "text/plain": [
       "      TV  radio  newspaper\n",
       "0  230.1   37.8  11.719889\n",
       "1   44.5   39.3   9.400769\n",
       "2   17.2   45.9  11.728438\n",
       "3  151.5   41.3  10.760018\n",
       "4  180.8   10.8  10.750586"
      ]
     },
     "execution_count": 45,
     "metadata": {},
     "output_type": "execute_result"
    }
   ],
   "source": [
    "X.head()"
   ]
  },
  {
   "cell_type": "code",
   "execution_count": 46,
   "id": "e2f88dbd",
   "metadata": {},
   "outputs": [
    {
     "data": {
      "text/plain": [
       "0    22.1\n",
       "1    10.4\n",
       "2     9.3\n",
       "3    18.5\n",
       "4    12.9\n",
       "Name: sales, dtype: float64"
      ]
     },
     "execution_count": 46,
     "metadata": {},
     "output_type": "execute_result"
    }
   ],
   "source": [
    "y.head()"
   ]
  },
  {
   "cell_type": "code",
   "execution_count": 47,
   "id": "653120ac",
   "metadata": {},
   "outputs": [
    {
     "data": {
      "text/plain": [
       "TV           0\n",
       "radio        0\n",
       "newspaper    0\n",
       "sales        0\n",
       "dtype: int64"
      ]
     },
     "execution_count": 47,
     "metadata": {},
     "output_type": "execute_result"
    }
   ],
   "source": [
    "data1.isnull().sum()  #once again checking the null values "
   ]
  },
  {
   "cell_type": "markdown",
   "id": "592bab92",
   "metadata": {},
   "source": [
    "# Scaling the data"
   ]
  },
  {
   "cell_type": "code",
   "execution_count": 51,
   "id": "605d2d7c",
   "metadata": {},
   "outputs": [],
   "source": [
    "from sklearn.preprocessing import MinMaxScaler\n",
    "scaler=MinMaxScaler()\n",
    "X_scalar=scaler.fit_transform(X)"
   ]
  },
  {
   "cell_type": "markdown",
   "id": "6dc932ae",
   "metadata": {},
   "source": [
    "# Linear Regression"
   ]
  },
  {
   "cell_type": "code",
   "execution_count": 52,
   "id": "3f29b180",
   "metadata": {},
   "outputs": [],
   "source": [
    "\n",
    "from sklearn.linear_model import LinearRegression\n",
    "lr=LinearRegression()\n",
    "from sklearn.metrics import r2_score\n"
   ]
  },
  {
   "cell_type": "code",
   "execution_count": 53,
   "id": "16e9290f",
   "metadata": {},
   "outputs": [
    {
     "name": "stdout",
     "output_type": "stream",
     "text": [
      "At random state 0 the training accuracy is :  {0.8899848081638928}\n",
      "At random state  0 the testing score is :  {0.9106705922805812}\n",
      "\n",
      "\n",
      "At random state 1 the training accuracy is :  {0.8944951937600559}\n",
      "At random state  1 the testing score is :  {0.8916460960835475}\n",
      "\n",
      "\n",
      "At random state 2 the training accuracy is :  {0.9104908870184714}\n",
      "At random state  2 the testing score is :  {0.838557018930199}\n",
      "\n",
      "\n",
      "At random state 3 the training accuracy is :  {0.8945199342392895}\n",
      "At random state  3 the testing score is :  {0.8977065810971957}\n",
      "\n",
      "\n",
      "At random state 4 the training accuracy is :  {0.8979871033718889}\n",
      "At random state  4 the testing score is :  {0.8728152450122314}\n",
      "\n",
      "\n",
      "At random state 5 the training accuracy is :  {0.8992934783620696}\n",
      "At random state  5 the testing score is :  {0.8623276232465955}\n",
      "\n",
      "\n",
      "At random state 6 the training accuracy is :  {0.8991499668600665}\n",
      "At random state  6 the testing score is :  {0.8767789215689907}\n",
      "\n",
      "\n",
      "At random state 7 the training accuracy is :  {0.8909779696047117}\n",
      "At random state  7 the testing score is :  {0.906295649584195}\n",
      "\n",
      "\n",
      "At random state 8 the training accuracy is :  {0.9022648711891762}\n",
      "At random state  8 the testing score is :  {0.8659620106152832}\n",
      "\n",
      "\n",
      "At random state 9 the training accuracy is :  {0.8893923796614767}\n",
      "At random state  9 the testing score is :  {0.9152193161831198}\n",
      "\n",
      "\n",
      "At random state 10 the training accuracy is :  {0.9234950932984751}\n",
      "At random state  10 the testing score is :  {0.7845102882421737}\n",
      "\n",
      "\n",
      "At random state 11 the training accuracy is :  {0.8847431086331771}\n",
      "At random state  11 the testing score is :  {0.9260941642402968}\n",
      "\n",
      "\n",
      "At random state 12 the training accuracy is :  {0.8931841758067999}\n",
      "At random state  12 the testing score is :  {0.9003846394513334}\n",
      "\n",
      "\n",
      "At random state 13 the training accuracy is :  {0.9072929887030333}\n",
      "At random state  13 the testing score is :  {0.8382574607682639}\n",
      "\n",
      "\n",
      "At random state 14 the training accuracy is :  {0.8855730708368769}\n",
      "At random state  14 the testing score is :  {0.913995628379956}\n",
      "\n",
      "\n",
      "At random state 15 the training accuracy is :  {0.8912381234200855}\n",
      "At random state  15 the testing score is :  {0.907936079096267}\n",
      "\n",
      "\n",
      "At random state 16 the training accuracy is :  {0.8902688059355718}\n",
      "At random state  16 the testing score is :  {0.9097501536537728}\n",
      "\n",
      "\n",
      "At random state 17 the training accuracy is :  {0.8886199046126032}\n",
      "At random state  17 the testing score is :  {0.9173775146968062}\n",
      "\n",
      "\n",
      "At random state 18 the training accuracy is :  {0.910599378973925}\n",
      "At random state  18 the testing score is :  {0.8354386371984397}\n",
      "\n",
      "\n",
      "At random state 19 the training accuracy is :  {0.8951687696374758}\n",
      "At random state  19 the testing score is :  {0.8784210259651988}\n",
      "\n",
      "\n",
      "At random state 20 the training accuracy is :  {0.8863913085935262}\n",
      "At random state  20 the testing score is :  {0.9130549409080186}\n",
      "\n",
      "\n",
      "At random state 21 the training accuracy is :  {0.8844805503137603}\n",
      "At random state  21 the testing score is :  {0.928116399096638}\n",
      "\n",
      "\n",
      "At random state 22 the training accuracy is :  {0.8861593578701024}\n",
      "At random state  22 the testing score is :  {0.9278731790033548}\n",
      "\n",
      "\n",
      "At random state 23 the training accuracy is :  {0.8848126513820045}\n",
      "At random state  23 the testing score is :  {0.9294691891462104}\n",
      "\n",
      "\n",
      "At random state 24 the training accuracy is :  {0.8806989109383321}\n",
      "At random state  24 the testing score is :  {0.9472323629968739}\n",
      "\n",
      "\n",
      "At random state 25 the training accuracy is :  {0.8828732159182302}\n",
      "At random state  25 the testing score is :  {0.9375167697305794}\n",
      "\n",
      "\n",
      "At random state 26 the training accuracy is :  {0.9048504478985133}\n",
      "At random state  26 the testing score is :  {0.8199801705035926}\n",
      "\n",
      "\n",
      "At random state 27 the training accuracy is :  {0.9093726715816866}\n",
      "At random state  27 the testing score is :  {0.8219675424738047}\n",
      "\n",
      "\n",
      "At random state 28 the training accuracy is :  {0.9149736080661751}\n",
      "At random state  28 the testing score is :  {0.8247583283141261}\n",
      "\n",
      "\n",
      "At random state 29 the training accuracy is :  {0.9079978574252988}\n",
      "At random state  29 the testing score is :  {0.8428639651830351}\n",
      "\n",
      "\n",
      "At random state 30 the training accuracy is :  {0.9124167267921486}\n",
      "At random state  30 the testing score is :  {0.8256457777967479}\n",
      "\n",
      "\n",
      "At random state 31 the training accuracy is :  {0.8807848928480769}\n",
      "At random state  31 the testing score is :  {0.9322537664034344}\n",
      "\n",
      "\n",
      "At random state 32 the training accuracy is :  {0.8878709581481051}\n",
      "At random state  32 the testing score is :  {0.9175419706180068}\n",
      "\n",
      "\n",
      "At random state 33 the training accuracy is :  {0.8879947915366092}\n",
      "At random state  33 the testing score is :  {0.9168735956330184}\n",
      "\n",
      "\n",
      "At random state 34 the training accuracy is :  {0.8963788907271549}\n",
      "At random state  34 the testing score is :  {0.8824675082929347}\n",
      "\n",
      "\n",
      "At random state 35 the training accuracy is :  {0.8903398692153777}\n",
      "At random state  35 the testing score is :  {0.9152251597021467}\n",
      "\n",
      "\n",
      "At random state 36 the training accuracy is :  {0.8896072319332393}\n",
      "At random state  36 the testing score is :  {0.9128827443295846}\n",
      "\n",
      "\n",
      "At random state 37 the training accuracy is :  {0.8927988293582905}\n",
      "At random state  37 the testing score is :  {0.9087712402083854}\n",
      "\n",
      "\n",
      "At random state 38 the training accuracy is :  {0.8898116170692751}\n",
      "At random state  38 the testing score is :  {0.9171207646376713}\n",
      "\n",
      "\n",
      "At random state 39 the training accuracy is :  {0.9036144407925839}\n",
      "At random state  39 the testing score is :  {0.8559177442184543}\n",
      "\n",
      "\n",
      "At random state 40 the training accuracy is :  {0.8938832306031641}\n",
      "At random state  40 the testing score is :  {0.8932719414471488}\n",
      "\n",
      "\n",
      "At random state 41 the training accuracy is :  {0.8988565081931078}\n",
      "At random state  41 the testing score is :  {0.8664621339864571}\n",
      "\n",
      "\n",
      "At random state 42 the training accuracy is :  {0.8939907846327255}\n",
      "At random state  42 the testing score is :  {0.8972151551338406}\n",
      "\n",
      "\n",
      "At random state 43 the training accuracy is :  {0.9001477744694325}\n",
      "At random state  43 the testing score is :  {0.8753874203280092}\n",
      "\n",
      "\n",
      "At random state 44 the training accuracy is :  {0.9029401669369177}\n",
      "At random state  44 the testing score is :  {0.8130689542296824}\n",
      "\n",
      "\n",
      "At random state 45 the training accuracy is :  {0.8977548114572297}\n",
      "At random state  45 the testing score is :  {0.8751992188658875}\n",
      "\n",
      "\n",
      "At random state 46 the training accuracy is :  {0.8990274479171562}\n",
      "At random state  46 the testing score is :  {0.8749960507470093}\n",
      "\n",
      "\n",
      "At random state 47 the training accuracy is :  {0.8948659694326639}\n",
      "At random state  47 the testing score is :  {0.8922468703001731}\n",
      "\n",
      "\n",
      "At random state 48 the training accuracy is :  {0.9015425823388383}\n",
      "At random state  48 the testing score is :  {0.8682774159722642}\n",
      "\n",
      "\n",
      "At random state 49 the training accuracy is :  {0.9105446453807314}\n",
      "At random state  49 the testing score is :  {0.835079456207641}\n",
      "\n",
      "\n",
      "At random state 50 the training accuracy is :  {0.9010055759304043}\n",
      "At random state  50 the testing score is :  {0.8421843296360533}\n",
      "\n",
      "\n",
      "At random state 51 the training accuracy is :  {0.8932024466709491}\n",
      "At random state  51 the testing score is :  {0.8955325414014114}\n",
      "\n",
      "\n",
      "At random state 52 the training accuracy is :  {0.8947527564585815}\n",
      "At random state  52 the testing score is :  {0.892612843368355}\n",
      "\n",
      "\n",
      "At random state 53 the training accuracy is :  {0.9048883995079272}\n",
      "At random state  53 the testing score is :  {0.8523351737138211}\n",
      "\n",
      "\n",
      "At random state 54 the training accuracy is :  {0.8982289346923964}\n",
      "At random state  54 the testing score is :  {0.8776308603069637}\n",
      "\n",
      "\n",
      "At random state 55 the training accuracy is :  {0.8931667256998448}\n",
      "At random state  55 the testing score is :  {0.8989777636517999}\n",
      "\n",
      "\n",
      "At random state 56 the training accuracy is :  {0.9060587986864799}\n",
      "At random state  56 the testing score is :  {0.8451463262411898}\n",
      "\n",
      "\n",
      "At random state 57 the training accuracy is :  {0.9029537777854656}\n",
      "At random state  57 the testing score is :  {0.8660436648136793}\n",
      "\n",
      "\n",
      "At random state 58 the training accuracy is :  {0.8814929835900962}\n",
      "At random state  58 the testing score is :  {0.9301139336564608}\n",
      "\n",
      "\n",
      "At random state 59 the training accuracy is :  {0.8874902812836396}\n",
      "At random state  59 the testing score is :  {0.9176625402172589}\n",
      "\n",
      "\n",
      "At random state 60 the training accuracy is :  {0.8983681630040268}\n",
      "At random state  60 the testing score is :  {0.8827695907358084}\n",
      "\n",
      "\n",
      "At random state 61 the training accuracy is :  {0.9043381202287526}\n",
      "At random state  61 the testing score is :  {0.8546704959427966}\n",
      "\n",
      "\n"
     ]
    },
    {
     "name": "stdout",
     "output_type": "stream",
     "text": [
      "At random state 62 the training accuracy is :  {0.9006449983970428}\n",
      "At random state  62 the testing score is :  {0.8571532285597983}\n",
      "\n",
      "\n",
      "At random state 63 the training accuracy is :  {0.8940765740028741}\n",
      "At random state  63 the testing score is :  {0.8962746257163472}\n",
      "\n",
      "\n",
      "At random state 64 the training accuracy is :  {0.8861432099059467}\n",
      "At random state  64 the testing score is :  {0.9265451677324819}\n",
      "\n",
      "\n",
      "At random state 65 the training accuracy is :  {0.8978411383918847}\n",
      "At random state  65 the testing score is :  {0.882906229657263}\n",
      "\n",
      "\n",
      "At random state 66 the training accuracy is :  {0.9000601459825528}\n",
      "At random state  66 the testing score is :  {0.8766141387091261}\n",
      "\n",
      "\n",
      "At random state 67 the training accuracy is :  {0.8914962979189618}\n",
      "At random state  67 the testing score is :  {0.905782420213128}\n",
      "\n",
      "\n",
      "At random state 68 the training accuracy is :  {0.9027875212478012}\n",
      "At random state  68 the testing score is :  {0.8645890057538409}\n",
      "\n",
      "\n",
      "At random state 69 the training accuracy is :  {0.8915086314734494}\n",
      "At random state  69 the testing score is :  {0.9061204527936514}\n",
      "\n",
      "\n",
      "At random state 70 the training accuracy is :  {0.883494847271904}\n",
      "At random state  70 the testing score is :  {0.9229617595093029}\n",
      "\n",
      "\n",
      "At random state 71 the training accuracy is :  {0.9093759254211777}\n",
      "At random state  71 the testing score is :  {0.8076778634830832}\n",
      "\n",
      "\n",
      "At random state 72 the training accuracy is :  {0.887941954656372}\n",
      "At random state  72 the testing score is :  {0.9203810945941311}\n",
      "\n",
      "\n",
      "At random state 73 the training accuracy is :  {0.8960918318562074}\n",
      "At random state  73 the testing score is :  {0.8848588508020863}\n",
      "\n",
      "\n",
      "At random state 74 the training accuracy is :  {0.873847984274745}\n",
      "At random state  74 the testing score is :  {0.930326434384542}\n",
      "\n",
      "\n",
      "At random state 75 the training accuracy is :  {0.895395643387487}\n",
      "At random state  75 the testing score is :  {0.8756780832436133}\n",
      "\n",
      "\n",
      "At random state 76 the training accuracy is :  {0.9038757640755765}\n",
      "At random state  76 the testing score is :  {0.8517504346661446}\n",
      "\n",
      "\n",
      "At random state 77 the training accuracy is :  {0.8889435686181931}\n",
      "At random state  77 the testing score is :  {0.9169039118837449}\n",
      "\n",
      "\n",
      "At random state 78 the training accuracy is :  {0.91355269064634}\n",
      "At random state  78 the testing score is :  {0.7899836661526898}\n",
      "\n",
      "\n",
      "At random state 79 the training accuracy is :  {0.89204261466583}\n",
      "At random state  79 the testing score is :  {0.9003827165122332}\n",
      "\n",
      "\n",
      "At random state 80 the training accuracy is :  {0.8927381444393637}\n",
      "At random state  80 the testing score is :  {0.9035040096261644}\n",
      "\n",
      "\n",
      "At random state 81 the training accuracy is :  {0.8877966404881268}\n",
      "At random state  81 the testing score is :  {0.9200165994970969}\n",
      "\n",
      "\n",
      "At random state 82 the training accuracy is :  {0.908799539159053}\n",
      "At random state  82 the testing score is :  {0.8408287533660408}\n",
      "\n",
      "\n",
      "At random state 83 the training accuracy is :  {0.9004403047583931}\n",
      "At random state  83 the testing score is :  {0.8790477369754193}\n",
      "\n",
      "\n",
      "At random state 84 the training accuracy is :  {0.8837472420294951}\n",
      "At random state  84 the testing score is :  {0.9282421531218046}\n",
      "\n",
      "\n",
      "At random state 85 the training accuracy is :  {0.9131406810480847}\n",
      "At random state  85 the testing score is :  {0.7699588854682624}\n",
      "\n",
      "\n",
      "At random state 86 the training accuracy is :  {0.8923972571285151}\n",
      "At random state  86 the testing score is :  {0.9057386334323696}\n",
      "\n",
      "\n",
      "At random state 87 the training accuracy is :  {0.9138092023992255}\n",
      "At random state  87 the testing score is :  {0.8107398642876825}\n",
      "\n",
      "\n",
      "At random state 88 the training accuracy is :  {0.8973421835256741}\n",
      "At random state  88 the testing score is :  {0.8836096921878333}\n",
      "\n",
      "\n",
      "At random state 89 the training accuracy is :  {0.9032225570482875}\n",
      "At random state  89 the testing score is :  {0.8457711256610402}\n",
      "\n",
      "\n",
      "At random state 90 the training accuracy is :  {0.8793470142881711}\n",
      "At random state  90 the testing score is :  {0.9466898110219706}\n",
      "\n",
      "\n",
      "At random state 91 the training accuracy is :  {0.8927605815281859}\n",
      "At random state  91 the testing score is :  {0.8975862456907924}\n",
      "\n",
      "\n",
      "At random state 92 the training accuracy is :  {0.893786912149526}\n",
      "At random state  92 the testing score is :  {0.8933493916754621}\n",
      "\n",
      "\n",
      "At random state 93 the training accuracy is :  {0.9081702408208656}\n",
      "At random state  93 the testing score is :  {0.8444477947586397}\n",
      "\n",
      "\n",
      "At random state 94 the training accuracy is :  {0.9033783105527982}\n",
      "At random state  94 the testing score is :  {0.8685114772393061}\n",
      "\n",
      "\n",
      "At random state 95 the training accuracy is :  {0.9081768616228617}\n",
      "At random state  95 the testing score is :  {0.8477574962074257}\n",
      "\n",
      "\n",
      "At random state 96 the training accuracy is :  {0.902812854497324}\n",
      "At random state  96 the testing score is :  {0.8538190111168107}\n",
      "\n",
      "\n",
      "At random state 97 the training accuracy is :  {0.8943423103974109}\n",
      "At random state  97 the testing score is :  {0.8974576729711651}\n",
      "\n",
      "\n",
      "At random state 98 the training accuracy is :  {0.9084104956017773}\n",
      "At random state  98 the testing score is :  {0.841087129570096}\n",
      "\n",
      "\n",
      "At random state 99 the training accuracy is :  {0.8832536682442808}\n",
      "At random state  99 the testing score is :  {0.9298129836790324}\n",
      "\n",
      "\n"
     ]
    }
   ],
   "source": [
    "for i in range(0,100):\n",
    "    X_train,X_test,y_train,y_test= train_test_split(X_scalar,y,test_size=0.20,random_state=i)\n",
    "    lr.fit(X_train,y_train)\n",
    "    pred_train=lr.predict(X_train)\n",
    "    pred_test= lr.predict(X_test)\n",
    "    print(\"At random state\", i , \"the training accuracy is : \", {r2_score(y_train,pred_train)})\n",
    "    print(\"At random state \", i, \"the testing score is : \", {r2_score(y_test,pred_test)})\n",
    "    print('\\n')"
   ]
  },
  {
   "cell_type": "markdown",
   "id": "e33912e8",
   "metadata": {},
   "source": [
    "from above we can say that at random state of 40,training accuracy and testing score are almost equal. so lets take random state as 40."
   ]
  },
  {
   "cell_type": "code",
   "execution_count": 54,
   "id": "f1103e03",
   "metadata": {},
   "outputs": [
    {
     "name": "stdout",
     "output_type": "stream",
     "text": [
      "0.9152193161831198\n"
     ]
    }
   ],
   "source": [
    "X_train,X_test,y_train,y_test=train_test_split(X_scalar,y,test_size=0.2, random_state=9)\n",
    "lr.fit(X_train,y_train)\n",
    "pred_test=lr.predict(X_test)\n",
    "print(r2_score(y_test,pred_test))\n"
   ]
  },
  {
   "cell_type": "markdown",
   "id": "36fa5e49",
   "metadata": {},
   "source": [
    "The r2 score is pretty decent, before finalizing, lets chcek how other models are performing."
   ]
  },
  {
   "cell_type": "markdown",
   "id": "0d253f1e",
   "metadata": {},
   "source": [
    "# Cross validation"
   ]
  },
  {
   "cell_type": "code",
   "execution_count": 55,
   "id": "92ee4e30",
   "metadata": {},
   "outputs": [
    {
     "name": "stdout",
     "output_type": "stream",
     "text": [
      "At cv fold  2  the Cv score is  0.8896051911811886 and accuracy score for training is  -0.7487013001009017 & test accuracy is 0.9152193161831198\n",
      "\n",
      "\n",
      "At cv fold  3  the Cv score is  0.888960037263154 and accuracy score for training is  -0.7487013001009017 & test accuracy is 0.9152193161831198\n",
      "\n",
      "\n",
      "At cv fold  4  the Cv score is  0.8884850974536356 and accuracy score for training is  -0.7487013001009017 & test accuracy is 0.9152193161831198\n",
      "\n",
      "\n",
      "At cv fold  5  the Cv score is  0.8858383176633795 and accuracy score for training is  -0.7487013001009017 & test accuracy is 0.9152193161831198\n",
      "\n",
      "\n",
      "At cv fold  6  the Cv score is  0.8869205410783539 and accuracy score for training is  -0.7487013001009017 & test accuracy is 0.9152193161831198\n",
      "\n",
      "\n",
      "At cv fold  7  the Cv score is  0.8840894975214749 and accuracy score for training is  -0.7487013001009017 & test accuracy is 0.9152193161831198\n",
      "\n",
      "\n",
      "At cv fold  8  the Cv score is  0.8883306970312481 and accuracy score for training is  -0.7487013001009017 & test accuracy is 0.9152193161831198\n",
      "\n",
      "\n",
      "At cv fold  9  the Cv score is  0.8813000817507386 and accuracy score for training is  -0.7487013001009017 & test accuracy is 0.9152193161831198\n",
      "\n",
      "\n"
     ]
    }
   ],
   "source": [
    "train_accuracy=r2_score(y_train,pred_train)\n",
    "test_accuracy=r2_score(y_test,pred_test)\n",
    "\n",
    "from sklearn.model_selection import cross_val_score\n",
    "for j in range(2,10):\n",
    "    \n",
    "    cv_score=cross_val_score(lr,X_scalar,y,cv=j)\n",
    "    cv_mean=cv_score.mean()\n",
    "    print(\"At cv fold \", j, \" the Cv score is \", cv_mean, \"and accuracy score for training is \", train_accuracy, \"& test accuracy is\", test_accuracy)\n",
    "    print('\\n')"
   ]
  },
  {
   "cell_type": "markdown",
   "id": "0ebb8c22",
   "metadata": {},
   "source": [
    "from above we can see that cv has not much impact on accuracy so we can select 2."
   ]
  },
  {
   "cell_type": "code",
   "execution_count": 56,
   "id": "950ecaf4",
   "metadata": {},
   "outputs": [
    {
     "data": {
      "image/png": "[encoded data removed]",
      "text/plain": [
       "<Figure size 576x432 with 1 Axes>"
      ]
     },
     "metadata": {
      "needs_background": "light"
     },
     "output_type": "display_data"
    }
   ],
   "source": [
    "# here we have handled the problem of overfitting by checking the training and testing score\n",
    "\n",
    "import matplotlib.pyplot as plt\n",
    "plt.figure(figsize=(8,6))\n",
    "plt.scatter(x=y_test, y=pred_test, color='r')\n",
    "plt.plot(y_test,y_test, color='b')\n",
    "plt.xlabel('Actual value of Rings', fontsize=14)\n",
    "plt.ylabel('Predicted value', fontsize= 14)\n",
    "plt.title('Linear regression', fontsize=18)\n",
    "plt.show()"
   ]
  },
  {
   "cell_type": "markdown",
   "id": "a4b1944b",
   "metadata": {},
   "source": [
    "# Regularization:"
   ]
  },
  {
   "cell_type": "code",
   "execution_count": 57,
   "id": "abf89402",
   "metadata": {},
   "outputs": [
    {
     "name": "stdout",
     "output_type": "stream",
     "text": [
      "{'alpha': 0.01, 'random_state': 0}\n"
     ]
    }
   ],
   "source": [
    "from sklearn.model_selection import GridSearchCV\n",
    "from sklearn.linear_model import Lasso\n",
    "parameters= {'alpha': [.0001,.001,.01,.1,1,10], 'random_state': list(range(0,10))\"C R CONSTRUCTION FRESH PROPOSAL.doc\"}\n",
    "ls=Lasso()\n",
    "clf=GridSearchCV(ls,parameters)\n",
    "clf.fit(X_train,y_train)\n",
    "print(clf.best_params_)"
   ]
  },
  {
   "cell_type": "code",
   "execution_count": 65,
   "id": "87f50e4c",
   "metadata": {},
   "outputs": [
    {
     "name": "stdout",
     "output_type": "stream",
     "text": [
      "R2 score of Lasso is :  0.9182923537091989\n",
      "Root Mean Squared Error is:  1.4773675882698367\n"
     ]
    }
   ],
   "source": [
    "ls=Lasso(alpha= 0.01, random_state=0)\n",
    "ls.fit(X_train,y_train)\n",
    "ls.score(X_train,y_train)\n",
    "pred_ls=ls.predict(X_test)\n",
    "\n",
    "lss=r2_score(y_test, pred_ls)\n",
    "print(\"R2 score of Lasso is : \",lss)\n",
    "\n",
    "# import mean squared error from sklearn.metric\n",
    "from sklearn.metrics import mean_squared_error\n",
    "print('Root Mean Squared Error is: ', np.sqrt(mean_squared_error(y_test, pred_ls)))"
   ]
  },
  {
   "cell_type": "markdown",
   "id": "4476a27c",
   "metadata": {},
   "source": [
    "# Ensemble technique"
   ]
  },
  {
   "cell_type": "code",
   "execution_count": 59,
   "id": "19fa3528",
   "metadata": {},
   "outputs": [
    {
     "name": "stdout",
     "output_type": "stream",
     "text": [
      "{'criterion': 'mae', 'max_features': 'auto'}\n"
     ]
    }
   ],
   "source": [
    "from sklearn.ensemble import RandomForestRegressor\n",
    "\n",
    "parameters= {'criterion':['mse', 'mae'],'max_features':['auto','sqrt','log2']}\n",
    "rf=RandomForestRegressor()\n",
    "clf=GridSearchCV(rf,parameters)\n",
    "clf.fit(X_train,y_train)\n",
    "print(clf.best_params_)"
   ]
  },
  {
   "cell_type": "code",
   "execution_count": 61,
   "id": "2854e753",
   "metadata": {},
   "outputs": [
    {
     "name": "stdout",
     "output_type": "stream",
     "text": [
      "R2 score is :  0.9871938042100619\n",
      "Cross validation score is :  0.9780267940006802\n"
     ]
    }
   ],
   "source": [
    "rf=RandomForestRegressor(criterion='mae', max_features='auto')\n",
    "rf.fit(X_train,y_train)\n",
    "rf.score(X_train,y_train)\n",
    "pred_rf=rf.predict(X_test)\n",
    "\n",
    "rfs=r2_score(y_test, pred_rf)\n",
    "print('R2 score is : ',rfs)\n",
    "\n",
    "rfscore=cross_val_score(rf,X,y,cv=7)\n",
    "rfc=rfscore.mean()\n",
    "print('Cross validation score is : ', rfc)"
   ]
  },
  {
   "cell_type": "code",
   "execution_count": null,
   "id": "6d5e0af9",
   "metadata": {},
   "outputs": [],
   "source": []
  },
  {
   "cell_type": "code",
   "execution_count": null,
   "id": "412967da",
   "metadata": {},
   "outputs": [],
   "source": []
  },
  {
   "cell_type": "code",
   "execution_count": null,
   "id": "63c55853",
   "metadata": {},
   "outputs": [],
   "source": []
  },
  {
   "cell_type": "markdown",
   "id": "9627fdc2",
   "metadata": {},
   "source": [
    "# saving model"
   ]
  },
  {
   "cell_type": "code",
   "execution_count": 66,
   "id": "5ec3d193",
   "metadata": {},
   "outputs": [],
   "source": [
    "# saving best performing model\n",
    "import pickle\n",
    "filename= \"advertising.pkl\"\n",
    "pickle.dump(rf, open(filename, 'wb'))"
   ]
  },
  {
   "cell_type": "code",
   "execution_count": null,
   "id": "1b791f4d",
   "metadata": {},
   "outputs": [],
   "source": []
  }
 ],
 "metadata": {
  "kernelspec": {
   "display_name": "Python 3 (ipykernel)",
   "language": "python",
   "name": "python3"
  },
  "language_info": {
   "codemirror_mode": {
    "name": "ipython",
    "version": 3
   },
   "file_extension": ".py",
   "mimetype": "text/x-python",
   "name": "python",
   "nbconvert_exporter": "python",
   "pygments_lexer": "ipython3",
   "version": "3.9.12"
  }
 },
 "nbformat": 4,
 "nbformat_minor": 5
}
